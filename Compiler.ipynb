{
 "cells": [
  {
   "cell_type": "code",
   "execution_count": 1,
   "metadata": {},
   "outputs": [],
   "source": [
    "import os\n",
    "import pandas as pd"
   ]
  },
  {
   "cell_type": "code",
   "execution_count": 2,
   "metadata": {},
   "outputs": [],
   "source": [
    "def get_folder_dict(path):\n",
    "    # get the subfolder directories (year-month)\n",
    "    dir_list = os.listdir(path)\n",
    "    dir_list.sort()\n",
    "\n",
    "    if '.DS_Store' in dir_list:\n",
    "        dir_list.remove('.DS_Store')\n",
    "\n",
    "    # create dictionary with files per subfolder\n",
    "    dir_dict = dict()\n",
    "\n",
    "    for folder in dir_list:\n",
    "        dir_dict[folder] = os.listdir(path + '/' + folder)\n",
    "        \n",
    "    return dir_dict"
   ]
  },
  {
   "cell_type": "code",
   "execution_count": 3,
   "metadata": {},
   "outputs": [],
   "source": [
    "def compiler_by_force(path, force, target_path):\n",
    "    ''' Exports three csv files with the compiled data for the selected force'''\n",
    "    # create dictionary with files per subfolder\n",
    "    dir_dict = get_folder_dict(path)\n",
    "    \n",
    "    # create three list of paths for the street, outcomes and stop and search data of the selected force\n",
    "    force_street_paths = []\n",
    "    force_outcomes_paths = []\n",
    "    force_stop_and_search_paths = []\n",
    "    anomalies_paths = []\n",
    "\n",
    "    for key in dir_dict:\n",
    "        for item in dir_dict[key]:\n",
    "            if force in item:\n",
    "                if 'street' in item:\n",
    "                    force_street_paths.append(key + '/' + item)\n",
    "                elif 'outcomes' in item:\n",
    "                    force_outcomes_paths.append(key + '/' + item)\n",
    "                elif 'stop-and-search' in item:\n",
    "                    force_stop_and_search_paths.append(key + '/' + item)\n",
    "                else:\n",
    "                    anomalies_paths.append(key + '/' + item)\n",
    "    \n",
    "    # create three dataframes for the street, outcomes and stop and search data of the selected force\n",
    "    df_force_street = pd.DataFrame()\n",
    "    df_force_outcomes = pd.DataFrame()\n",
    "    df_force_stop_and_search = pd.DataFrame()\n",
    "\n",
    "    for path_extension in force_street_paths:\n",
    "        df = pd.read_csv(path + '/' + path_extension)\n",
    "        df_force_street = pd.concat([df_force_street, df])\n",
    "    print('Compiled ' + str(len(force_street_paths)) + ' number of street files')\n",
    "\n",
    "    for path_extension in force_outcomes_paths:\n",
    "        df = pd.read_csv(path + '/' + path_extension)\n",
    "        df_force_outcomes = pd.concat([df_force_outcomes, df])\n",
    "    print('Compiled ' + str(len(force_outcomes_paths)) + ' number of outcomes files')\n",
    "\n",
    "    for path_extension in force_stop_and_search_paths:\n",
    "        df = pd.read_csv(path + '/' + path_extension)\n",
    "        df_force_stop_and_search = pd.concat([df_force_stop_and_search, df])\n",
    "    print('Compiled ' + str(len(force_stop_and_search_paths)) + ' number of stop and search files')\n",
    "    \n",
    "    # export the three dataframes to csv    \n",
    "    df_force_street.to_csv(target_path + '/' + force + '_street.csv')\n",
    "    df_force_outcomes.to_csv(target_path + '/' + force + '_outcomes.csv')\n",
    "    df_force_stop_and_search.to_csv(target_path + '/' + force + '_stop_and_search.csv')"
   ]
  },
  {
   "cell_type": "code",
   "execution_count": 4,
   "metadata": {},
   "outputs": [],
   "source": [
    "def get_all_force_names(path):\n",
    "    # create dictionary with files per subfolder\n",
    "    dir_dict = get_folder_dict(path)\n",
    "    force_list = []\n",
    "    for key in dir_dict:\n",
    "        for item in dir_dict[key]:\n",
    "            if 'stop-and-search' in item:\n",
    "                force = '-'.join(item.split('.')[0][8:].split('-')[:-3])\n",
    "            else:\n",
    "                force = '-'.join(item.split('.')[0][8:].split('-')[:-1])\n",
    "            if force not in force_list:\n",
    "                force_list.append(force)\n",
    "    return force_list\n",
    "    "
   ]
  },
  {
   "cell_type": "code",
   "execution_count": 5,
   "metadata": {},
   "outputs": [],
   "source": [
    "def compile_all_forces(path, target_path):\n",
    "    force_list = get_all_force_names(path)\n",
    "    for force in force_list:\n",
    "        compiler_by_force(path, force, target_path)\n",
    "        print('Compiled data for ' + force)"
   ]
  },
  {
   "cell_type": "code",
   "execution_count": 6,
   "metadata": {},
   "outputs": [
    {
     "name": "stdout",
     "output_type": "stream",
     "text": [
      "Compiled 131 number of street files\n",
      "Compiled 118 number of outcomes files\n",
      "Compiled 78 number of stop and search files\n"
     ]
    }
   ],
   "source": [
    "path = '/Users/MoshaLangerak_1/Library/Mobile Documents/com~apple~CloudDocs/Universiteit/Bachelor/Year 2/Q3/Data Challenge 2/Jan_2010_Oct_2021'\n",
    "target_path = '/Users/MoshaLangerak_1/Library/Mobile Documents/com~apple~CloudDocs/Universiteit/Bachelor/Year 2/Q3/Data Challenge 2/Data'\n",
    "force = 'city-of-london'\n",
    "compiler_by_force(path, force, target_path)"
   ]
  },
  {
   "cell_type": "code",
   "execution_count": 7,
   "metadata": {},
   "outputs": [
    {
     "name": "stdout",
     "output_type": "stream",
     "text": [
      "Compiled 131 number of street files\n",
      "Compiled 118 number of outcomes files\n",
      "Compiled 79 number of stop and search files\n",
      "Compiled data for durham\n",
      "Compiled 131 number of street files\n",
      "Compiled 118 number of outcomes files\n",
      "Compiled 83 number of stop and search files\n",
      "Compiled data for west-mercia\n",
      "Compiled 131 number of street files\n",
      "Compiled 118 number of outcomes files\n",
      "Compiled 83 number of stop and search files\n",
      "Compiled data for north-yorkshire\n",
      "Compiled 131 number of street files\n",
      "Compiled 118 number of outcomes files\n",
      "Compiled 81 number of stop and search files\n",
      "Compiled data for staffordshire\n",
      "Compiled 131 number of street files\n",
      "Compiled 118 number of outcomes files\n",
      "Compiled 83 number of stop and search files\n",
      "Compiled data for warwickshire\n",
      "Compiled 124 number of street files\n",
      "Compiled 111 number of outcomes files\n",
      "Compiled 76 number of stop and search files\n",
      "Compiled data for west-midlands\n",
      "Compiled 131 number of street files\n",
      "Compiled 118 number of outcomes files\n",
      "Compiled 80 number of stop and search files\n",
      "Compiled data for hampshire\n",
      "Compiled 131 number of street files\n",
      "Compiled 118 number of outcomes files\n"
     ]
    },
    {
     "name": "stderr",
     "output_type": "stream",
     "text": [
      "<ipython-input-3-1bd68c92baeb>:41: FutureWarning: Behavior when concatenating bool-dtype and numeric-dtype arrays is deprecated; in a future version these will cast to object dtype (instead of coercing bools to numeric values). To retain the old behavior, explicitly cast bool-dtype arrays to numeric dtype.\n",
      "  df_force_stop_and_search = pd.concat([df_force_stop_and_search, df])\n"
     ]
    },
    {
     "name": "stdout",
     "output_type": "stream",
     "text": [
      "Compiled 79 number of stop and search files\n",
      "Compiled data for essex\n",
      "Compiled 131 number of street files\n",
      "Compiled 118 number of outcomes files\n",
      "Compiled 82 number of stop and search files\n",
      "Compiled data for west-yorkshire\n",
      "Compiled 131 number of street files\n",
      "Compiled 118 number of outcomes files\n",
      "Compiled 79 number of stop and search files\n",
      "Compiled data for gloucestershire\n",
      "Compiled 131 number of street files\n",
      "Compiled 118 number of outcomes files\n",
      "Compiled 79 number of stop and search files\n",
      "Compiled data for bedfordshire\n",
      "Compiled 131 number of street files\n",
      "Compiled 118 number of outcomes files\n",
      "Compiled 80 number of stop and search files\n",
      "Compiled data for south-yorkshire\n",
      "Compiled 131 number of street files\n",
      "Compiled 118 number of outcomes files\n",
      "Compiled 82 number of stop and search files\n",
      "Compiled data for dyfed-powys\n",
      "Compiled 131 number of street files\n",
      "Compiled 118 number of outcomes files\n",
      "Compiled 80 number of stop and search files\n",
      "Compiled data for northumbria\n",
      "Compiled 131 number of street files\n",
      "Compiled 118 number of outcomes files\n",
      "Compiled 75 number of stop and search files\n",
      "Compiled data for cambridgeshire\n",
      "Compiled 131 number of street files\n",
      "Compiled 118 number of outcomes files\n"
     ]
    },
    {
     "name": "stderr",
     "output_type": "stream",
     "text": [
      "<ipython-input-3-1bd68c92baeb>:41: FutureWarning: Behavior when concatenating bool-dtype and numeric-dtype arrays is deprecated; in a future version these will cast to object dtype (instead of coercing bools to numeric values). To retain the old behavior, explicitly cast bool-dtype arrays to numeric dtype.\n",
      "  df_force_stop_and_search = pd.concat([df_force_stop_and_search, df])\n"
     ]
    },
    {
     "name": "stdout",
     "output_type": "stream",
     "text": [
      "Compiled 79 number of stop and search files\n",
      "Compiled data for humberside\n",
      "Compiled 131 number of street files\n",
      "Compiled 118 number of outcomes files\n",
      "Compiled 80 number of stop and search files\n",
      "Compiled data for hertfordshire\n",
      "Compiled 131 number of street files\n",
      "Compiled 118 number of outcomes files\n",
      "Compiled 78 number of stop and search files\n",
      "Compiled data for wiltshire\n",
      "Compiled 103 number of street files\n",
      "Compiled 90 number of outcomes files\n",
      "Compiled 54 number of stop and search files\n",
      "Compiled data for greater-manchester\n",
      "Compiled 131 number of street files\n",
      "Compiled 118 number of outcomes files\n",
      "Compiled 55 number of stop and search files\n",
      "Compiled data for lincolnshire\n",
      "Compiled 131 number of street files\n",
      "Compiled 118 number of outcomes files\n",
      "Compiled 67 number of stop and search files\n",
      "Compiled data for avon-and-somerset\n",
      "Compiled 131 number of street files\n",
      "Compiled 118 number of outcomes files\n",
      "Compiled 74 number of stop and search files\n",
      "Compiled data for cumbria\n",
      "Compiled 131 number of street files\n",
      "Compiled 118 number of outcomes files\n",
      "Compiled 78 number of stop and search files\n",
      "Compiled data for city-of-london\n",
      "Compiled 131 number of street files\n",
      "Compiled 118 number of outcomes files\n",
      "Compiled 78 number of stop and search files\n",
      "Compiled data for lancashire\n",
      "Compiled 131 number of street files\n",
      "Compiled 118 number of outcomes files\n",
      "Compiled 79 number of stop and search files\n",
      "Compiled data for thames-valley\n",
      "Compiled 131 number of street files\n",
      "Compiled 118 number of outcomes files\n",
      "Compiled 81 number of stop and search files\n",
      "Compiled data for northamptonshire\n",
      "Compiled 131 number of street files\n",
      "Compiled 115 number of outcomes files\n",
      "Compiled 76 number of stop and search files\n",
      "Compiled data for gwent\n",
      "Compiled 131 number of street files\n",
      "Compiled 118 number of outcomes files\n",
      "Compiled 79 number of stop and search files\n",
      "Compiled data for south-wales\n",
      "Compiled 131 number of street files\n",
      "Compiled 118 number of outcomes files\n"
     ]
    },
    {
     "name": "stderr",
     "output_type": "stream",
     "text": [
      "<ipython-input-3-1bd68c92baeb>:41: FutureWarning: Behavior when concatenating bool-dtype and numeric-dtype arrays is deprecated; in a future version these will cast to object dtype (instead of coercing bools to numeric values). To retain the old behavior, explicitly cast bool-dtype arrays to numeric dtype.\n",
      "  df_force_stop_and_search = pd.concat([df_force_stop_and_search, df])\n"
     ]
    },
    {
     "name": "stdout",
     "output_type": "stream",
     "text": [
      "Compiled 76 number of stop and search files\n",
      "Compiled data for derbyshire\n",
      "Compiled 131 number of street files\n",
      "Compiled 118 number of outcomes files\n",
      "Compiled 79 number of stop and search files\n",
      "Compiled data for kent\n",
      "Compiled 131 number of street files\n",
      "Compiled 118 number of outcomes files\n",
      "Compiled 82 number of stop and search files\n",
      "Compiled data for suffolk\n",
      "Compiled 131 number of street files\n",
      "Compiled 118 number of outcomes files\n",
      "Compiled 79 number of stop and search files\n",
      "Compiled data for sussex\n",
      "Compiled 131 number of street files\n",
      "Compiled 118 number of outcomes files\n",
      "Compiled 83 number of stop and search files\n",
      "Compiled data for leicestershire\n",
      "Compiled 131 number of street files\n",
      "Compiled 118 number of outcomes files\n",
      "Compiled 78 number of stop and search files\n",
      "Compiled data for nottinghamshire\n",
      "Compiled 131 number of street files\n",
      "Compiled 118 number of outcomes files\n",
      "Compiled 78 number of stop and search files\n",
      "Compiled data for merseyside\n",
      "Compiled 131 number of street files\n",
      "Compiled 118 number of outcomes files\n",
      "Compiled 83 number of stop and search files\n",
      "Compiled data for cleveland\n",
      "Compiled 131 number of street files\n",
      "Compiled 118 number of outcomes files\n",
      "Compiled 82 number of stop and search files\n",
      "Compiled data for norfolk\n",
      "Compiled 131 number of street files\n",
      "Compiled 118 number of outcomes files\n",
      "Compiled 83 number of stop and search files\n",
      "Compiled data for surrey\n",
      "Compiled 131 number of street files\n",
      "Compiled 118 number of outcomes files\n",
      "Compiled 79 number of stop and search files\n",
      "Compiled data for metropolitan\n",
      "Compiled 131 number of street files\n",
      "Compiled 118 number of outcomes files\n",
      "Compiled 73 number of stop and search files\n",
      "Compiled data for devon-and-cornwall\n",
      "Compiled 131 number of street files\n",
      "Compiled 118 number of outcomes files\n",
      "Compiled 79 number of stop and search files\n",
      "Compiled data for cheshire\n",
      "Compiled 131 number of street files\n",
      "Compiled 118 number of outcomes files\n",
      "Compiled 83 number of stop and search files\n",
      "Compiled data for north-wales\n",
      "Compiled 131 number of street files\n",
      "Compiled 118 number of outcomes files\n"
     ]
    },
    {
     "name": "stderr",
     "output_type": "stream",
     "text": [
      "<ipython-input-3-1bd68c92baeb>:41: FutureWarning: Behavior when concatenating bool-dtype and numeric-dtype arrays is deprecated; in a future version these will cast to object dtype (instead of coercing bools to numeric values). To retain the old behavior, explicitly cast bool-dtype arrays to numeric dtype.\n",
      "  df_force_stop_and_search = pd.concat([df_force_stop_and_search, df])\n"
     ]
    },
    {
     "name": "stdout",
     "output_type": "stream",
     "text": [
      "Compiled 83 number of stop and search files\n",
      "Compiled data for dorset\n",
      "Compiled 119 number of street files\n",
      "Compiled 0 number of outcomes files\n",
      "Compiled 79 number of stop and search files\n",
      "Compiled data for btp\n",
      "Compiled 122 number of street files\n",
      "Compiled 0 number of outcomes files\n",
      "Compiled 0 number of stop and search files\n",
      "Compiled data for northern-ireland\n"
     ]
    }
   ],
   "source": [
    "path = '/Users/MoshaLangerak_1/Library/Mobile Documents/com~apple~CloudDocs/Universiteit/Bachelor/Year 2/Q3/Data Challenge 2/Jan_2010_Oct_2021'\n",
    "target_path = '/Users/MoshaLangerak_1/Library/Mobile Documents/com~apple~CloudDocs/Universiteit/Bachelor/Year 2/Q3/Data Challenge 2/Data'\n",
    "compile_all_forces(path, target_path)"
   ]
  }
 ],
 "metadata": {
  "kernelspec": {
   "display_name": "Python 3",
   "language": "python",
   "name": "python3"
  },
  "language_info": {
   "codemirror_mode": {
    "name": "ipython",
    "version": 3
   },
   "file_extension": ".py",
   "mimetype": "text/x-python",
   "name": "python",
   "nbconvert_exporter": "python",
   "pygments_lexer": "ipython3",
   "version": "3.8.5"
  }
 },
 "nbformat": 4,
 "nbformat_minor": 4
}
