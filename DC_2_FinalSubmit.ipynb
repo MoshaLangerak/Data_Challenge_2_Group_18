{
 "cells": [
  {
   "cell_type": "markdown",
   "metadata": {},
   "source": [
    "## Imports"
   ]
  },
  {
   "cell_type": "code",
   "execution_count": null,
   "metadata": {},
   "outputs": [],
   "source": [
    "\n",
    "import pandas as pd\n",
    "import numpy as np\n",
    "import missingno as msno\n",
    "import datetime\n",
    "import matplotlib.pyplot as plt\n",
    "import httpx\n",
    "import json\n",
    "import math\n",
    "import os\n",
    "\n",
    "from tqdm import tqdm\n",
    "\n",
    "import plotly.express as px\n",
    "import plotly.graph_objects as go\n",
    "\n",
    "from sklearn import tree\n",
    "from sklearn.ensemble import RandomForestClassifier\n",
    "import sklearn.preprocessing\n",
    "from sklearn.preprocessing import OneHotEncoder\n",
    "from sklearn.preprocessing import LabelEncoder\n",
    "from sklearn.model_selection import train_test_split\n",
    "from sklearn.metrics import accuracy_score\n",
    "from sklearn.metrics import balanced_accuracy_score\n",
    "\n",
    "from k_means_constrained import KMeansConstrained\n",
    "\n",
    "import pmdarima as pm\n",
    "\n",
    "import xgboost as xgb"
   ]
  },
  {
   "cell_type": "markdown",
   "metadata": {},
   "source": [
    "## Helper functions"
   ]
  },
  {
   "cell_type": "code",
   "execution_count": null,
   "metadata": {},
   "outputs": [],
   "source": [
    "def get_folder_dict(path):\n",
    "    # get the subfolder directories (year-month)\n",
    "    dir_list = os.listdir(path)\n",
    "    dir_list.sort()\n",
    "\n",
    "    if '.DS_Store' in dir_list:\n",
    "        dir_list.remove('.DS_Store')\n",
    "\n",
    "    # create dictionary with files per subfolder\n",
    "    dir_dict = dict()\n",
    "\n",
    "    for folder in dir_list:\n",
    "        dir_dict[folder] = os.listdir(path + '/' + folder)\n",
    "        \n",
    "    return dir_dict"
   ]
  },
  {
   "cell_type": "code",
   "execution_count": null,
   "metadata": {},
   "outputs": [],
   "source": [
    "def compiler_by_force(path, force, target_path):\n",
    "    ''' Exports three csv files with the compiled data for the selected force'''\n",
    "    # create dictionary with files per subfolder\n",
    "    dir_dict = get_folder_dict(path)\n",
    "    \n",
    "    # create three list of paths for the street, outcomes and stop and search data of the selected force\n",
    "    force_street_paths = []\n",
    "    force_outcomes_paths = []\n",
    "    force_stop_and_search_paths = []\n",
    "    anomalies_paths = []\n",
    "\n",
    "    for key in dir_dict:\n",
    "        for item in dir_dict[key]:\n",
    "            if force in item:\n",
    "                if 'street' in item:\n",
    "                    force_street_paths.append(key + '/' + item)\n",
    "                elif 'outcomes' in item:\n",
    "                    force_outcomes_paths.append(key + '/' + item)\n",
    "                elif 'stop-and-search' in item:\n",
    "                    force_stop_and_search_paths.append(key + '/' + item)\n",
    "                else:\n",
    "                    anomalies_paths.append(key + '/' + item)\n",
    "    \n",
    "    # create three dataframes for the street, outcomes and stop and search data of the selected force\n",
    "    df_force_street = pd.DataFrame()\n",
    "    df_force_outcomes = pd.DataFrame()\n",
    "    df_force_stop_and_search = pd.DataFrame()\n",
    "\n",
    "    for path_extension in force_street_paths:\n",
    "        df = pd.read_csv(path + '/' + path_extension)\n",
    "        df_force_street = pd.concat([df_force_street, df])\n",
    "    print('Compiled ' + str(len(force_street_paths)) + ' number of street files')\n",
    "\n",
    "    for path_extension in force_outcomes_paths:\n",
    "        df = pd.read_csv(path + '/' + path_extension)\n",
    "        df_force_outcomes = pd.concat([df_force_outcomes, df])\n",
    "    print('Compiled ' + str(len(force_outcomes_paths)) + ' number of outcomes files')\n",
    "\n",
    "    for path_extension in force_stop_and_search_paths:\n",
    "        df = pd.read_csv(path + '/' + path_extension)\n",
    "        df_force_stop_and_search = pd.concat([df_force_stop_and_search, df])\n",
    "    print('Compiled ' + str(len(force_stop_and_search_paths)) + ' number of stop and search files')\n",
    "    \n",
    "    # export the three dataframes to csv    \n",
    "    df_force_street.to_csv(target_path + '/' + force + '_street.csv')\n",
    "    df_force_outcomes.to_csv(target_path + '/' + force + '_outcomes.csv')\n",
    "    df_force_stop_and_search.to_csv(target_path + '/' + force + '_stop_and_search.csv')"
   ]
  },
  {
   "cell_type": "code",
   "execution_count": null,
   "metadata": {},
   "outputs": [],
   "source": [
    "def get_all_force_names(path):\n",
    "    # create dictionary with files per subfolder\n",
    "    dir_dict = get_folder_dict(path)\n",
    "    force_list = []\n",
    "    for key in dir_dict:\n",
    "        for item in dir_dict[key]:\n",
    "            if 'stop-and-search' in item:\n",
    "                force = '-'.join(item.split('.')[0][8:].split('-')[:-3])\n",
    "            else:\n",
    "                force = '-'.join(item.split('.')[0][8:].split('-')[:-1])\n",
    "            if force not in force_list:\n",
    "                force_list.append(force)\n",
    "    return force_list\n",
    "    "
   ]
  },
  {
   "cell_type": "code",
   "execution_count": null,
   "metadata": {},
   "outputs": [],
   "source": [
    "def compile_all_forces(path, target_path):\n",
    "    force_list = get_all_force_names(path)\n",
    "    for force in force_list:\n",
    "        compiler_by_force(path, force, target_path)\n",
    "        print('Compiled data for ' + force)"
   ]
  },
  {
   "cell_type": "code",
   "execution_count": null,
   "metadata": {},
   "outputs": [],
   "source": [
    "def load_forces(forces):\n",
    "    df_streets = dict()\n",
    "    df_outcomes = dict()\n",
    "    df_stop_and_search = dict()\n",
    "    \n",
    "    for force in forces:\n",
    "        file_path_streets = './Data/force_data/' + force + '_street.csv'\n",
    "        file_path_outcomes = './Data/force_data/' + force + '_outcomes.csv'\n",
    "        file_path_stop_and_search = './Data/force_data/' + force + '_stop_and_search.csv'\n",
    "        \n",
    "        df_streets[force] = pd.read_csv(file_path_streets, low_memory=False)\n",
    "        df_outcomes[force] = pd.read_csv(file_path_outcomes, low_memory=False)\n",
    "        df_stop_and_search[force] = pd.read_csv(file_path_stop_and_search, low_memory=False)\n",
    "        \n",
    "        df_stop_and_search[force]['Datetime'] = pd.to_datetime(df_stop_and_search[force]['Date'])\n",
    "        df_stop_and_search[force]['Date'] = df_stop_and_search[force]['Datetime'].dt.date\n",
    "    \n",
    "    return df_streets, df_outcomes, df_stop_and_search"
   ]
  },
  {
   "cell_type": "code",
   "execution_count": null,
   "metadata": {},
   "outputs": [],
   "source": [
    "def plot_forces_sas(df, forces = []):\n",
    "    df_dates = dict()\n",
    "    plt.figure(figsize=(16, 8), dpi=150)\n",
    "    \n",
    "    if forces == []:\n",
    "        for key in df:\n",
    "            df_dates[key] = df[key]['Date'].value_counts()\n",
    "            df_dates[key].sort_index(inplace=True)\n",
    "            df_dates[key].plot(label=key)\n",
    "    else:\n",
    "        for force in forces:\n",
    "            df_dates[force] = df[force]['Date'].value_counts()\n",
    "            df_dates[force].sort_index(inplace=True)\n",
    "            df_dates[force].plot(label=force)\n",
    "\n",
    "    plt.ylabel('Number of stop and searches')\n",
    "    plt.xlabel('Time')\n",
    "    plt.legend()"
   ]
  },
  {
   "cell_type": "code",
   "execution_count": null,
   "metadata": {},
   "outputs": [],
   "source": [
    "def combine_csvs_in_dir_to_df(dir_name):\n",
    "    df = pd.DataFrame()\n",
    "    for root, directories, files in os.walk(dir_name):\n",
    "        for file in tqdm(files):\n",
    "            df = df.append(pd.read_csv(f'{dir_name}/{file}'))\n",
    "    return df"
   ]
  },
  {
   "cell_type": "code",
   "execution_count": null,
   "metadata": {},
   "outputs": [],
   "source": [
    "def plot_forces_streets(df, forces=[]):\n",
    "    df_months = dict()\n",
    "    plt.figure(figsize=(16, 8), dpi=150)\n",
    "    \n",
    "    if forces == []:\n",
    "        for key in df:\n",
    "            df_months[key] = df[key]['Month'].value_counts()\n",
    "            df_months[key].sort_index(inplace=True)\n",
    "            df_months[key].plot(label=key)\n",
    "    else:\n",
    "        for force in forces:\n",
    "            df_months[force] = df[force]['Month'].value_counts()\n",
    "            df_months[force].sort_index(inplace=True)\n",
    "            df_months[force].plot(label=force)\n",
    "\n",
    "    plt.ylabel('Number of incidents')\n",
    "    plt.xlabel('Months')\n",
    "    plt.legend()"
   ]
  },
  {
   "cell_type": "markdown",
   "metadata": {},
   "source": [
    "## Main"
   ]
  },
  {
   "cell_type": "markdown",
   "metadata": {},
   "source": [
    "### Compiler"
   ]
  },
  {
   "cell_type": "code",
   "execution_count": null,
   "metadata": {},
   "outputs": [],
   "source": [
    "path = './Data/Jan_2010_Oct_2021'\n",
    "target_path = './Data/force_data'\n",
    "force = 'city-of-london'\n",
    "compiler_by_force(path, force, target_path)"
   ]
  },
  {
   "cell_type": "code",
   "execution_count": null,
   "metadata": {},
   "outputs": [],
   "source": [
    "path = './Data/Jan_2010_Oct_2021'\n",
    "target_path = './Data/force_data'\n",
    "compile_all_forces(path, target_path)"
   ]
  },
  {
   "cell_type": "markdown",
   "metadata": {},
   "source": [
    "### EDA"
   ]
  },
  {
   "cell_type": "code",
   "execution_count": null,
   "metadata": {},
   "outputs": [],
   "source": [
    "forces = ['city-of-london', 'metropolitan', 'surrey', 'hertfordshire',\n",
    "          'thames-valley', 'essex', 'kent', 'hampshire', 'bedfordshire']\n",
    "df_streets, df_outcomes, df_stop_and_search = load_forces(forces)"
   ]
  },
  {
   "cell_type": "code",
   "execution_count": null,
   "metadata": {
    "scrolled": true
   },
   "outputs": [],
   "source": [
    "df_streets['city-of-london'].head()"
   ]
  },
  {
   "cell_type": "code",
   "execution_count": null,
   "metadata": {
    "scrolled": true
   },
   "outputs": [],
   "source": [
    "df_streets['metropolitan'].shape, df_outcomes['metropolitan'].shape, df_stop_and_search['metropolitan'].shape"
   ]
  },
  {
   "cell_type": "code",
   "execution_count": null,
   "metadata": {
    "scrolled": false
   },
   "outputs": [],
   "source": [
    "msno.matrix(df_streets['city-of-london'])"
   ]
  },
  {
   "cell_type": "code",
   "execution_count": null,
   "metadata": {
    "scrolled": false
   },
   "outputs": [],
   "source": [
    "plot_forces_streets(df_streets)"
   ]
  },
  {
   "cell_type": "code",
   "execution_count": null,
   "metadata": {
    "scrolled": false
   },
   "outputs": [],
   "source": [
    "forces = ['city-of-london', 'surrey', 'hertfordshire',\n",
    "          'thames-valley', 'essex', 'kent', 'hampshire', 'bedfordshire']\n",
    "plot_forces_streets(df_streets, forces)"
   ]
  },
  {
   "cell_type": "code",
   "execution_count": null,
   "metadata": {
    "scrolled": false
   },
   "outputs": [],
   "source": [
    "plot_forces_sas(df_stop_and_search)"
   ]
  },
  {
   "cell_type": "code",
   "execution_count": null,
   "metadata": {
    "scrolled": false
   },
   "outputs": [],
   "source": [
    "forces = ['city-of-london', 'surrey', 'hertfordshire',\n",
    "          'thames-valley', 'essex', 'kent', 'hampshire', 'bedfordshire']\n",
    "plot_forces_sas(df_stop_and_search, forces)"
   ]
  },
  {
   "cell_type": "code",
   "execution_count": null,
   "metadata": {},
   "outputs": [],
   "source": [
    "import pandas as pd\n",
    "import numpy as np\n",
    "path = 'https://raw.githubusercontent.com/selva86/datasets/master/daily-min-temperatures.csv'\n",
    "df = pd.read_csv(path, parse_dates=['Date'], index_col='Date')\n",
    "df"
   ]
  },
  {
   "cell_type": "code",
   "execution_count": null,
   "metadata": {},
   "outputs": [],
   "source": [
    "def df_to_ts(df):\n",
    "    ts = pd.DataFrame()\n",
    "\n",
    "    ts = df['Month'].value_counts()\n",
    "    ts.sort_index(inplace=True)\n",
    "\n",
    "    return ts"
   ]
  },
  {
   "cell_type": "code",
   "execution_count": null,
   "metadata": {
    "scrolled": false
   },
   "outputs": [],
   "source": [
    "ts = df_to_ts(df_streets['city-of-london'])\n",
    "ts"
   ]
  },
  {
   "cell_type": "code",
   "execution_count": null,
   "metadata": {},
   "outputs": [],
   "source": [
    "from statsmodels.tsa.stattools import kpss\n",
    "from statsmodels.tsa.stattools import adfuller"
   ]
  },
  {
   "cell_type": "code",
   "execution_count": null,
   "metadata": {},
   "outputs": [],
   "source": [
    "def kpss_test(series, **kw):    \n",
    "    statistic, p_value, n_lags, critical_values = kpss(series, **kw)\n",
    "    # Format Output\n",
    "    print(f'KPSS Statistic: {statistic}')\n",
    "    print(f'p-value: {p_value}')\n",
    "    print(f'num lags: {n_lags}')\n",
    "    print('Critial Values:')\n",
    "    for key, value in critical_values.items():\n",
    "        print(f'   {key} : {value}')\n",
    "    print(f'Result: The series is {\"not \" if p_value < 0.05 else \"\"}stationary')"
   ]
  },
  {
   "cell_type": "code",
   "execution_count": null,
   "metadata": {},
   "outputs": [],
   "source": [
    "def adf_test(ts):    \n",
    "    statistic, p_value, n_lags, nobs, critical_values, icbest  = adfuller(ts)\n",
    "    # Format Output\n",
    "    print(f'ADF Statistic: {statistic}')\n",
    "    print(f'p-value: {p_value}')\n",
    "    print('Critial Values:')\n",
    "    for key, value in critical_values.items():\n",
    "        print(f'   {key} : {value}')\n",
    "    print(f'Result: The series is {\"not \" if p_value > 0.05 else \"\"}stationary')"
   ]
  },
  {
   "cell_type": "code",
   "execution_count": null,
   "metadata": {
    "scrolled": true
   },
   "outputs": [],
   "source": [
    "kpss_test(ts)"
   ]
  },
  {
   "cell_type": "code",
   "execution_count": null,
   "metadata": {
    "scrolled": true
   },
   "outputs": [],
   "source": [
    "adf_test(ts)"
   ]
  },
  {
   "cell_type": "code",
   "execution_count": null,
   "metadata": {},
   "outputs": [],
   "source": [
    "outcomes = pd.read_csv(\"./Data/city-of-london/city-of-london_outcomes.csv\") \n",
    "sas = pd.read_csv(\"./Data/city-of-london/city-of-london_stop_and_search.csv\")\n",
    "street = pd.read_csv(\"./Data/city-of-london/city-of-london_street.csv\")"
   ]
  },
  {
   "cell_type": "code",
   "execution_count": null,
   "metadata": {
    "scrolled": true
   },
   "outputs": [],
   "source": [
    "street.groupby(['Month', 'Crime type'])['Crime type'].count().unstack().plot(figsize = (15,8))  "
   ]
  },
  {
   "cell_type": "code",
   "execution_count": null,
   "metadata": {},
   "outputs": [],
   "source": [
    "shop = street[street[\"Crime type\"] == \"Shoplifting\"]\n",
    "shop.groupby(['Month'])['Crime type'].count().plot()"
   ]
  },
  {
   "cell_type": "code",
   "execution_count": null,
   "metadata": {},
   "outputs": [],
   "source": [
    "vio = street[street[\"Crime type\"] == \"Violent crime\"]\n",
    "vio.groupby(['Month'])['Crime type'].count().plot()"
   ]
  },
  {
   "cell_type": "code",
   "execution_count": null,
   "metadata": {},
   "outputs": [],
   "source": [
    "vio = street[street[\"Crime type\"] == \"Violence and sexual offences\"]\n",
    "vio.groupby(['Month'])['Crime type'].count().plot()"
   ]
  },
  {
   "cell_type": "code",
   "execution_count": null,
   "metadata": {},
   "outputs": [],
   "source": [
    "weapon = street[street[\"Crime type\"] == \"Possession of weapons\"]\n",
    "weapon.groupby(['Month'])['Crime type'].count().plot()"
   ]
  },
  {
   "cell_type": "code",
   "execution_count": null,
   "metadata": {},
   "outputs": [],
   "source": [
    "weapon = street[street[\"Crime type\"] == \"Theft from the person\"]\n",
    "weapon.groupby(['Month'])['Crime type'].count().plot()"
   ]
  },
  {
   "cell_type": "code",
   "execution_count": null,
   "metadata": {},
   "outputs": [],
   "source": [
    "drugs = street[street[\"Crime type\"] == \"Drugs\"]\n",
    "drugs.groupby(['Month'])['Crime type'].count().plot()"
   ]
  },
  {
   "cell_type": "code",
   "execution_count": null,
   "metadata": {},
   "outputs": [],
   "source": [
    "street.groupby(['Month', 'LSOA name'])['LSOA code'].count().unstack().plot(figsize = (15,8))  "
   ]
  },
  {
   "cell_type": "code",
   "execution_count": null,
   "metadata": {},
   "outputs": [],
   "source": [
    "arrests = pd.Series(street.groupby(\"Crime type\")[\"Crime type\"].count().sort_values(ascending=False))\n",
    "arrests.plot.bar()"
   ]
  },
  {
   "cell_type": "code",
   "execution_count": null,
   "metadata": {},
   "outputs": [],
   "source": [
    "lsoa = pd.Series(street.groupby(\"LSOA name\")[\"LSOA name\"].count().sort_values(ascending=False))\n",
    "lsoa.plot.bar(figsize = (30, 5))"
   ]
  },
  {
   "cell_type": "code",
   "execution_count": null,
   "metadata": {},
   "outputs": [],
   "source": [
    "verdicts =pd.Series(outcomes.groupby(\"Outcome type\")[\"Outcome type\"].count().sort_values(ascending=False))\n",
    "verdicts.plot.bar()"
   ]
  },
  {
   "cell_type": "code",
   "execution_count": null,
   "metadata": {},
   "outputs": [],
   "source": [
    "outcomessas = pd.Series(sas.groupby(\"Outcome\")[\"Outcome\"].count().sort_values(ascending=False))\n",
    "outcomessas.plot.bar()"
   ]
  },
  {
   "cell_type": "markdown",
   "metadata": {},
   "source": [
    "### Time series"
   ]
  },
  {
   "cell_type": "code",
   "execution_count": null,
   "metadata": {},
   "outputs": [],
   "source": [
    "forces = ['metropolitan', 'city-of-london', 'kent', 'sussex', 'surrey', \n",
    "          'essex', 'hertfordshire', 'thames-valley', 'bedfordshire', 'hampshire']\n",
    "df_streets = load_forces(forces)"
   ]
  },
  {
   "cell_type": "code",
   "execution_count": null,
   "metadata": {},
   "outputs": [],
   "source": [
    "df_streets_all = pd.DataFrame()\n",
    "\n",
    "for key in forces:\n",
    "    df_streets_all = pd.concat([df_streets_all, df_streets[0][key]], ignore_index=True)"
   ]
  },
  {
   "cell_type": "code",
   "execution_count": null,
   "metadata": {
    "scrolled": true
   },
   "outputs": [],
   "source": [
    "df_streets_all.dtypes"
   ]
  },
  {
   "cell_type": "code",
   "execution_count": null,
   "metadata": {},
   "outputs": [],
   "source": [
    "file_path_employment = './Data/2019_employment.csv'\n",
    "df_employment = pd.read_csv(file_path_employment, low_memory=False, sep=';')"
   ]
  },
  {
   "cell_type": "code",
   "execution_count": null,
   "metadata": {
    "scrolled": true
   },
   "outputs": [],
   "source": [
    "df_employment.dtypes"
   ]
  },
  {
   "cell_type": "code",
   "execution_count": null,
   "metadata": {
    "scrolled": false
   },
   "outputs": [],
   "source": [
    "df_employment[df_employment['LSOA Code (2011)'] == 'E01000027']"
   ]
  },
  {
   "cell_type": "code",
   "execution_count": null,
   "metadata": {},
   "outputs": [],
   "source": [
    "df_employment.columns"
   ]
  },
  {
   "cell_type": "code",
   "execution_count": null,
   "metadata": {
    "scrolled": true
   },
   "outputs": [],
   "source": [
    "df_employment[['LSOA Code (2011)', 'Local Authority District code (2019)', 'Local Authority District name (2019)', 'Employment Domain Score']]\n",
    "        "
   ]
  },
  {
   "cell_type": "code",
   "execution_count": null,
   "metadata": {
    "scrolled": false
   },
   "outputs": [],
   "source": [
    "df_streets_all = df_streets_all.merge(df_employment[['LSOA Code (2011)', 'Local Authority District code (2019)', 'Local Authority District name (2019)', 'Employment Domain Score']]\n",
    "        , how = 'left', left_on = 'LSOA code', right_on = 'LSOA Code (2011)')"
   ]
  },
  {
   "cell_type": "code",
   "execution_count": null,
   "metadata": {},
   "outputs": [],
   "source": [
    "df_streets_all = df_streets_all.drop(['LSOA Code (2011)'], axis=1)"
   ]
  },
  {
   "cell_type": "code",
   "execution_count": null,
   "metadata": {},
   "outputs": [],
   "source": [
    "file_path_income = './Data/2019_income.csv'\n",
    "df_income = pd.read_csv(file_path_income, low_memory=False, sep=';')"
   ]
  },
  {
   "cell_type": "code",
   "execution_count": null,
   "metadata": {
    "scrolled": true
   },
   "outputs": [],
   "source": [
    "df_income.dtypes"
   ]
  },
  {
   "cell_type": "code",
   "execution_count": null,
   "metadata": {
    "scrolled": false
   },
   "outputs": [],
   "source": [
    "df_income[df_income['LSOA Code (2011)'] == 'E01000027']"
   ]
  },
  {
   "cell_type": "code",
   "execution_count": null,
   "metadata": {
    "scrolled": true
   },
   "outputs": [],
   "source": [
    "df_income.columns"
   ]
  },
  {
   "cell_type": "code",
   "execution_count": null,
   "metadata": {
    "scrolled": true
   },
   "outputs": [],
   "source": [
    "df_income[['LSOA Code (2011)', 'Income Domain Score', 'IDACI Score', 'IDAOPI Score']]"
   ]
  },
  {
   "cell_type": "code",
   "execution_count": null,
   "metadata": {},
   "outputs": [],
   "source": [
    "df_streets_all = df_streets_all.merge(df_income[['LSOA Code (2011)', 'Income Domain Score', 'IDACI Score', 'IDAOPI Score']], how = 'left', left_on = 'LSOA code', right_on = 'LSOA Code (2011)')"
   ]
  },
  {
   "cell_type": "code",
   "execution_count": null,
   "metadata": {},
   "outputs": [],
   "source": [
    "df_streets_all = df_streets_all.drop(['LSOA Code (2011)'], axis=1)"
   ]
  },
  {
   "cell_type": "code",
   "execution_count": null,
   "metadata": {},
   "outputs": [],
   "source": [
    "df_streets_all.head()"
   ]
  },
  {
   "cell_type": "code",
   "execution_count": null,
   "metadata": {},
   "outputs": [],
   "source": [
    "file_path_police_strength = './Data/police_strength.csv'\n",
    "df_police_strength = pd.read_csv(file_path_police_strength, low_memory=False, sep=';')"
   ]
  },
  {
   "cell_type": "code",
   "execution_count": null,
   "metadata": {
    "scrolled": false
   },
   "outputs": [],
   "source": [
    "df_police_strength.head()"
   ]
  },
  {
   "cell_type": "code",
   "execution_count": null,
   "metadata": {},
   "outputs": [],
   "source": [
    "df_police_strength.dtypes"
   ]
  },
  {
   "cell_type": "code",
   "execution_count": null,
   "metadata": {},
   "outputs": [],
   "source": [
    "df_police_strength.columns"
   ]
  },
  {
   "cell_type": "code",
   "execution_count": null,
   "metadata": {
    "scrolled": true
   },
   "outputs": [],
   "source": [
    "df_police_strength[['force_name', '2019']]"
   ]
  },
  {
   "cell_type": "code",
   "execution_count": null,
   "metadata": {
    "scrolled": true
   },
   "outputs": [],
   "source": [
    "df_streets_all['Reported by'].unique()"
   ]
  },
  {
   "cell_type": "code",
   "execution_count": null,
   "metadata": {},
   "outputs": [],
   "source": [
    "force_conv = {'Metropolitan Police':'Metropolitan Police Service', \n",
    "              'London, City of':'City of London Police',\n",
    "              'Kent':'Kent Police', \n",
    "              'Hampshire':'Hampshire Constabulary',\n",
    "              'Avon & Somerset':'Avon and Somerset Constabulary', \n",
    "              'Sussex':'Sussex Police', \n",
    "              'Surrey':'Surrey Police',\n",
    "              'Essex':'Essex Police',\n",
    "              'Hertfordshire':'Hertfordshire Constabulary',\n",
    "              'Thames Valley':'Thames Valley Police',\n",
    "              'Bedfordshire':'Bedfordshire Police'}"
   ]
  },
  {
   "cell_type": "code",
   "execution_count": null,
   "metadata": {},
   "outputs": [],
   "source": [
    "df_police_strength['force_name'] = df_police_strength['force_name'].map(force_conv, na_action='ignore')"
   ]
  },
  {
   "cell_type": "code",
   "execution_count": null,
   "metadata": {},
   "outputs": [],
   "source": [
    "df_police_strength[df_police_strength['force_name'] == 'Bedfordshire Police']['2003']"
   ]
  },
  {
   "cell_type": "code",
   "execution_count": null,
   "metadata": {},
   "outputs": [],
   "source": [
    "df_streets_all.head()"
   ]
  },
  {
   "cell_type": "code",
   "execution_count": null,
   "metadata": {},
   "outputs": [],
   "source": [
    "for col in df_police_strength.columns[2:]:\n",
    "    df_streets_all = df_streets_all.merge(df_police_strength[['force_name', col]], how = 'left', left_on = 'Reported by', right_on = 'force_name')\n",
    "    df_streets_all = df_streets_all.drop(['force_name'], axis=1)\n",
    "\n",
    "    "
   ]
  },
  {
   "cell_type": "code",
   "execution_count": null,
   "metadata": {},
   "outputs": [],
   "source": [
    "df_streets_all = df_streets_all.merge(df_police_strength[['force_name', '2019']], how = 'left', left_on = 'Reported by', right_on = 'force_name')\n"
   ]
  },
  {
   "cell_type": "code",
   "execution_count": null,
   "metadata": {},
   "outputs": [],
   "source": [
    "df_streets_all = df_streets_all.drop(['force_name'], axis=1)\n"
   ]
  },
  {
   "cell_type": "code",
   "execution_count": null,
   "metadata": {},
   "outputs": [],
   "source": [
    "file_path_police_funding = './Data/police_funding.csv'\n",
    "df_police_funding = pd.read_csv(file_path_police_funding, low_memory=False, sep=';')"
   ]
  },
  {
   "cell_type": "code",
   "execution_count": null,
   "metadata": {
    "scrolled": true
   },
   "outputs": [],
   "source": [
    "df_police_funding"
   ]
  },
  {
   "cell_type": "code",
   "execution_count": null,
   "metadata": {},
   "outputs": [],
   "source": [
    "df_police_funding['Police force'] = df_police_funding['Police force'].map(force_conv, na_action='ignore')"
   ]
  },
  {
   "cell_type": "code",
   "execution_count": null,
   "metadata": {},
   "outputs": [],
   "source": [
    "df_streets_all = df_streets_all.merge(df_police_funding[['Police force', '2018-19']], how = 'left', left_on = 'Reported by', right_on = 'Police force')\n"
   ]
  },
  {
   "cell_type": "code",
   "execution_count": null,
   "metadata": {
    "scrolled": true
   },
   "outputs": [],
   "source": [
    "df_streets_all.head(5)"
   ]
  },
  {
   "cell_type": "code",
   "execution_count": null,
   "metadata": {},
   "outputs": [],
   "source": [
    "df_streets_all = df_streets_all.drop(['Police force'], axis=1)\n"
   ]
  },
  {
   "cell_type": "code",
   "execution_count": null,
   "metadata": {},
   "outputs": [],
   "source": [
    "file_path_population = './Data/2018_population_data.csv'\n",
    "df_population = pd.read_csv(file_path_population, low_memory=False, sep=';')"
   ]
  },
  {
   "cell_type": "code",
   "execution_count": null,
   "metadata": {
    "scrolled": true
   },
   "outputs": [],
   "source": [
    "df_population"
   ]
  },
  {
   "cell_type": "code",
   "execution_count": null,
   "metadata": {},
   "outputs": [],
   "source": [
    "df_streets_all = df_streets_all.merge(df_population[['CODE', 'POPULATION (2018)']], how = 'left', left_on = 'Local Authority District code (2019)', right_on = 'CODE')\n"
   ]
  },
  {
   "cell_type": "code",
   "execution_count": null,
   "metadata": {},
   "outputs": [],
   "source": [
    "df_streets_all.head()"
   ]
  },
  {
   "cell_type": "code",
   "execution_count": null,
   "metadata": {},
   "outputs": [],
   "source": [
    "df_streets_all = df_streets_all.drop(['CODE'], axis=1)\n"
   ]
  },
  {
   "cell_type": "code",
   "execution_count": null,
   "metadata": {},
   "outputs": [],
   "source": [
    "df_streets_all.rename(columns = {'2019':'Police Strength', '2018-19':'Police Funding', 'POPULATION (2018)':'Population'}, inplace = True)\n"
   ]
  },
  {
   "cell_type": "code",
   "execution_count": null,
   "metadata": {},
   "outputs": [],
   "source": [
    "df_2019 = df_streets_all[df_streets_all['Month'].str.contains('2019')]"
   ]
  },
  {
   "cell_type": "code",
   "execution_count": null,
   "metadata": {
    "scrolled": false
   },
   "outputs": [],
   "source": [
    "df_2019.to_csv('./Data/2019_data.csv', index=False)"
   ]
  },
  {
   "cell_type": "markdown",
   "metadata": {},
   "source": [
    "### Choropleth map"
   ]
  },
  {
   "cell_type": "code",
   "execution_count": null,
   "metadata": {},
   "outputs": [],
   "source": [
    "mapbox_access_token = 'pk.eyJ1Ijoia2Npbm5heSIsImEiOiJja3lkMDJhcmUwODJmMm9zMjhob2V1N296In0.ymuiGnyaAIJSFC71UwlZYQ'\n",
    "px.set_mapbox_access_token(mapbox_access_token)"
   ]
  },
  {
   "cell_type": "code",
   "execution_count": null,
   "metadata": {},
   "outputs": [],
   "source": [
    "# Load different datasets\n",
    "df_postcodes = pd.read_csv('./Data/2019_postcodes.csv', low_memory=False)\n",
    "df_postcodes = df_postcodes[df_postcodes['rgn'] == 'E12000007']\n",
    "\n",
    "LSOAS_all_of_london = list(df_postcodes['lsoa11'].unique())\n",
    "\n",
    "df_income = pd.read_csv('./Data/2019_income.csv', low_memory=False)\n",
    "df_income = df_income[df_income[\"LSOA Code (2011)\"].isin(LSOAS_all_of_london)]\n",
    "\n",
    "df_employment = pd.read_csv('./Data/2019_employment.csv', low_memory=False)\n",
    "df_employment = df_employment[df_employment[\"LSOA Code (2011)\"].isin(LSOAS_all_of_london)]\n",
    "\n",
    "df_stop_and_search = pd.read_csv('./Data/2019_city_of_london_stop_and_search.csv').append(pd.read_csv('./Data/2019_metropolitan_stop_and_search.csv'))\n",
    "df_arrests = df_stop_and_search[df_stop_and_search['Outcome linked to object of search'] == True]\n",
    "\n",
    "df_searches = df_stop_and_search[df_stop_and_search['Latitude'].notnull()]\n",
    "df_searches = df_searches[df_searches['Longitude'].notnull()]\n",
    "\n",
    "df_arrests = df_arrests[df_arrests['Latitude'].notnull()]\n",
    "df_arrests = df_arrests[df_arrests['Longitude'].notnull()]"
   ]
  },
  {
   "cell_type": "code",
   "execution_count": null,
   "metadata": {},
   "outputs": [],
   "source": [
    "df_metropolitan_street = combine_csvs_in_dir_to_df('multidata/metropolitan/street')\n",
    "df_metropolitan_street = df_metropolitan_street[df_metropolitan_street[\"LSOA code\"].isin(LSOAS_all_of_london)]\n",
    "\n",
    "df_cityoflondon_street = combine_csvs_in_dir_to_df('multidata/city-of-london/street')\n",
    "df_cityoflondon_street = df_cityoflondon_street[df_cityoflondon_street[\"LSOA code\"].isin(LSOAS_all_of_london)]\n",
    "\n",
    "df_alloflondon_street = df_metropolitan_street.append(df_cityoflondon_street)\n",
    "df_alloflondon_street = df_alloflondon_street.dropna(axis=0, subset=['Crime type'])"
   ]
  },
  {
   "cell_type": "code",
   "execution_count": null,
   "metadata": {},
   "outputs": [],
   "source": [
    "# Group the data\n",
    "df_alloflondon_street_counts = df_alloflondon_street.groupby('LSOA code').size().to_frame('size')\n",
    "df_alloflondon_street_counts.reset_index(level=0, inplace=True)\n",
    "df_alloflondon_street_counts['log(size)'] = df_alloflondon_street_counts['size'].apply(lambda x: math.log(x))\n",
    "df_alloflondon_street_counts = df_alloflondon_street_counts.rename(columns={\"size\": \"Crime rate\", \"log(size)\": \"Crime rate log\"})\n",
    "df_alloflondon_street_counts.head(5)"
   ]
  },
  {
   "cell_type": "code",
   "execution_count": null,
   "metadata": {},
   "outputs": [],
   "source": [
    "# Load GeoJSON file\n",
    "GEOJSON_FULL = json.load(open('Data\\LSOAS_all_of_london.geojson'))"
   ]
  },
  {
   "cell_type": "code",
   "execution_count": null,
   "metadata": {},
   "outputs": [],
   "source": [
    "# Create Mapbox choropleth map"
   ]
  },
  {
   "cell_type": "code",
   "execution_count": null,
   "metadata": {},
   "outputs": [],
   "source": [
    "fig = px.choropleth_mapbox(\n",
    "    df_income,\n",
    "    geojson = GEOJSON_FULL,\n",
    "    locations = 'LSOA Code (2011)',\n",
    "    color = 'Income Domain Rank (where 1 is most deprived)',\n",
    "    color_continuous_scale = \"Viridis\",\n",
    "    mapbox_style = \"carto-positron\",\n",
    "    zoom = 8.6,\n",
    "    center = {\"lat\": 51.49, \"lon\": -0.12},\n",
    "    opacity = 0.9\n",
    ")\n",
    "\n",
    "fig.update_traces(marker_line_width=0)\n",
    "\n",
    "fig.show()"
   ]
  },
  {
   "cell_type": "code",
   "execution_count": null,
   "metadata": {},
   "outputs": [],
   "source": [
    "fig = px.choropleth_mapbox(\n",
    "    df_employment,\n",
    "    geojson = GEOJSON_FULL,\n",
    "    locations = 'LSOA Code (2011)',\n",
    "    color = 'Employment Domain Rank (where 1 is most deprived)',\n",
    "    color_continuous_scale = \"Viridis\",\n",
    "    mapbox_style = \"carto-positron\",\n",
    "    zoom = 8.6,\n",
    "    center = {\"lat\": 51.49, \"lon\": -0.12},\n",
    "    opacity = 0.9\n",
    ")\n",
    "\n",
    "fig.update_traces(marker_line_width=0)\n",
    "\n",
    "fig.show()"
   ]
  },
  {
   "cell_type": "code",
   "execution_count": null,
   "metadata": {},
   "outputs": [],
   "source": [
    "fig = go.Figure(go.Scattermapbox(\n",
    "        lat=list(df_searches['Latitude']),\n",
    "        lon=list(df_searches['Longitude']),\n",
    "        mode='markers',\n",
    "        marker=go.scattermapbox.Marker(\n",
    "            size=2,\n",
    "            opacity=1,\n",
    "            color=\"orange\"\n",
    "        ),\n",
    "        text=list(df_searches['Type']),\n",
    "        name=\"Searches\"\n",
    "    ))\n",
    "\n",
    "fig.add_trace(\n",
    "    go.Scattermapbox(\n",
    "        lat=list(df_arrests['Latitude']),\n",
    "        lon=list(df_arrests['Longitude']),\n",
    "        mode='markers',\n",
    "        marker=go.scattermapbox.Marker(\n",
    "            size=5,\n",
    "            opacity=1,\n",
    "            color=\"blue\"\n",
    "        ),\n",
    "        text=list(df_arrests['Type']),\n",
    "        name=\"Arrests\"\n",
    "    )\n",
    ")\n",
    "\n",
    "fig.update_layout(\n",
    "    hovermode='closest',\n",
    "    mapbox=dict(\n",
    "        accesstoken=mapbox_access_token,\n",
    "        bearing=0,\n",
    "        center=go.layout.mapbox.Center(\n",
    "            lat=51.49,\n",
    "            lon=-0.12\n",
    "        ),\n",
    "        pitch=0,\n",
    "        zoom=8.6\n",
    "    )\n",
    ")\n",
    "\n",
    "fig.show()"
   ]
  },
  {
   "cell_type": "code",
   "execution_count": null,
   "metadata": {},
   "outputs": [],
   "source": [
    "fig = px.choropleth_mapbox(\n",
    "    df_alloflondon_street_counts,\n",
    "    geojson = GEOJSON_FULL,\n",
    "    locations = 'LSOA code',\n",
    "    color = 'Crime rate',\n",
    "    color_continuous_scale = \"Viridis\",\n",
    "    mapbox_style = \"carto-positron\",\n",
    "    zoom = 8.6,\n",
    "    center = {\"lat\": 51.49, \"lon\": -0.12},\n",
    "    opacity = 0.9\n",
    ")\n",
    "\n",
    "fig.update_traces(marker_line_width=0)\n",
    "\n",
    "fig.show()"
   ]
  },
  {
   "cell_type": "code",
   "execution_count": null,
   "metadata": {},
   "outputs": [],
   "source": [
    "fig = px.choropleth_mapbox(\n",
    "    df_alloflondon_street_counts,\n",
    "    geojson = GEOJSON_FULL,\n",
    "    locations = 'LSOA code',\n",
    "    color = 'Crime rate log',\n",
    "    color_continuous_scale = \"Viridis\",\n",
    "    mapbox_style = \"carto-positron\",\n",
    "    zoom = 8.6,\n",
    "    center = {\"lat\": 51.49, \"lon\": -0.12},\n",
    "    opacity = 0.9\n",
    ")\n",
    "\n",
    "fig.update_traces(marker_line_width=0)\n",
    "\n",
    "fig.show()"
   ]
  },
  {
   "cell_type": "markdown",
   "metadata": {},
   "source": [
    "## Models"
   ]
  },
  {
   "cell_type": "markdown",
   "metadata": {},
   "source": [
    "### K-Nearest Neighbors"
   ]
  },
  {
   "cell_type": "code",
   "execution_count": null,
   "metadata": {
    "scrolled": true
   },
   "outputs": [],
   "source": [
    "data =  pd.read_csv('.Data/2019_data.csv', encoding='utf-8', decimal=',')\n",
    "data.shape\n",
    "prob = data"
   ]
  },
  {
   "cell_type": "code",
   "execution_count": null,
   "metadata": {},
   "outputs": [],
   "source": [
    "#to give insight in the crimes per LSOA in 2019\n",
    "crimerate = prob.groupby('LSOA code')['Month'].count()\n",
    "#sum(crimerate.values)\n",
    "crimerate"
   ]
  },
  {
   "cell_type": "code",
   "execution_count": null,
   "metadata": {},
   "outputs": [],
   "source": [
    "#to get the cluster data for each lsoa once\n",
    "prob = prob.drop_duplicates(subset=\"LSOA code\", keep='first')"
   ]
  },
  {
   "cell_type": "code",
   "execution_count": null,
   "metadata": {},
   "outputs": [],
   "source": [
    "#remove the nan values\n",
    "a = prob[prob['Employment Domain Score'].notna()]"
   ]
  },
  {
   "cell_type": "code",
   "execution_count": null,
   "metadata": {},
   "outputs": [],
   "source": [
    "### Get all the features columns except the class\n",
    "features_lst = ['LSOA code','Employment Domain Score','Income Domain Score','IDACI Score','IDAOPI Score','Police Strength',\n",
    "                'Police Funding','Population']\n",
    "\n",
    "\n",
    "### Get the features data\n",
    "data = a[features_lst].reset_index()"
   ]
  },
  {
   "cell_type": "code",
   "execution_count": null,
   "metadata": {},
   "outputs": [],
   "source": [
    "fit_data = data[['Employment Domain Score', 'Income Domain Score',\n",
    "       'IDACI Score', 'IDAOPI Score', 'Police Strength', 'Police Funding',\n",
    "       'Population']]"
   ]
  },
  {
   "cell_type": "code",
   "execution_count": null,
   "metadata": {},
   "outputs": [],
   "source": [
    "#remove the 1.101.360 -> this is not computable to float\n",
    "fit_data['Population'] = fit_data['Population'].replace(['1.101.360'],'1101.360')"
   ]
  },
  {
   "cell_type": "code",
   "execution_count": null,
   "metadata": {},
   "outputs": [],
   "source": [
    "#replace the nan values with the mode of the column\n",
    "for column in fit_data.columns:\n",
    "    fit_data[column].fillna(fit_data[column].mode()[0], inplace=True)"
   ]
  },
  {
   "cell_type": "code",
   "execution_count": null,
   "metadata": {},
   "outputs": [],
   "source": [
    "fit_data"
   ]
  },
  {
   "cell_type": "code",
   "execution_count": null,
   "metadata": {},
   "outputs": [],
   "source": [
    "clf = KMeansConstrained(n_clusters = 50, size_min=250, size_max=800,random_state=0)"
   ]
  },
  {
   "cell_type": "code",
   "execution_count": null,
   "metadata": {},
   "outputs": [],
   "source": [
    "clf.fit(fit_data)"
   ]
  },
  {
   "cell_type": "code",
   "execution_count": null,
   "metadata": {},
   "outputs": [],
   "source": [
    "#make a new dataframe\n",
    "label_data = pd.DataFrame({'LSOA code': data['LSOA code'], 'Cluster': clf.labels_})\n",
    "#label_data"
   ]
  },
  {
   "cell_type": "code",
   "execution_count": null,
   "metadata": {},
   "outputs": [],
   "source": [
    "label_data.sort_values(by=['LSOA code'], inplace = True)\n",
    "label_data['crime numb'] = crimerate.values\n",
    "label_data.groupby('Cluster')['crime numb'].sum().plot(kind ='bar', ylabel='Number of crimes', \n",
    "                                                       title=' Distribution of crimes over the clusters');"
   ]
  },
  {
   "cell_type": "code",
   "execution_count": null,
   "metadata": {},
   "outputs": [],
   "source": [
    "label_data.groupby('Cluster')"
   ]
  },
  {
   "cell_type": "code",
   "execution_count": null,
   "metadata": {},
   "outputs": [],
   "source": [
    "#makes a dataframe for each cluster\n",
    "df = [x for _, x in label_data.groupby('Cluster')]\n",
    "numbcrimes = []\n",
    "for i in df:\n",
    "    numbcrimes.append(i['crime numb'].sum())"
   ]
  },
  {
   "cell_type": "code",
   "execution_count": null,
   "metadata": {},
   "outputs": [],
   "source": [
    "plt.hist(numbcrimes, bins=23)"
   ]
  },
  {
   "cell_type": "code",
   "execution_count": null,
   "metadata": {},
   "outputs": [],
   "source": [
    "cluster1 = df[2]['LSOA code'].values.tolist()\n",
    "#cluster1"
   ]
  },
  {
   "cell_type": "code",
   "execution_count": null,
   "metadata": {},
   "outputs": [],
   "source": [
    "df_street = pd.read_csv('./Data/city-of-london/city-of-london_street.csv')\n",
    "df_street.index = pd.to_datetime(df_street['Month'])\n",
    "df_notna = df_street[df_street['LSOA code'].notna()]"
   ]
  },
  {
   "cell_type": "code",
   "execution_count": null,
   "metadata": {},
   "outputs": [],
   "source": [
    "df_notna = df_notna[df_notna['LSOA code'].isin(cluster1)]"
   ]
  },
  {
   "cell_type": "code",
   "execution_count": null,
   "metadata": {},
   "outputs": [],
   "source": [
    "data = df_notna.groupby(by=[df_notna.index.date])['Month'].count()\n",
    "data"
   ]
  },
  {
   "cell_type": "markdown",
   "metadata": {},
   "source": [
    "### SARIMA"
   ]
  },
  {
   "cell_type": "code",
   "execution_count": null,
   "metadata": {},
   "outputs": [],
   "source": [
    "# split the data into train and testdata and remove the covid data\n",
    "for t in range(0,len(data.index)):\n",
    "    if data.index[t] >= datetime.date(2019, 1, 1):\n",
    "        break\n",
    "for m in range(t+1, len(data.index)):\n",
    "    if data.index[m] >= datetime.date(2020,1,1):\n",
    "        break\n",
    "\n",
    "data_train = data[:t]\n",
    "data_test = data[t:m]"
   ]
  },
  {
   "cell_type": "code",
   "execution_count": null,
   "metadata": {},
   "outputs": [],
   "source": [
    "#plot the train test split\n",
    "sns.lineplot(data=data_train)\n",
    "sns.lineplot(data=data_test);"
   ]
  },
  {
   "cell_type": "code",
   "execution_count": null,
   "metadata": {},
   "outputs": [],
   "source": [
    "# Seasonal - fit stepwise auto-ARIMA\n",
    "Sarima = pm.auto_arima(data_train, start_p=1, start_q=1,\n",
    "                         test='adf',\n",
    "                         max_p=3, max_q=3, m=12,\n",
    "                         start_P=0, seasonal=True,\n",
    "                         d=None, D=1, trace=True,\n",
    "                         error_action='ignore',  \n",
    "                         suppress_warnings=True, \n",
    "                         stepwise=True)\n",
    "\n",
    "Sarima.summary() "
   ]
  },
  {
   "cell_type": "code",
   "execution_count": null,
   "metadata": {},
   "outputs": [],
   "source": [
    "n_periods = 12\n",
    "fitted, confint = Sarima.predict(n_periods=n_periods, return_conf_int=True)\n",
    "index_of_fc = pd.date_range(data_train.index[-1], periods = n_periods, freq='MS')\n",
    "\n",
    "# make series for plotting purpose\n",
    "fitted_series = pd.Series(fitted, index=index_of_fc)\n",
    "lower_series = pd.Series(confint[:, 0], index=index_of_fc)\n",
    "upper_series = pd.Series(confint[:, 1], index=index_of_fc)\n",
    "\n",
    "# Plot\n",
    "plt.plot(data_train)\n",
    "plt.plot(fitted_series, color='darkgreen')\n",
    "plt.fill_between(lower_series.index, \n",
    "                 lower_series, \n",
    "                 upper_series, \n",
    "                 color='k', alpha=.15)\n",
    "\n",
    "plt.title(\"SARIMA model for LSOA E01000001\")\n",
    "plt.plot(data_test)\n",
    "plt.legend()\n",
    "plt.show()"
   ]
  },
  {
   "cell_type": "markdown",
   "metadata": {},
   "source": [
    "### Decision Tree Model"
   ]
  },
  {
   "cell_type": "code",
   "execution_count": null,
   "metadata": {},
   "outputs": [],
   "source": [
    "# Input the 2019 Dataset\n",
    "df = pd.read_csv('./Data/2019_data.csv')"
   ]
  },
  {
   "cell_type": "code",
   "execution_count": null,
   "metadata": {},
   "outputs": [],
   "source": [
    "# Display import\n",
    "df.head(-5)"
   ]
  },
  {
   "cell_type": "code",
   "execution_count": null,
   "metadata": {},
   "outputs": [],
   "source": [
    "# Drop required values that contain NAN\n",
    "df.dropna(subset=['LSOA code', 'Month', 'Location', 'Crime type', 'Longitude', 'Latitude', 'Employment Domain Score',\n",
    "       'Income Domain Score', 'IDACI Score', 'IDAOPI Score', 'Police Strength',\n",
    "       'Police Funding', 'Population'], inplace=True)"
   ]
  },
  {
   "cell_type": "code",
   "execution_count": null,
   "metadata": {},
   "outputs": [],
   "source": [
    "df[df['Month'] == '2019-05']['Crime type'].mode()"
   ]
  },
  {
   "cell_type": "code",
   "execution_count": null,
   "metadata": {},
   "outputs": [],
   "source": [
    "for month in df['Month'].unique():\n",
    "    print(month)\n",
    "    print(df[df['Month'] == month]['Crime type'].mode())"
   ]
  },
  {
   "cell_type": "code",
   "execution_count": null,
   "metadata": {},
   "outputs": [],
   "source": [
    "df.columns"
   ]
  },
  {
   "cell_type": "code",
   "execution_count": null,
   "metadata": {},
   "outputs": [],
   "source": [
    "df.replace(to_replace=\",\", value=\".\", regex=True, inplace=True)"
   ]
  },
  {
   "cell_type": "code",
   "execution_count": null,
   "metadata": {},
   "outputs": [],
   "source": [
    "df['Population'].isnull().sum()"
   ]
  },
  {
   "cell_type": "code",
   "execution_count": null,
   "metadata": {},
   "outputs": [],
   "source": [
    "df['Police Strength'].isnull().sum()"
   ]
  },
  {
   "cell_type": "code",
   "execution_count": null,
   "metadata": {},
   "outputs": [],
   "source": [
    "df['Population'] = df['Population'].str.replace('.', '').fillna(df['Population']*1000)"
   ]
  },
  {
   "cell_type": "code",
   "execution_count": null,
   "metadata": {},
   "outputs": [],
   "source": [
    "df['Police Strength'] = df['Police Strength'].str.replace('.','')"
   ]
  },
  {
   "cell_type": "markdown",
   "metadata": {},
   "source": [
    "#### Crime Type Prediction"
   ]
  },
  {
   "cell_type": "code",
   "execution_count": null,
   "metadata": {},
   "outputs": [],
   "source": [
    "# Encode Desired Values to integers to use in models\n",
    "ohe = LabelEncoder()\n",
    "df['E LSOA code'] = ohe.fit_transform(df['LSOA code'].dropna().values)\n",
    "df['E Month'] = ohe.fit_transform(df['Month'].dropna().values)\n",
    "df['E Location'] = ohe.fit_transform(df['Location'].dropna().values)"
   ]
  },
  {
   "cell_type": "code",
   "execution_count": null,
   "metadata": {},
   "outputs": [],
   "source": [
    "# Create an X and Y\n",
    "X = df[['E LSOA code', 'E Month', 'E Location', 'Longitude', 'Latitude', 'Employment Domain Score',\n",
    "       'Income Domain Score', 'IDACI Score', 'IDAOPI Score', 'Police Strength',\n",
    "       'Police Funding', 'Population']].values\n",
    "Y = df['Crime type'].values"
   ]
  },
  {
   "cell_type": "code",
   "execution_count": null,
   "metadata": {},
   "outputs": [],
   "source": [
    "# Fit Decision Tree on Crime Types and split the dataset in training and data.\n",
    "clf = tree.DecisionTreeClassifier(max_depth=10)\n",
    "X_train, X_test, y_train, y_test = train_test_split(X, Y, test_size=0.1, random_state=42)\n",
    "clf.fit(X_train, y_train)"
   ]
  },
  {
   "cell_type": "code",
   "execution_count": null,
   "metadata": {},
   "outputs": [],
   "source": [
    "# Predictions on Test Set\n",
    "preds = clf.predict(X_test)"
   ]
  },
  {
   "cell_type": "code",
   "execution_count": null,
   "metadata": {},
   "outputs": [],
   "source": [
    "accuracy_score(y_test, preds)"
   ]
  },
  {
   "cell_type": "code",
   "execution_count": null,
   "metadata": {},
   "outputs": [],
   "source": [
    "# Predictions in a Dataframe\n",
    "df_preds = pd.DataFrame()\n",
    "df_preds['y'] = y_test\n",
    "df_preds['pred'] = preds"
   ]
  },
  {
   "cell_type": "code",
   "execution_count": null,
   "metadata": {},
   "outputs": [],
   "source": [
    "df_preds"
   ]
  },
  {
   "cell_type": "code",
   "execution_count": null,
   "metadata": {},
   "outputs": [],
   "source": [
    "# Accuracy\n",
    "len(df_preds.loc[df_preds['y'] == df_preds['pred']]) / len(y_test)"
   ]
  },
  {
   "cell_type": "code",
   "execution_count": null,
   "metadata": {},
   "outputs": [],
   "source": [
    "df_preds['y'].value_counts()"
   ]
  },
  {
   "cell_type": "code",
   "execution_count": null,
   "metadata": {},
   "outputs": [],
   "source": [
    "df_preds['pred'].value_counts()"
   ]
  },
  {
   "cell_type": "code",
   "execution_count": null,
   "metadata": {},
   "outputs": [],
   "source": [
    "balanced_accuracy_score(df_preds['y'].values, df_preds['pred'].values)"
   ]
  },
  {
   "cell_type": "code",
   "execution_count": null,
   "metadata": {},
   "outputs": [],
   "source": [
    "accuracies = {}\n",
    "for crime in df_preds['y'].unique():\n",
    "    crime_y = df_preds.loc[df_preds['y'] == crime, 'y'].values\n",
    "    crime_pred = df_preds.loc[df_preds['y'] == crime, 'pred'].values\n",
    "    acc = round(accuracy_score(crime_y,crime_pred) * 100,2)\n",
    "    accuracies[crime] = acc\n",
    "#     print('Accuracy for {} is {}%'.format(crime,acc))\n",
    "df_crimes = pd.DataFrame.from_dict(accuracies, orient='index').sort_values(0, ascending=False)\n",
    "df_crimes"
   ]
  },
  {
   "cell_type": "code",
   "execution_count": null,
   "metadata": {},
   "outputs": [],
   "source": [
    "counts = {}\n",
    "for crime in df_preds['y'].unique():\n",
    "    c = round((len(df_preds[df_preds['y'] == crime]) / len(df_preds)) *100,2)\n",
    "    counts[crime] = c\n",
    "df_crimes['Relativity'] = df_crimes.index.map(counts)\n",
    "df_crimes"
   ]
  },
  {
   "cell_type": "code",
   "execution_count": null,
   "metadata": {},
   "outputs": [],
   "source": [
    "#df_preds['y'].value_counts().plot(kind='barh')\n",
    "x = [str(x) for x in df_preds['y'].value_counts().sort_index().index.values]\n",
    "y = df_preds['y'].value_counts().sort_index().values\n",
    "y2 = [len(df_preds[df_preds['pred'] == crime]) for crime in x]\n",
    "len(x), len(y), len(y2)"
   ]
  },
  {
   "cell_type": "code",
   "execution_count": null,
   "metadata": {},
   "outputs": [],
   "source": [
    "labels = x\n",
    "men_means = y\n",
    "women_means = y2\n",
    "\n",
    "x = np.arange(len(labels))  # the label locations\n",
    "width = 0.35  # the width of the bars\n",
    "\n",
    "fig, ax = plt.subplots()\n",
    "rects1 = ax.bar(x - width/2, men_means, width, label='Men')\n",
    "rects2 = ax.bar(x + width/2, women_means, width, label='Women')\n",
    "\n",
    "# Add some text for labels, title and custom x-axis tick labels, etc.\n",
    "ax.set_ylabel('Scores')\n",
    "ax.set_title('Scores by group and gender')\n",
    "ax.set_xticklabels(x)\n",
    "ax.legend()\n",
    "\n",
    "# ax.bar_label(rects1, padding=3)\n",
    "# ax.bar_label(rects2, padding=3)\n",
    "\n",
    "fig.tight_layout()\n",
    "\n",
    "plt.show()"
   ]
  },
  {
   "cell_type": "code",
   "execution_count": null,
   "metadata": {},
   "outputs": [],
   "source": [
    "# Plot the Decision Tree\n",
    "tree.plot_tree(clf);"
   ]
  },
  {
   "cell_type": "markdown",
   "metadata": {},
   "source": [
    "### Experimental"
   ]
  },
  {
   "cell_type": "markdown",
   "metadata": {},
   "source": [
    "#### Random Forest"
   ]
  },
  {
   "cell_type": "code",
   "execution_count": null,
   "metadata": {},
   "outputs": [
    {
     "name": "stderr",
     "output_type": "stream",
     "text": [
      "C:\\ProgramData\\Anaconda3\\lib\\site-packages\\IPython\\core\\interactiveshell.py:3296: DtypeWarning: Columns (20) have mixed types.Specify dtype option on import or set low_memory=False.\n",
      "  exec(code_obj, self.user_global_ns, self.user_ns)\n"
     ]
    }
   ],
   "source": [
    "# Input the 2019 Dataset\n",
    "df = pd.read_csv('2019_data.csv')"
   ]
  },
  {
   "cell_type": "code",
   "execution_count": null,
   "metadata": {},
   "outputs": [],
   "source": [
    "# Drop required values that contain NAN\n",
    "df.dropna(subset=['LSOA code', 'Month', 'Location', 'Crime type', 'Longitude', 'Latitude', 'Employment Domain Score',\n",
    "       'Income Domain Score', 'IDACI Score', 'IDAOPI Score', 'Police Strength',\n",
    "       'Police Funding', 'Population'], inplace=True)"
   ]
  },
  {
   "cell_type": "code",
   "execution_count": null,
   "metadata": {},
   "outputs": [],
   "source": [
    "df.replace(to_replace=\",\", value=\".\", regex=True, inplace=True)"
   ]
  },
  {
   "cell_type": "code",
   "execution_count": null,
   "metadata": {},
   "outputs": [
    {
     "name": "stderr",
     "output_type": "stream",
     "text": [
      "C:\\ProgramData\\Anaconda3\\lib\\site-packages\\ipykernel_launcher.py:1: FutureWarning: The default value of regex will change from True to False in a future version. In addition, single character regular expressions will *not* be treated as literal strings when regex=True.\n",
      "  \"\"\"Entry point for launching an IPython kernel.\n"
     ]
    }
   ],
   "source": [
    "df['Population'] = df['Population'].str.replace('.', '').fillna(df['Population']*1000)"
   ]
  },
  {
   "cell_type": "code",
   "execution_count": null,
   "metadata": {},
   "outputs": [
    {
     "name": "stderr",
     "output_type": "stream",
     "text": [
      "C:\\ProgramData\\Anaconda3\\lib\\site-packages\\ipykernel_launcher.py:1: FutureWarning: The default value of regex will change from True to False in a future version. In addition, single character regular expressions will *not* be treated as literal strings when regex=True.\n",
      "  \"\"\"Entry point for launching an IPython kernel.\n"
     ]
    }
   ],
   "source": [
    "df['Police Strength'] = df['Police Strength'].str.replace('.','')"
   ]
  },
  {
   "cell_type": "markdown",
   "metadata": {},
   "source": [
    "##### Crime Type Prediction"
   ]
  },
  {
   "cell_type": "code",
   "execution_count": null,
   "metadata": {},
   "outputs": [],
   "source": [
    "# Encode Desired Values to integers to use in models\n",
    "ohe = LabelEncoder()\n",
    "df['E LSOA code'] = ohe.fit_transform(df['LSOA code'].dropna().values)\n",
    "df['E Month'] = ohe.fit_transform(df['Month'].dropna().values)\n",
    "df['E Location'] = ohe.fit_transform(df['Location'].dropna().values)"
   ]
  },
  {
   "cell_type": "code",
   "execution_count": null,
   "metadata": {},
   "outputs": [],
   "source": [
    "# Create an X and Y\n",
    "X = df[['E LSOA code', 'E Month', 'E Location', 'Longitude', 'Latitude', 'Employment Domain Score',\n",
    "       'Income Domain Score', 'IDACI Score', 'IDAOPI Score', 'Police Strength',\n",
    "       'Police Funding', 'Population']].values\n",
    "Y = df['Crime type'].values"
   ]
  },
  {
   "cell_type": "code",
   "execution_count": null,
   "metadata": {},
   "outputs": [
    {
     "data": {
      "text/plain": [
       "RandomForestClassifier()"
      ]
     },
     "metadata": {},
     "output_type": "display_data"
    }
   ],
   "source": [
    "# Fit Decision Tree on Crime Types and split the dataset in training and data.\n",
    "clf = RandomForestClassifier()\n",
    "X_train, X_test, y_train, y_test = train_test_split(X, Y, test_size=0.1, random_state=42)\n",
    "clf.fit(X_train, y_train)"
   ]
  },
  {
   "cell_type": "code",
   "execution_count": null,
   "metadata": {},
   "outputs": [],
   "source": [
    "# Predictions on Test Set\n",
    "preds = clf.predict(X_test)"
   ]
  },
  {
   "cell_type": "code",
   "execution_count": null,
   "metadata": {},
   "outputs": [
    {
     "data": {
      "text/plain": [
       "0.3385904001388768"
      ]
     },
     "metadata": {},
     "output_type": "display_data"
    }
   ],
   "source": [
    "accuracy_score(y_test, preds)"
   ]
  },
  {
   "cell_type": "code",
   "execution_count": null,
   "metadata": {},
   "outputs": [],
   "source": [
    "# Predictions in a Dataframe\n",
    "df_preds = pd.DataFrame()\n",
    "df_preds['y'] = y_test\n",
    "df_preds['pred'] = preds"
   ]
  },
  {
   "cell_type": "code",
   "execution_count": null,
   "metadata": {},
   "outputs": [
    {
     "data": {
      "text/html": [
       "<div>\n",
       "<style scoped>\n",
       "    .dataframe tbody tr th:only-of-type {\n",
       "        vertical-align: middle;\n",
       "    }\n",
       "\n",
       "    .dataframe tbody tr th {\n",
       "        vertical-align: top;\n",
       "    }\n",
       "\n",
       "    .dataframe thead th {\n",
       "        text-align: right;\n",
       "    }\n",
       "</style>\n",
       "<table border=\"1\" class=\"dataframe\">\n",
       "  <thead>\n",
       "    <tr style=\"text-align: right;\">\n",
       "      <th></th>\n",
       "      <th>y</th>\n",
       "      <th>pred</th>\n",
       "    </tr>\n",
       "  </thead>\n",
       "  <tbody>\n",
       "    <tr>\n",
       "      <th>0</th>\n",
       "      <td>Shoplifting</td>\n",
       "      <td>Other theft</td>\n",
       "    </tr>\n",
       "    <tr>\n",
       "      <th>1</th>\n",
       "      <td>Robbery</td>\n",
       "      <td>Violence and sexual offences</td>\n",
       "    </tr>\n",
       "    <tr>\n",
       "      <th>2</th>\n",
       "      <td>Violence and sexual offences</td>\n",
       "      <td>Burglary</td>\n",
       "    </tr>\n",
       "    <tr>\n",
       "      <th>3</th>\n",
       "      <td>Anti-social behaviour</td>\n",
       "      <td>Anti-social behaviour</td>\n",
       "    </tr>\n",
       "    <tr>\n",
       "      <th>4</th>\n",
       "      <td>Criminal damage and arson</td>\n",
       "      <td>Public order</td>\n",
       "    </tr>\n",
       "    <tr>\n",
       "      <th>...</th>\n",
       "      <td>...</td>\n",
       "      <td>...</td>\n",
       "    </tr>\n",
       "    <tr>\n",
       "      <th>230415</th>\n",
       "      <td>Bicycle theft</td>\n",
       "      <td>Other theft</td>\n",
       "    </tr>\n",
       "    <tr>\n",
       "      <th>230416</th>\n",
       "      <td>Violence and sexual offences</td>\n",
       "      <td>Public order</td>\n",
       "    </tr>\n",
       "    <tr>\n",
       "      <th>230417</th>\n",
       "      <td>Violence and sexual offences</td>\n",
       "      <td>Public order</td>\n",
       "    </tr>\n",
       "    <tr>\n",
       "      <th>230418</th>\n",
       "      <td>Shoplifting</td>\n",
       "      <td>Shoplifting</td>\n",
       "    </tr>\n",
       "    <tr>\n",
       "      <th>230419</th>\n",
       "      <td>Vehicle crime</td>\n",
       "      <td>Vehicle crime</td>\n",
       "    </tr>\n",
       "  </tbody>\n",
       "</table>\n",
       "<p>230420 rows × 2 columns</p>\n",
       "</div>"
      ],
      "text/plain": [
       "                                   y                          pred\n",
       "0                        Shoplifting                   Other theft\n",
       "1                            Robbery  Violence and sexual offences\n",
       "2       Violence and sexual offences                      Burglary\n",
       "3              Anti-social behaviour         Anti-social behaviour\n",
       "4          Criminal damage and arson                  Public order\n",
       "...                              ...                           ...\n",
       "230415                 Bicycle theft                   Other theft\n",
       "230416  Violence and sexual offences                  Public order\n",
       "230417  Violence and sexual offences                  Public order\n",
       "230418                   Shoplifting                   Shoplifting\n",
       "230419                 Vehicle crime                 Vehicle crime\n",
       "\n",
       "[230420 rows x 2 columns]"
      ]
     },
     "metadata": {},
     "output_type": "display_data"
    }
   ],
   "source": [
    "df_preds"
   ]
  },
  {
   "cell_type": "code",
   "execution_count": null,
   "metadata": {},
   "outputs": [
    {
     "data": {
      "text/plain": [
       "0.3385904001388768"
      ]
     },
     "metadata": {},
     "output_type": "display_data"
    }
   ],
   "source": [
    "# Accuracy\n",
    "len(df_preds.loc[df_preds['y'] == df_preds['pred']]) / len(y_test)"
   ]
  },
  {
   "cell_type": "code",
   "execution_count": null,
   "metadata": {},
   "outputs": [
    {
     "data": {
      "text/plain": [
       "Violence and sexual offences    60988\n",
       "Anti-social behaviour           44148\n",
       "Other theft                     21663\n",
       "Vehicle crime                   20596\n",
       "Criminal damage and arson       16644\n",
       "Burglary                        14666\n",
       "Public order                    13233\n",
       "Shoplifting                     11483\n",
       "Drugs                            7277\n",
       "Theft from the person            6284\n",
       "Robbery                          4845\n",
       "Bicycle theft                    3736\n",
       "Other crime                      3243\n",
       "Possession of weapons            1614\n",
       "Name: y, dtype: int64"
      ]
     },
     "metadata": {},
     "output_type": "display_data"
    }
   ],
   "source": [
    "df_preds['y'].value_counts()"
   ]
  },
  {
   "cell_type": "code",
   "execution_count": null,
   "metadata": {},
   "outputs": [
    {
     "data": {
      "text/plain": [
       "Violence and sexual offences    71117\n",
       "Anti-social behaviour           48901\n",
       "Other theft                     20888\n",
       "Vehicle crime                   18597\n",
       "Shoplifting                     14226\n",
       "Criminal damage and arson       13374\n",
       "Burglary                        12279\n",
       "Public order                    10100\n",
       "Drugs                            5924\n",
       "Theft from the person            5590\n",
       "Robbery                          3417\n",
       "Bicycle theft                    2727\n",
       "Other crime                      2243\n",
       "Possession of weapons            1037\n",
       "Name: pred, dtype: int64"
      ]
     },
     "metadata": {},
     "output_type": "display_data"
    }
   ],
   "source": [
    "df_preds['pred'].value_counts()"
   ]
  },
  {
   "cell_type": "markdown",
   "metadata": {},
   "source": [
    "#### XG Boost"
   ]
  },
  {
   "cell_type": "code",
   "execution_count": null,
   "metadata": {},
   "outputs": [
    {
     "name": "stderr",
     "output_type": "stream",
     "text": [
      "C:\\ProgramData\\Anaconda3\\lib\\site-packages\\IPython\\core\\interactiveshell.py:3296: DtypeWarning: Columns (20) have mixed types.Specify dtype option on import or set low_memory=False.\n",
      "  exec(code_obj, self.user_global_ns, self.user_ns)\n"
     ]
    }
   ],
   "source": [
    "df = pd.read_csv('2019_data.csv')"
   ]
  },
  {
   "cell_type": "code",
   "execution_count": null,
   "metadata": {},
   "outputs": [],
   "source": [
    "df.dropna(subset=['LSOA code', 'Month', 'Location', 'Crime type', 'Longitude', 'Latitude', 'Employment Domain Score',\n",
    "       'Income Domain Score', 'IDACI Score', 'IDAOPI Score', 'Police Strength',\n",
    "       'Police Funding', 'Population'], inplace=True)"
   ]
  },
  {
   "cell_type": "code",
   "execution_count": null,
   "metadata": {},
   "outputs": [
    {
     "data": {
      "text/html": [
       "<div>\n",
       "<style scoped>\n",
       "    .dataframe tbody tr th:only-of-type {\n",
       "        vertical-align: middle;\n",
       "    }\n",
       "\n",
       "    .dataframe tbody tr th {\n",
       "        vertical-align: top;\n",
       "    }\n",
       "\n",
       "    .dataframe thead th {\n",
       "        text-align: right;\n",
       "    }\n",
       "</style>\n",
       "<table border=\"1\" class=\"dataframe\">\n",
       "  <thead>\n",
       "    <tr style=\"text-align: right;\">\n",
       "      <th></th>\n",
       "      <th>Crime ID</th>\n",
       "      <th>Month</th>\n",
       "      <th>Reported by</th>\n",
       "      <th>Falls within</th>\n",
       "      <th>Longitude</th>\n",
       "      <th>Latitude</th>\n",
       "      <th>Location</th>\n",
       "      <th>LSOA code</th>\n",
       "      <th>LSOA name</th>\n",
       "      <th>Crime type</th>\n",
       "      <th>...</th>\n",
       "      <th>Context</th>\n",
       "      <th>Local Authority District code (2019)</th>\n",
       "      <th>Local Authority District name (2019)</th>\n",
       "      <th>Employment Domain Score</th>\n",
       "      <th>Income Domain Score</th>\n",
       "      <th>IDACI Score</th>\n",
       "      <th>IDAOPI Score</th>\n",
       "      <th>Police Strength</th>\n",
       "      <th>Police Funding</th>\n",
       "      <th>Population</th>\n",
       "    </tr>\n",
       "  </thead>\n",
       "  <tbody>\n",
       "    <tr>\n",
       "      <th>0</th>\n",
       "      <td>a8977a2a4e14252420371eb993d52e4d0b8288a7c833e6...</td>\n",
       "      <td>2019-01</td>\n",
       "      <td>Metropolitan Police Service</td>\n",
       "      <td>Metropolitan Police Service</td>\n",
       "      <td>-0.709911</td>\n",
       "      <td>50.784615</td>\n",
       "      <td>On or near Rochester Way</td>\n",
       "      <td>E01031384</td>\n",
       "      <td>Arun 018E</td>\n",
       "      <td>Violence and sexual offences</td>\n",
       "      <td>...</td>\n",
       "      <td>NaN</td>\n",
       "      <td>E07000224</td>\n",
       "      <td>Arun</td>\n",
       "      <td>0,054</td>\n",
       "      <td>0,058</td>\n",
       "      <td>0,055</td>\n",
       "      <td>0,069</td>\n",
       "      <td>30,435</td>\n",
       "      <td>2572</td>\n",
       "      <td>154.414</td>\n",
       "    </tr>\n",
       "    <tr>\n",
       "      <th>1918269</th>\n",
       "      <td>d2ba517802ba07206d2576d630670e6a3e1e3b0cd6b982...</td>\n",
       "      <td>2019-01</td>\n",
       "      <td>Thames Valley Police</td>\n",
       "      <td>Thames Valley Police</td>\n",
       "      <td>-0.819947</td>\n",
       "      <td>51.821437</td>\n",
       "      <td>On or near Petrol Station</td>\n",
       "      <td>E01017666</td>\n",
       "      <td>Aylesbury Vale 013B</td>\n",
       "      <td>Other theft</td>\n",
       "      <td>...</td>\n",
       "      <td>NaN</td>\n",
       "      <td>E07000004</td>\n",
       "      <td>Aylesbury Vale</td>\n",
       "      <td>0,118</td>\n",
       "      <td>0,122</td>\n",
       "      <td>0,163</td>\n",
       "      <td>0,130</td>\n",
       "      <td>4,149</td>\n",
       "      <td>391</td>\n",
       "      <td>184.56</td>\n",
       "    </tr>\n",
       "    <tr>\n",
       "      <th>1918268</th>\n",
       "      <td>d0b394692595f3b9c0465d375bde587cd3c148d6b5cf76...</td>\n",
       "      <td>2019-01</td>\n",
       "      <td>Thames Valley Police</td>\n",
       "      <td>Thames Valley Police</td>\n",
       "      <td>-0.815980</td>\n",
       "      <td>51.821657</td>\n",
       "      <td>On or near Sycamore Court</td>\n",
       "      <td>E01017666</td>\n",
       "      <td>Aylesbury Vale 013B</td>\n",
       "      <td>Drugs</td>\n",
       "      <td>...</td>\n",
       "      <td>NaN</td>\n",
       "      <td>E07000004</td>\n",
       "      <td>Aylesbury Vale</td>\n",
       "      <td>0,118</td>\n",
       "      <td>0,122</td>\n",
       "      <td>0,163</td>\n",
       "      <td>0,130</td>\n",
       "      <td>4,149</td>\n",
       "      <td>391</td>\n",
       "      <td>184.56</td>\n",
       "    </tr>\n",
       "    <tr>\n",
       "      <th>1918267</th>\n",
       "      <td>3457b44e2bf5bcdfe766828a39499a8453434408bc4b8f...</td>\n",
       "      <td>2019-01</td>\n",
       "      <td>Thames Valley Police</td>\n",
       "      <td>Thames Valley Police</td>\n",
       "      <td>-0.819717</td>\n",
       "      <td>51.818575</td>\n",
       "      <td>On or near Palmer Avenue</td>\n",
       "      <td>E01017666</td>\n",
       "      <td>Aylesbury Vale 013B</td>\n",
       "      <td>Drugs</td>\n",
       "      <td>...</td>\n",
       "      <td>NaN</td>\n",
       "      <td>E07000004</td>\n",
       "      <td>Aylesbury Vale</td>\n",
       "      <td>0,118</td>\n",
       "      <td>0,122</td>\n",
       "      <td>0,163</td>\n",
       "      <td>0,130</td>\n",
       "      <td>4,149</td>\n",
       "      <td>391</td>\n",
       "      <td>184.56</td>\n",
       "    </tr>\n",
       "    <tr>\n",
       "      <th>1918266</th>\n",
       "      <td>e053c47ce6a7986c9bc1e7a703302f4066df0e3a831491...</td>\n",
       "      <td>2019-01</td>\n",
       "      <td>Thames Valley Police</td>\n",
       "      <td>Thames Valley Police</td>\n",
       "      <td>-0.820359</td>\n",
       "      <td>51.818464</td>\n",
       "      <td>On or near Goodwin Road</td>\n",
       "      <td>E01017666</td>\n",
       "      <td>Aylesbury Vale 013B</td>\n",
       "      <td>Criminal damage and arson</td>\n",
       "      <td>...</td>\n",
       "      <td>NaN</td>\n",
       "      <td>E07000004</td>\n",
       "      <td>Aylesbury Vale</td>\n",
       "      <td>0,118</td>\n",
       "      <td>0,122</td>\n",
       "      <td>0,163</td>\n",
       "      <td>0,130</td>\n",
       "      <td>4,149</td>\n",
       "      <td>391</td>\n",
       "      <td>184.56</td>\n",
       "    </tr>\n",
       "    <tr>\n",
       "      <th>...</th>\n",
       "      <td>...</td>\n",
       "      <td>...</td>\n",
       "      <td>...</td>\n",
       "      <td>...</td>\n",
       "      <td>...</td>\n",
       "      <td>...</td>\n",
       "      <td>...</td>\n",
       "      <td>...</td>\n",
       "      <td>...</td>\n",
       "      <td>...</td>\n",
       "      <td>...</td>\n",
       "      <td>...</td>\n",
       "      <td>...</td>\n",
       "      <td>...</td>\n",
       "      <td>...</td>\n",
       "      <td>...</td>\n",
       "      <td>...</td>\n",
       "      <td>...</td>\n",
       "      <td>...</td>\n",
       "      <td>...</td>\n",
       "      <td>...</td>\n",
       "    </tr>\n",
       "    <tr>\n",
       "      <th>1490270</th>\n",
       "      <td>0a26a2ee8ff9bf37dc5964d4093c2e778a557f52720049...</td>\n",
       "      <td>2019-12</td>\n",
       "      <td>Sussex Police</td>\n",
       "      <td>Sussex Police</td>\n",
       "      <td>0.556008</td>\n",
       "      <td>50.868793</td>\n",
       "      <td>On or near Petrol Station</td>\n",
       "      <td>E01021011</td>\n",
       "      <td>Hastings 006B</td>\n",
       "      <td>Burglary</td>\n",
       "      <td>...</td>\n",
       "      <td>NaN</td>\n",
       "      <td>E07000062</td>\n",
       "      <td>Hastings</td>\n",
       "      <td>0,114</td>\n",
       "      <td>0,121</td>\n",
       "      <td>0,126</td>\n",
       "      <td>0,133</td>\n",
       "      <td>2,629</td>\n",
       "      <td>266</td>\n",
       "      <td>91.093</td>\n",
       "    </tr>\n",
       "    <tr>\n",
       "      <th>1490269</th>\n",
       "      <td>NaN</td>\n",
       "      <td>2019-12</td>\n",
       "      <td>Sussex Police</td>\n",
       "      <td>Sussex Police</td>\n",
       "      <td>0.556201</td>\n",
       "      <td>50.867907</td>\n",
       "      <td>On or near Supermarket</td>\n",
       "      <td>E01021011</td>\n",
       "      <td>Hastings 006B</td>\n",
       "      <td>Anti-social behaviour</td>\n",
       "      <td>...</td>\n",
       "      <td>NaN</td>\n",
       "      <td>E07000062</td>\n",
       "      <td>Hastings</td>\n",
       "      <td>0,114</td>\n",
       "      <td>0,121</td>\n",
       "      <td>0,126</td>\n",
       "      <td>0,133</td>\n",
       "      <td>2,629</td>\n",
       "      <td>266</td>\n",
       "      <td>91.093</td>\n",
       "    </tr>\n",
       "    <tr>\n",
       "      <th>1490268</th>\n",
       "      <td>NaN</td>\n",
       "      <td>2019-12</td>\n",
       "      <td>Sussex Police</td>\n",
       "      <td>Sussex Police</td>\n",
       "      <td>0.556238</td>\n",
       "      <td>50.868059</td>\n",
       "      <td>On or near Supermarket</td>\n",
       "      <td>E01021011</td>\n",
       "      <td>Hastings 006B</td>\n",
       "      <td>Anti-social behaviour</td>\n",
       "      <td>...</td>\n",
       "      <td>NaN</td>\n",
       "      <td>E07000062</td>\n",
       "      <td>Hastings</td>\n",
       "      <td>0,114</td>\n",
       "      <td>0,121</td>\n",
       "      <td>0,126</td>\n",
       "      <td>0,133</td>\n",
       "      <td>2,629</td>\n",
       "      <td>266</td>\n",
       "      <td>91.093</td>\n",
       "    </tr>\n",
       "    <tr>\n",
       "      <th>1490166</th>\n",
       "      <td>d4951358c3ac5f06633be0365820042219031968d3c5ae...</td>\n",
       "      <td>2019-12</td>\n",
       "      <td>Sussex Police</td>\n",
       "      <td>Sussex Police</td>\n",
       "      <td>0.599861</td>\n",
       "      <td>50.875244</td>\n",
       "      <td>On or near The Cheviots</td>\n",
       "      <td>E01020972</td>\n",
       "      <td>Hastings 005A</td>\n",
       "      <td>Robbery</td>\n",
       "      <td>...</td>\n",
       "      <td>NaN</td>\n",
       "      <td>E07000062</td>\n",
       "      <td>Hastings</td>\n",
       "      <td>0,377</td>\n",
       "      <td>0,483</td>\n",
       "      <td>0,575</td>\n",
       "      <td>0,405</td>\n",
       "      <td>2,629</td>\n",
       "      <td>266</td>\n",
       "      <td>91.093</td>\n",
       "    </tr>\n",
       "    <tr>\n",
       "      <th>2348340</th>\n",
       "      <td>7494d407084d7c6672c49a776d2521d40e34981b6c13b9...</td>\n",
       "      <td>2019-12</td>\n",
       "      <td>Hampshire Constabulary</td>\n",
       "      <td>Hampshire Constabulary</td>\n",
       "      <td>-0.768149</td>\n",
       "      <td>51.625932</td>\n",
       "      <td>On or near Knights Hill</td>\n",
       "      <td>E01017838</td>\n",
       "      <td>Wycombe 015C</td>\n",
       "      <td>Violence and sexual offences</td>\n",
       "      <td>...</td>\n",
       "      <td>NaN</td>\n",
       "      <td>E07000007</td>\n",
       "      <td>Wycombe</td>\n",
       "      <td>0,051</td>\n",
       "      <td>0,087</td>\n",
       "      <td>0,104</td>\n",
       "      <td>0,170</td>\n",
       "      <td>2,697</td>\n",
       "      <td>315</td>\n",
       "      <td>174.878</td>\n",
       "    </tr>\n",
       "  </tbody>\n",
       "</table>\n",
       "<p>2304196 rows × 21 columns</p>\n",
       "</div>"
      ],
      "text/plain": [
       "                                                  Crime ID    Month  \\\n",
       "0        a8977a2a4e14252420371eb993d52e4d0b8288a7c833e6...  2019-01   \n",
       "1918269  d2ba517802ba07206d2576d630670e6a3e1e3b0cd6b982...  2019-01   \n",
       "1918268  d0b394692595f3b9c0465d375bde587cd3c148d6b5cf76...  2019-01   \n",
       "1918267  3457b44e2bf5bcdfe766828a39499a8453434408bc4b8f...  2019-01   \n",
       "1918266  e053c47ce6a7986c9bc1e7a703302f4066df0e3a831491...  2019-01   \n",
       "...                                                    ...      ...   \n",
       "1490270  0a26a2ee8ff9bf37dc5964d4093c2e778a557f52720049...  2019-12   \n",
       "1490269                                                NaN  2019-12   \n",
       "1490268                                                NaN  2019-12   \n",
       "1490166  d4951358c3ac5f06633be0365820042219031968d3c5ae...  2019-12   \n",
       "2348340  7494d407084d7c6672c49a776d2521d40e34981b6c13b9...  2019-12   \n",
       "\n",
       "                         Reported by                 Falls within  Longitude  \\\n",
       "0        Metropolitan Police Service  Metropolitan Police Service  -0.709911   \n",
       "1918269         Thames Valley Police         Thames Valley Police  -0.819947   \n",
       "1918268         Thames Valley Police         Thames Valley Police  -0.815980   \n",
       "1918267         Thames Valley Police         Thames Valley Police  -0.819717   \n",
       "1918266         Thames Valley Police         Thames Valley Police  -0.820359   \n",
       "...                              ...                          ...        ...   \n",
       "1490270                Sussex Police                Sussex Police   0.556008   \n",
       "1490269                Sussex Police                Sussex Police   0.556201   \n",
       "1490268                Sussex Police                Sussex Police   0.556238   \n",
       "1490166                Sussex Police                Sussex Police   0.599861   \n",
       "2348340       Hampshire Constabulary       Hampshire Constabulary  -0.768149   \n",
       "\n",
       "          Latitude                   Location  LSOA code            LSOA name  \\\n",
       "0        50.784615   On or near Rochester Way  E01031384            Arun 018E   \n",
       "1918269  51.821437  On or near Petrol Station  E01017666  Aylesbury Vale 013B   \n",
       "1918268  51.821657  On or near Sycamore Court  E01017666  Aylesbury Vale 013B   \n",
       "1918267  51.818575   On or near Palmer Avenue  E01017666  Aylesbury Vale 013B   \n",
       "1918266  51.818464    On or near Goodwin Road  E01017666  Aylesbury Vale 013B   \n",
       "...            ...                        ...        ...                  ...   \n",
       "1490270  50.868793  On or near Petrol Station  E01021011        Hastings 006B   \n",
       "1490269  50.867907     On or near Supermarket  E01021011        Hastings 006B   \n",
       "1490268  50.868059     On or near Supermarket  E01021011        Hastings 006B   \n",
       "1490166  50.875244    On or near The Cheviots  E01020972        Hastings 005A   \n",
       "2348340  51.625932    On or near Knights Hill  E01017838         Wycombe 015C   \n",
       "\n",
       "                           Crime type  ... Context  \\\n",
       "0        Violence and sexual offences  ...     NaN   \n",
       "1918269                   Other theft  ...     NaN   \n",
       "1918268                         Drugs  ...     NaN   \n",
       "1918267                         Drugs  ...     NaN   \n",
       "1918266     Criminal damage and arson  ...     NaN   \n",
       "...                               ...  ...     ...   \n",
       "1490270                      Burglary  ...     NaN   \n",
       "1490269         Anti-social behaviour  ...     NaN   \n",
       "1490268         Anti-social behaviour  ...     NaN   \n",
       "1490166                       Robbery  ...     NaN   \n",
       "2348340  Violence and sexual offences  ...     NaN   \n",
       "\n",
       "         Local Authority District code (2019)  \\\n",
       "0                                   E07000224   \n",
       "1918269                             E07000004   \n",
       "1918268                             E07000004   \n",
       "1918267                             E07000004   \n",
       "1918266                             E07000004   \n",
       "...                                       ...   \n",
       "1490270                             E07000062   \n",
       "1490269                             E07000062   \n",
       "1490268                             E07000062   \n",
       "1490166                             E07000062   \n",
       "2348340                             E07000007   \n",
       "\n",
       "        Local Authority District name (2019) Employment Domain Score  \\\n",
       "0                                       Arun                   0,054   \n",
       "1918269                       Aylesbury Vale                   0,118   \n",
       "1918268                       Aylesbury Vale                   0,118   \n",
       "1918267                       Aylesbury Vale                   0,118   \n",
       "1918266                       Aylesbury Vale                   0,118   \n",
       "...                                      ...                     ...   \n",
       "1490270                             Hastings                   0,114   \n",
       "1490269                             Hastings                   0,114   \n",
       "1490268                             Hastings                   0,114   \n",
       "1490166                             Hastings                   0,377   \n",
       "2348340                              Wycombe                   0,051   \n",
       "\n",
       "        Income Domain Score IDACI Score IDAOPI Score Police Strength  \\\n",
       "0                     0,058       0,055        0,069          30,435   \n",
       "1918269               0,122       0,163        0,130           4,149   \n",
       "1918268               0,122       0,163        0,130           4,149   \n",
       "1918267               0,122       0,163        0,130           4,149   \n",
       "1918266               0,122       0,163        0,130           4,149   \n",
       "...                     ...         ...          ...             ...   \n",
       "1490270               0,121       0,126        0,133           2,629   \n",
       "1490269               0,121       0,126        0,133           2,629   \n",
       "1490268               0,121       0,126        0,133           2,629   \n",
       "1490166               0,483       0,575        0,405           2,629   \n",
       "2348340               0,087       0,104        0,170           2,697   \n",
       "\n",
       "        Police Funding  Population  \n",
       "0                 2572     154.414  \n",
       "1918269            391      184.56  \n",
       "1918268            391      184.56  \n",
       "1918267            391      184.56  \n",
       "1918266            391      184.56  \n",
       "...                ...         ...  \n",
       "1490270            266      91.093  \n",
       "1490269            266      91.093  \n",
       "1490268            266      91.093  \n",
       "1490166            266      91.093  \n",
       "2348340            315     174.878  \n",
       "\n",
       "[2304196 rows x 21 columns]"
      ]
     },
     "metadata": {},
     "output_type": "display_data"
    }
   ],
   "source": [
    "df.sort_values(by=\"Month\")"
   ]
  },
  {
   "cell_type": "code",
   "execution_count": null,
   "metadata": {},
   "outputs": [
    {
     "data": {
      "text/plain": [
       "Index(['Crime ID', 'Month', 'Reported by', 'Falls within', 'Longitude',\n",
       "       'Latitude', 'Location', 'LSOA code', 'LSOA name', 'Crime type',\n",
       "       'Last outcome category', 'Context',\n",
       "       'Local Authority District code (2019)',\n",
       "       'Local Authority District name (2019)', 'Employment Domain Score',\n",
       "       'Income Domain Score', 'IDACI Score', 'IDAOPI Score', 'Police Strength',\n",
       "       'Police Funding', 'Population'],\n",
       "      dtype='object')"
      ]
     },
     "metadata": {},
     "output_type": "display_data"
    }
   ],
   "source": [
    "df.columns"
   ]
  },
  {
   "cell_type": "code",
   "execution_count": null,
   "metadata": {},
   "outputs": [
    {
     "name": "stderr",
     "output_type": "stream",
     "text": [
      "C:\\ProgramData\\Anaconda3\\lib\\site-packages\\ipykernel_launcher.py:3: FutureWarning: The default value of regex will change from True to False in a future version.\n",
      "  This is separate from the ipykernel package so we can avoid doing imports until\n",
      "C:\\ProgramData\\Anaconda3\\lib\\site-packages\\ipykernel_launcher.py:4: FutureWarning: The default value of regex will change from True to False in a future version.\n",
      "  after removing the cwd from sys.path.\n",
      "C:\\ProgramData\\Anaconda3\\lib\\site-packages\\ipykernel_launcher.py:5: FutureWarning: The default value of regex will change from True to False in a future version.\n",
      "  \"\"\"\n",
      "C:\\ProgramData\\Anaconda3\\lib\\site-packages\\ipykernel_launcher.py:6: FutureWarning: The default value of regex will change from True to False in a future version.\n",
      "  \n",
      "C:\\ProgramData\\Anaconda3\\lib\\site-packages\\ipykernel_launcher.py:7: FutureWarning: The default value of regex will change from True to False in a future version.\n",
      "  import sys\n"
     ]
    }
   ],
   "source": [
    "#convert from british ',' to america '.'\n",
    "\n",
    "df['Employment Domain Score']  =  df['Employment Domain Score'].str.replace('[A-Za-z]', '').str.replace(',', '.').astype(float)\n",
    "df['Income Domain Score'] = df['Income Domain Score'].str.replace('[A-Za-z]', '').str.replace(',', '.').astype(float)\n",
    "df['IDACI Score'] = df['IDACI Score'].str.replace('[A-Za-z]', '').str.replace(',', '.').astype(float)\n",
    "df['IDAOPI Score'] = df['IDAOPI Score'].str.replace('[A-Za-z]', '').str.replace(',', '.').astype(float)\n",
    "df['Police Strength'] = df['Police Strength'].str.replace('[A-Za-z]', '').str.replace(',', '.').astype(float)\n",
    "\n",
    "\n"
   ]
  },
  {
   "cell_type": "code",
   "execution_count": null,
   "metadata": {},
   "outputs": [
    {
     "data": {
      "text/plain": [
       "Crime ID                                 object\n",
       "Month                                    object\n",
       "Reported by                              object\n",
       "Falls within                             object\n",
       "Longitude                               float64\n",
       "Latitude                                float64\n",
       "Location                                 object\n",
       "LSOA code                                object\n",
       "LSOA name                                object\n",
       "Crime type                               object\n",
       "Last outcome category                    object\n",
       "Context                                 float64\n",
       "Local Authority District code (2019)     object\n",
       "Local Authority District name (2019)     object\n",
       "Employment Domain Score                 float64\n",
       "Income Domain Score                     float64\n",
       "IDACI Score                             float64\n",
       "IDAOPI Score                            float64\n",
       "Police Strength                         float64\n",
       "Police Funding                            int64\n",
       "Population                               object\n",
       "dtype: object"
      ]
     },
     "metadata": {},
     "output_type": "display_data"
    }
   ],
   "source": [
    "df.dtypes"
   ]
  },
  {
   "cell_type": "code",
   "execution_count": null,
   "metadata": {},
   "outputs": [],
   "source": [
    "df[\"Population\"] = df[\"Population\"].astype(str)"
   ]
  },
  {
   "cell_type": "code",
   "execution_count": null,
   "metadata": {},
   "outputs": [
    {
     "name": "stderr",
     "output_type": "stream",
     "text": [
      "C:\\ProgramData\\Anaconda3\\lib\\site-packages\\ipykernel_launcher.py:1: FutureWarning: The default value of regex will change from True to False in a future version.\n",
      "  \"\"\"Entry point for launching an IPython kernel.\n",
      "C:\\ProgramData\\Anaconda3\\lib\\site-packages\\ipykernel_launcher.py:1: FutureWarning: The default value of regex will change from True to False in a future version. In addition, single character regular expressions will *not* be treated as literal strings when regex=True.\n",
      "  \"\"\"Entry point for launching an IPython kernel.\n"
     ]
    }
   ],
   "source": [
    "df['Population'] = df['Population'].str.replace('[A-Za-z]', '').str.replace('.', '').astype(float)"
   ]
  },
  {
   "cell_type": "code",
   "execution_count": null,
   "metadata": {},
   "outputs": [],
   "source": [
    "data = df.groupby('Reported by').agg({'Crime type':'count', 'Employment Domain Score':'mean', 'Income Domain Score':'mean',  'IDACI Score':'mean', 'IDAOPI Score':'mean', 'Police Strength':'mean', 'Income Domain Score':'mean', 'Police Funding':'mean', 'Population':'mean' })"
   ]
  },
  {
   "cell_type": "code",
   "execution_count": null,
   "metadata": {},
   "outputs": [
    {
     "data": {
      "text/html": [
       "<div>\n",
       "<style scoped>\n",
       "    .dataframe tbody tr th:only-of-type {\n",
       "        vertical-align: middle;\n",
       "    }\n",
       "\n",
       "    .dataframe tbody tr th {\n",
       "        vertical-align: top;\n",
       "    }\n",
       "\n",
       "    .dataframe thead th {\n",
       "        text-align: right;\n",
       "    }\n",
       "</style>\n",
       "<table border=\"1\" class=\"dataframe\">\n",
       "  <thead>\n",
       "    <tr style=\"text-align: right;\">\n",
       "      <th></th>\n",
       "      <th>Reported by</th>\n",
       "      <th>Crime type</th>\n",
       "      <th>Employment Domain Score</th>\n",
       "      <th>Income Domain Score</th>\n",
       "      <th>IDACI Score</th>\n",
       "      <th>IDAOPI Score</th>\n",
       "      <th>Police Strength</th>\n",
       "      <th>Police Funding</th>\n",
       "      <th>Population</th>\n",
       "    </tr>\n",
       "  </thead>\n",
       "  <tbody>\n",
       "    <tr>\n",
       "      <th>0</th>\n",
       "      <td>Bedfordshire Police</td>\n",
       "      <td>67173</td>\n",
       "      <td>0.096148</td>\n",
       "      <td>0.137558</td>\n",
       "      <td>0.185515</td>\n",
       "      <td>0.196654</td>\n",
       "      <td>1.164</td>\n",
       "      <td>105.0</td>\n",
       "      <td>217518.205723</td>\n",
       "    </tr>\n",
       "    <tr>\n",
       "      <th>1</th>\n",
       "      <td>City of London Police</td>\n",
       "      <td>9356</td>\n",
       "      <td>0.026116</td>\n",
       "      <td>0.034127</td>\n",
       "      <td>0.033715</td>\n",
       "      <td>0.064954</td>\n",
       "      <td>739.000</td>\n",
       "      <td>57.0</td>\n",
       "      <td>17732.041257</td>\n",
       "    </tr>\n",
       "    <tr>\n",
       "      <th>2</th>\n",
       "      <td>Essex Police</td>\n",
       "      <td>209023</td>\n",
       "      <td>0.109429</td>\n",
       "      <td>0.145892</td>\n",
       "      <td>0.197408</td>\n",
       "      <td>0.166158</td>\n",
       "      <td>3.071</td>\n",
       "      <td>277.0</td>\n",
       "      <td>127734.816293</td>\n",
       "    </tr>\n",
       "    <tr>\n",
       "      <th>3</th>\n",
       "      <td>Hampshire Constabulary</td>\n",
       "      <td>163393</td>\n",
       "      <td>0.093014</td>\n",
       "      <td>0.126249</td>\n",
       "      <td>0.169952</td>\n",
       "      <td>0.173650</td>\n",
       "      <td>2.697</td>\n",
       "      <td>315.0</td>\n",
       "      <td>104826.377219</td>\n",
       "    </tr>\n",
       "    <tr>\n",
       "      <th>4</th>\n",
       "      <td>Hertfordshire Constabulary</td>\n",
       "      <td>112417</td>\n",
       "      <td>0.076297</td>\n",
       "      <td>0.101921</td>\n",
       "      <td>0.133432</td>\n",
       "      <td>0.135721</td>\n",
       "      <td>2.009</td>\n",
       "      <td>189.0</td>\n",
       "      <td>118639.144889</td>\n",
       "    </tr>\n",
       "    <tr>\n",
       "      <th>5</th>\n",
       "      <td>Kent Police</td>\n",
       "      <td>217910</td>\n",
       "      <td>0.117279</td>\n",
       "      <td>0.151934</td>\n",
       "      <td>0.197871</td>\n",
       "      <td>0.172519</td>\n",
       "      <td>3.553</td>\n",
       "      <td>290.0</td>\n",
       "      <td>145697.835712</td>\n",
       "    </tr>\n",
       "    <tr>\n",
       "      <th>6</th>\n",
       "      <td>Metropolitan Police Service</td>\n",
       "      <td>1094858</td>\n",
       "      <td>0.092986</td>\n",
       "      <td>0.146387</td>\n",
       "      <td>0.193441</td>\n",
       "      <td>0.261791</td>\n",
       "      <td>30.435</td>\n",
       "      <td>2572.0</td>\n",
       "      <td>240788.935032</td>\n",
       "    </tr>\n",
       "    <tr>\n",
       "      <th>7</th>\n",
       "      <td>Surrey Police</td>\n",
       "      <td>97550</td>\n",
       "      <td>0.056062</td>\n",
       "      <td>0.072523</td>\n",
       "      <td>0.096727</td>\n",
       "      <td>0.098313</td>\n",
       "      <td>1.882</td>\n",
       "      <td>218.0</td>\n",
       "      <td>104491.495161</td>\n",
       "    </tr>\n",
       "    <tr>\n",
       "      <th>8</th>\n",
       "      <td>Sussex Police</td>\n",
       "      <td>155882</td>\n",
       "      <td>0.104776</td>\n",
       "      <td>0.132460</td>\n",
       "      <td>0.175859</td>\n",
       "      <td>0.170239</td>\n",
       "      <td>2.629</td>\n",
       "      <td>266.0</td>\n",
       "      <td>150414.240105</td>\n",
       "    </tr>\n",
       "    <tr>\n",
       "      <th>9</th>\n",
       "      <td>Thames Valley Police</td>\n",
       "      <td>176634</td>\n",
       "      <td>0.070901</td>\n",
       "      <td>0.098579</td>\n",
       "      <td>0.124542</td>\n",
       "      <td>0.150247</td>\n",
       "      <td>4.149</td>\n",
       "      <td>391.0</td>\n",
       "      <td>144207.623227</td>\n",
       "    </tr>\n",
       "  </tbody>\n",
       "</table>\n",
       "</div>"
      ],
      "text/plain": [
       "                   Reported by  Crime type  Employment Domain Score  \\\n",
       "0          Bedfordshire Police       67173                 0.096148   \n",
       "1        City of London Police        9356                 0.026116   \n",
       "2                 Essex Police      209023                 0.109429   \n",
       "3       Hampshire Constabulary      163393                 0.093014   \n",
       "4   Hertfordshire Constabulary      112417                 0.076297   \n",
       "5                  Kent Police      217910                 0.117279   \n",
       "6  Metropolitan Police Service     1094858                 0.092986   \n",
       "7                Surrey Police       97550                 0.056062   \n",
       "8                Sussex Police      155882                 0.104776   \n",
       "9         Thames Valley Police      176634                 0.070901   \n",
       "\n",
       "   Income Domain Score  IDACI Score  IDAOPI Score  Police Strength  \\\n",
       "0             0.137558     0.185515      0.196654            1.164   \n",
       "1             0.034127     0.033715      0.064954          739.000   \n",
       "2             0.145892     0.197408      0.166158            3.071   \n",
       "3             0.126249     0.169952      0.173650            2.697   \n",
       "4             0.101921     0.133432      0.135721            2.009   \n",
       "5             0.151934     0.197871      0.172519            3.553   \n",
       "6             0.146387     0.193441      0.261791           30.435   \n",
       "7             0.072523     0.096727      0.098313            1.882   \n",
       "8             0.132460     0.175859      0.170239            2.629   \n",
       "9             0.098579     0.124542      0.150247            4.149   \n",
       "\n",
       "   Police Funding     Population  \n",
       "0           105.0  217518.205723  \n",
       "1            57.0   17732.041257  \n",
       "2           277.0  127734.816293  \n",
       "3           315.0  104826.377219  \n",
       "4           189.0  118639.144889  \n",
       "5           290.0  145697.835712  \n",
       "6          2572.0  240788.935032  \n",
       "7           218.0  104491.495161  \n",
       "8           266.0  150414.240105  \n",
       "9           391.0  144207.623227  "
      ]
     },
     "metadata": {},
     "output_type": "display_data"
    }
   ],
   "source": [
    "data.reset_index()"
   ]
  },
  {
   "cell_type": "code",
   "execution_count": null,
   "metadata": {},
   "outputs": [],
   "source": [
    "X, y = data.iloc[:,0:],data.iloc[:,0]"
   ]
  },
  {
   "cell_type": "code",
   "execution_count": null,
   "metadata": {},
   "outputs": [],
   "source": [
    "X, y = data.iloc[:,:-1],data.iloc[:,-1]"
   ]
  },
  {
   "cell_type": "code",
   "execution_count": null,
   "metadata": {},
   "outputs": [],
   "source": [
    "data_dmatrix = xgb.DMatrix(data=X,label=y)"
   ]
  },
  {
   "cell_type": "code",
   "execution_count": null,
   "metadata": {},
   "outputs": [],
   "source": [
    "X_train, X_test, y_train, y_test = train_test_split(X, y, test_size=0.2, random_state=111)"
   ]
  },
  {
   "cell_type": "code",
   "execution_count": null,
   "metadata": {},
   "outputs": [
    {
     "name": "stdout",
     "output_type": "stream",
     "text": [
      "[00:07:46] WARNING: C:/Users/Administrator/workspace/xgboost-win64_release_1.5.1/src/objective/regression_obj.cu:188: reg:linear is now deprecated in favor of reg:squarederror.\n"
     ]
    }
   ],
   "source": [
    "xg_reg = xgb.XGBRegressor(objective ='reg:linear', colsample_bytree = 0.3, learning_rate = 0.1,\n",
    "                max_depth = 5, alpha = 10, n_estimators = 10)\n",
    "xg_reg.fit(X_train,y_train)\n",
    "preds = xg_reg.predict(X_test)"
   ]
  },
  {
   "cell_type": "code",
   "execution_count": null,
   "metadata": {},
   "outputs": [
    {
     "name": "stdout",
     "output_type": "stream",
     "text": [
      "RMSE: 91516.171710\n"
     ]
    }
   ],
   "source": [
    "rmse = np.sqrt(mean_squared_error(y_test, preds))\n",
    "print(\"RMSE: %f\" % (rmse))"
   ]
  },
  {
   "cell_type": "markdown",
   "metadata": {},
   "source": [
    "##### K-Fold cross validation\n"
   ]
  },
  {
   "cell_type": "code",
   "execution_count": null,
   "metadata": {},
   "outputs": [
    {
     "name": "stdout",
     "output_type": "stream",
     "text": [
      "[00:07:46] WARNING: C:/Users/Administrator/workspace/xgboost-win64_release_1.5.1/src/objective/regression_obj.cu:188: reg:linear is now deprecated in favor of reg:squarederror.\n",
      "[00:07:46] WARNING: C:/Users/Administrator/workspace/xgboost-win64_release_1.5.1/src/objective/regression_obj.cu:188: reg:linear is now deprecated in favor of reg:squarederror.\n",
      "[00:07:46] WARNING: C:/Users/Administrator/workspace/xgboost-win64_release_1.5.1/src/objective/regression_obj.cu:188: reg:linear is now deprecated in favor of reg:squarederror.\n"
     ]
    }
   ],
   "source": [
    "params = {\"objective\":\"reg:linear\",'colsample_bytree': 0.3,'learning_rate': 0.1,\n",
    "                'max_depth': 10, 'alpha': 10}\n",
    "\n",
    "cv_results = xgb.cv(dtrain=data_dmatrix, params=params, nfold=3,\n",
    "                    num_boost_round=50,early_stopping_rounds=10,metrics=\"rmse\", as_pandas=True, seed=123)"
   ]
  },
  {
   "cell_type": "code",
   "execution_count": null,
   "metadata": {},
   "outputs": [
    {
     "data": {
      "text/html": [
       "<div>\n",
       "<style scoped>\n",
       "    .dataframe tbody tr th:only-of-type {\n",
       "        vertical-align: middle;\n",
       "    }\n",
       "\n",
       "    .dataframe tbody tr th {\n",
       "        vertical-align: top;\n",
       "    }\n",
       "\n",
       "    .dataframe thead th {\n",
       "        text-align: right;\n",
       "    }\n",
       "</style>\n",
       "<table border=\"1\" class=\"dataframe\">\n",
       "  <thead>\n",
       "    <tr style=\"text-align: right;\">\n",
       "      <th></th>\n",
       "      <th>train-rmse-mean</th>\n",
       "      <th>train-rmse-std</th>\n",
       "      <th>test-rmse-mean</th>\n",
       "      <th>test-rmse-std</th>\n",
       "    </tr>\n",
       "  </thead>\n",
       "  <tbody>\n",
       "    <tr>\n",
       "      <th>0</th>\n",
       "      <td>136935.419271</td>\n",
       "      <td>10996.229659</td>\n",
       "      <td>134026.901042</td>\n",
       "      <td>29637.888024</td>\n",
       "    </tr>\n",
       "    <tr>\n",
       "      <th>1</th>\n",
       "      <td>126379.541667</td>\n",
       "      <td>10104.908286</td>\n",
       "      <td>124909.544271</td>\n",
       "      <td>29690.705762</td>\n",
       "    </tr>\n",
       "    <tr>\n",
       "      <th>2</th>\n",
       "      <td>116822.812500</td>\n",
       "      <td>9319.945015</td>\n",
       "      <td>116944.015625</td>\n",
       "      <td>29554.948907</td>\n",
       "    </tr>\n",
       "    <tr>\n",
       "      <th>3</th>\n",
       "      <td>108185.229167</td>\n",
       "      <td>8631.260504</td>\n",
       "      <td>108813.658854</td>\n",
       "      <td>28721.846882</td>\n",
       "    </tr>\n",
       "    <tr>\n",
       "      <th>4</th>\n",
       "      <td>100383.440104</td>\n",
       "      <td>8017.359751</td>\n",
       "      <td>101502.977865</td>\n",
       "      <td>28497.132040</td>\n",
       "    </tr>\n",
       "  </tbody>\n",
       "</table>\n",
       "</div>"
      ],
      "text/plain": [
       "   train-rmse-mean  train-rmse-std  test-rmse-mean  test-rmse-std\n",
       "0    136935.419271    10996.229659   134026.901042   29637.888024\n",
       "1    126379.541667    10104.908286   124909.544271   29690.705762\n",
       "2    116822.812500     9319.945015   116944.015625   29554.948907\n",
       "3    108185.229167     8631.260504   108813.658854   28721.846882\n",
       "4    100383.440104     8017.359751   101502.977865   28497.132040"
      ]
     },
     "metadata": {},
     "output_type": "display_data"
    }
   ],
   "source": [
    "cv_results.head()"
   ]
  },
  {
   "cell_type": "code",
   "execution_count": null,
   "metadata": {},
   "outputs": [
    {
     "name": "stdout",
     "output_type": "stream",
     "text": [
      "22    68591.559896\n",
      "Name: test-rmse-mean, dtype: float64\n"
     ]
    }
   ],
   "source": [
    "print((cv_results[\"test-rmse-mean\"]).tail(1))"
   ]
  },
  {
   "cell_type": "code",
   "execution_count": null,
   "metadata": {},
   "outputs": [
    {
     "name": "stdout",
     "output_type": "stream",
     "text": [
      "[00:07:47] WARNING: C:/Users/Administrator/workspace/xgboost-win64_release_1.5.1/src/objective/regression_obj.cu:188: reg:linear is now deprecated in favor of reg:squarederror.\n"
     ]
    }
   ],
   "source": [
    "xg_reg = xgb.train(params=params, dtrain=data_dmatrix, num_boost_round=10)"
   ]
  },
  {
   "cell_type": "code",
   "execution_count": null,
   "metadata": {},
   "outputs": [
    {
     "data": {
      "text/plain": [
       "<Figure size 640x480 with 1 Axes>"
      ]
     },
     "metadata": {},
     "output_type": "display_data"
    }
   ],
   "source": [
    "import matplotlib.pyplot as plt\n",
    "\n",
    "xgb.plot_tree(xg_reg,num_trees=0)\n",
    "plt.rcParams['figure.figsize'] = [50, 10]\n",
    "plt.show()"
   ]
  },
  {
   "cell_type": "code",
   "execution_count": null,
   "metadata": {},
   "outputs": [
    {
     "data": {
      "image/png": "[encoded data removed]",
      "text/plain": [
       "<Figure size 432x288 with 1 Axes>"
      ]
     },
     "metadata": {},
     "output_type": "display_data"
    }
   ],
   "source": [
    "xgb.plot_importance(xg_reg)\n",
    "plt.rcParams['figure.figsize'] = [5, 5]\n",
    "plt.savefig(\"feature_importance.png\")\n",
    "plt.show()\n"
   ]
  }
 ],
 "metadata": {
  "kernelspec": {
   "display_name": "Python 3",
   "language": "python",
   "name": "python3"
  },
  "language_info": {
   "codemirror_mode": {
    "name": "ipython",
    "version": 3
   },
   "file_extension": ".py",
   "mimetype": "text/x-python",
   "name": "python",
   "nbconvert_exporter": "python",
   "pygments_lexer": "ipython3",
   "version": "3.6.8"
  }
 },
 "nbformat": 4,
 "nbformat_minor": 4
}
