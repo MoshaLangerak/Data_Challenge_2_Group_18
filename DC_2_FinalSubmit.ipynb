{
 "cells": [
  {
   "cell_type": "markdown",
   "metadata": {},
   "source": [
    "## Imports"
   ]
  },
  {
   "cell_type": "code",
   "execution_count": null,
   "metadata": {},
   "outputs": [],
   "source": [
    "\n",
    "import pandas as pd\n",
    "import numpy as np\n",
    "import missingno as msno\n",
    "import datetime\n",
    "import matplotlib.pyplot as plt\n",
    "import httpx\n",
    "import json\n",
    "import math\n",
    "import os\n",
    "\n",
    "from tqdm import tqdm\n",
    "\n",
    "import plotly.express as px\n",
    "import plotly.graph_objects as go\n",
    "\n",
    "from sklearn import tree\n",
    "import sklearn.preprocessing\n",
    "from sklearn.preprocessing import OneHotEncoder\n",
    "from sklearn.preprocessing import LabelEncoder\n",
    "from sklearn.model_selection import train_test_split\n",
    "from sklearn.metrics import accuracy_score\n",
    "from sklearn.metrics import balanced_accuracy_score\n",
    "\n",
    "from k_means_constrained import KMeansConstrained\n",
    "\n",
    "import pmdarima as pm"
   ]
  },
  {
   "cell_type": "markdown",
   "metadata": {},
   "source": [
    "## Helper functions"
   ]
  },
  {
   "cell_type": "code",
   "execution_count": null,
   "metadata": {},
   "outputs": [],
   "source": [
    "def get_folder_dict(path):\n",
    "    # get the subfolder directories (year-month)\n",
    "    dir_list = os.listdir(path)\n",
    "    dir_list.sort()\n",
    "\n",
    "    if '.DS_Store' in dir_list:\n",
    "        dir_list.remove('.DS_Store')\n",
    "\n",
    "    # create dictionary with files per subfolder\n",
    "    dir_dict = dict()\n",
    "\n",
    "    for folder in dir_list:\n",
    "        dir_dict[folder] = os.listdir(path + '/' + folder)\n",
    "        \n",
    "    return dir_dict"
   ]
  },
  {
   "cell_type": "code",
   "execution_count": null,
   "metadata": {},
   "outputs": [],
   "source": [
    "def compiler_by_force(path, force, target_path):\n",
    "    ''' Exports three csv files with the compiled data for the selected force'''\n",
    "    # create dictionary with files per subfolder\n",
    "    dir_dict = get_folder_dict(path)\n",
    "    \n",
    "    # create three list of paths for the street, outcomes and stop and search data of the selected force\n",
    "    force_street_paths = []\n",
    "    force_outcomes_paths = []\n",
    "    force_stop_and_search_paths = []\n",
    "    anomalies_paths = []\n",
    "\n",
    "    for key in dir_dict:\n",
    "        for item in dir_dict[key]:\n",
    "            if force in item:\n",
    "                if 'street' in item:\n",
    "                    force_street_paths.append(key + '/' + item)\n",
    "                elif 'outcomes' in item:\n",
    "                    force_outcomes_paths.append(key + '/' + item)\n",
    "                elif 'stop-and-search' in item:\n",
    "                    force_stop_and_search_paths.append(key + '/' + item)\n",
    "                else:\n",
    "                    anomalies_paths.append(key + '/' + item)\n",
    "    \n",
    "    # create three dataframes for the street, outcomes and stop and search data of the selected force\n",
    "    df_force_street = pd.DataFrame()\n",
    "    df_force_outcomes = pd.DataFrame()\n",
    "    df_force_stop_and_search = pd.DataFrame()\n",
    "\n",
    "    for path_extension in force_street_paths:\n",
    "        df = pd.read_csv(path + '/' + path_extension)\n",
    "        df_force_street = pd.concat([df_force_street, df])\n",
    "    print('Compiled ' + str(len(force_street_paths)) + ' number of street files')\n",
    "\n",
    "    for path_extension in force_outcomes_paths:\n",
    "        df = pd.read_csv(path + '/' + path_extension)\n",
    "        df_force_outcomes = pd.concat([df_force_outcomes, df])\n",
    "    print('Compiled ' + str(len(force_outcomes_paths)) + ' number of outcomes files')\n",
    "\n",
    "    for path_extension in force_stop_and_search_paths:\n",
    "        df = pd.read_csv(path + '/' + path_extension)\n",
    "        df_force_stop_and_search = pd.concat([df_force_stop_and_search, df])\n",
    "    print('Compiled ' + str(len(force_stop_and_search_paths)) + ' number of stop and search files')\n",
    "    \n",
    "    # export the three dataframes to csv    \n",
    "    df_force_street.to_csv(target_path + '/' + force + '_street.csv')\n",
    "    df_force_outcomes.to_csv(target_path + '/' + force + '_outcomes.csv')\n",
    "    df_force_stop_and_search.to_csv(target_path + '/' + force + '_stop_and_search.csv')"
   ]
  },
  {
   "cell_type": "code",
   "execution_count": null,
   "metadata": {},
   "outputs": [],
   "source": [
    "def get_all_force_names(path):\n",
    "    # create dictionary with files per subfolder\n",
    "    dir_dict = get_folder_dict(path)\n",
    "    force_list = []\n",
    "    for key in dir_dict:\n",
    "        for item in dir_dict[key]:\n",
    "            if 'stop-and-search' in item:\n",
    "                force = '-'.join(item.split('.')[0][8:].split('-')[:-3])\n",
    "            else:\n",
    "                force = '-'.join(item.split('.')[0][8:].split('-')[:-1])\n",
    "            if force not in force_list:\n",
    "                force_list.append(force)\n",
    "    return force_list\n",
    "    "
   ]
  },
  {
   "cell_type": "code",
   "execution_count": null,
   "metadata": {},
   "outputs": [],
   "source": [
    "def compile_all_forces(path, target_path):\n",
    "    force_list = get_all_force_names(path)\n",
    "    for force in force_list:\n",
    "        compiler_by_force(path, force, target_path)\n",
    "        print('Compiled data for ' + force)"
   ]
  },
  {
   "cell_type": "code",
   "execution_count": null,
   "metadata": {},
   "outputs": [],
   "source": [
    "def load_forces(forces):\n",
    "    df_streets = dict()\n",
    "    df_outcomes = dict()\n",
    "    df_stop_and_search = dict()\n",
    "    \n",
    "    for force in forces:\n",
    "        file_path_streets = './Data/force_data/' + force + '_street.csv'\n",
    "        file_path_outcomes = './Data/force_data/' + force + '_outcomes.csv'\n",
    "        file_path_stop_and_search = './Data/force_data/' + force + '_stop_and_search.csv'\n",
    "        \n",
    "        df_streets[force] = pd.read_csv(file_path_streets, low_memory=False)\n",
    "        df_outcomes[force] = pd.read_csv(file_path_outcomes, low_memory=False)\n",
    "        df_stop_and_search[force] = pd.read_csv(file_path_stop_and_search, low_memory=False)\n",
    "        \n",
    "        df_stop_and_search[force]['Datetime'] = pd.to_datetime(df_stop_and_search[force]['Date'])\n",
    "        df_stop_and_search[force]['Date'] = df_stop_and_search[force]['Datetime'].dt.date\n",
    "    \n",
    "    return df_streets, df_outcomes, df_stop_and_search"
   ]
  },
  {
   "cell_type": "code",
   "execution_count": null,
   "metadata": {},
   "outputs": [],
   "source": [
    "def plot_forces_sas(df, forces = []):\n",
    "    df_dates = dict()\n",
    "    plt.figure(figsize=(16, 8), dpi=150)\n",
    "    \n",
    "    if forces == []:\n",
    "        for key in df:\n",
    "            df_dates[key] = df[key]['Date'].value_counts()\n",
    "            df_dates[key].sort_index(inplace=True)\n",
    "            df_dates[key].plot(label=key)\n",
    "    else:\n",
    "        for force in forces:\n",
    "            df_dates[force] = df[force]['Date'].value_counts()\n",
    "            df_dates[force].sort_index(inplace=True)\n",
    "            df_dates[force].plot(label=force)\n",
    "\n",
    "    plt.ylabel('Number of stop and searches')\n",
    "    plt.xlabel('Time')\n",
    "    plt.legend()"
   ]
  },
  {
   "cell_type": "code",
   "execution_count": null,
   "metadata": {},
   "outputs": [],
   "source": [
    "def combine_csvs_in_dir_to_df(dir_name):\n",
    "    df = pd.DataFrame()\n",
    "    for root, directories, files in os.walk(dir_name):\n",
    "        for file in tqdm(files):\n",
    "            df = df.append(pd.read_csv(f'{dir_name}/{file}'))\n",
    "    return df"
   ]
  },
  {
   "cell_type": "code",
   "execution_count": null,
   "metadata": {},
   "outputs": [],
   "source": [
    "def plot_forces_streets(df, forces=[]):\n",
    "    df_months = dict()\n",
    "    plt.figure(figsize=(16, 8), dpi=150)\n",
    "    \n",
    "    if forces == []:\n",
    "        for key in df:\n",
    "            df_months[key] = df[key]['Month'].value_counts()\n",
    "            df_months[key].sort_index(inplace=True)\n",
    "            df_months[key].plot(label=key)\n",
    "    else:\n",
    "        for force in forces:\n",
    "            df_months[force] = df[force]['Month'].value_counts()\n",
    "            df_months[force].sort_index(inplace=True)\n",
    "            df_months[force].plot(label=force)\n",
    "\n",
    "    plt.ylabel('Number of incidents')\n",
    "    plt.xlabel('Months')\n",
    "    plt.legend()"
   ]
  },
  {
   "cell_type": "markdown",
   "metadata": {},
   "source": [
    "## Main"
   ]
  },
  {
   "cell_type": "markdown",
   "metadata": {},
   "source": [
    "### Compiler"
   ]
  },
  {
   "cell_type": "code",
   "execution_count": null,
   "metadata": {},
   "outputs": [],
   "source": [
    "path = './Data/Jan_2010_Oct_2021'\n",
    "target_path = './Data/force_data'\n",
    "force = 'city-of-london'\n",
    "compiler_by_force(path, force, target_path)"
   ]
  },
  {
   "cell_type": "code",
   "execution_count": null,
   "metadata": {},
   "outputs": [],
   "source": [
    "path = './Data/Jan_2010_Oct_2021'\n",
    "target_path = './Data/force_data'\n",
    "compile_all_forces(path, target_path)"
   ]
  },
  {
   "cell_type": "markdown",
   "metadata": {},
   "source": [
    "### EDA"
   ]
  },
  {
   "cell_type": "code",
   "execution_count": null,
   "metadata": {},
   "outputs": [],
   "source": [
    "forces = ['city-of-london', 'metropolitan', 'surrey', 'hertfordshire',\n",
    "          'thames-valley', 'essex', 'kent', 'hampshire', 'bedfordshire']\n",
    "df_streets, df_outcomes, df_stop_and_search = load_forces(forces)"
   ]
  },
  {
   "cell_type": "code",
   "execution_count": null,
   "metadata": {
    "scrolled": true
   },
   "outputs": [],
   "source": [
    "df_streets['city-of-london'].head()"
   ]
  },
  {
   "cell_type": "code",
   "execution_count": null,
   "metadata": {
    "scrolled": true
   },
   "outputs": [],
   "source": [
    "df_streets['metropolitan'].shape, df_outcomes['metropolitan'].shape, df_stop_and_search['metropolitan'].shape"
   ]
  },
  {
   "cell_type": "code",
   "execution_count": null,
   "metadata": {
    "scrolled": false
   },
   "outputs": [],
   "source": [
    "msno.matrix(df_streets['city-of-london'])"
   ]
  },
  {
   "cell_type": "code",
   "execution_count": null,
   "metadata": {
    "scrolled": false
   },
   "outputs": [],
   "source": [
    "plot_forces_streets(df_streets)"
   ]
  },
  {
   "cell_type": "code",
   "execution_count": null,
   "metadata": {
    "scrolled": false
   },
   "outputs": [],
   "source": [
    "forces = ['city-of-london', 'surrey', 'hertfordshire',\n",
    "          'thames-valley', 'essex', 'kent', 'hampshire', 'bedfordshire']\n",
    "plot_forces_streets(df_streets, forces)"
   ]
  },
  {
   "cell_type": "code",
   "execution_count": null,
   "metadata": {
    "scrolled": false
   },
   "outputs": [],
   "source": [
    "plot_forces_sas(df_stop_and_search)"
   ]
  },
  {
   "cell_type": "code",
   "execution_count": null,
   "metadata": {
    "scrolled": false
   },
   "outputs": [],
   "source": [
    "forces = ['city-of-london', 'surrey', 'hertfordshire',\n",
    "          'thames-valley', 'essex', 'kent', 'hampshire', 'bedfordshire']\n",
    "plot_forces_sas(df_stop_and_search, forces)"
   ]
  },
  {
   "cell_type": "code",
   "execution_count": null,
   "metadata": {},
   "outputs": [],
   "source": [
    "import pandas as pd\n",
    "import numpy as np\n",
    "path = 'https://raw.githubusercontent.com/selva86/datasets/master/daily-min-temperatures.csv'\n",
    "df = pd.read_csv(path, parse_dates=['Date'], index_col='Date')\n",
    "df"
   ]
  },
  {
   "cell_type": "code",
   "execution_count": null,
   "metadata": {},
   "outputs": [],
   "source": [
    "def df_to_ts(df):\n",
    "    ts = pd.DataFrame()\n",
    "\n",
    "    ts = df['Month'].value_counts()\n",
    "    ts.sort_index(inplace=True)\n",
    "\n",
    "    return ts"
   ]
  },
  {
   "cell_type": "code",
   "execution_count": null,
   "metadata": {
    "scrolled": false
   },
   "outputs": [],
   "source": [
    "ts = df_to_ts(df_streets['city-of-london'])\n",
    "ts"
   ]
  },
  {
   "cell_type": "code",
   "execution_count": null,
   "metadata": {},
   "outputs": [],
   "source": [
    "from statsmodels.tsa.stattools import kpss\n",
    "from statsmodels.tsa.stattools import adfuller"
   ]
  },
  {
   "cell_type": "code",
   "execution_count": null,
   "metadata": {},
   "outputs": [],
   "source": [
    "def kpss_test(series, **kw):    \n",
    "    statistic, p_value, n_lags, critical_values = kpss(series, **kw)\n",
    "    # Format Output\n",
    "    print(f'KPSS Statistic: {statistic}')\n",
    "    print(f'p-value: {p_value}')\n",
    "    print(f'num lags: {n_lags}')\n",
    "    print('Critial Values:')\n",
    "    for key, value in critical_values.items():\n",
    "        print(f'   {key} : {value}')\n",
    "    print(f'Result: The series is {\"not \" if p_value < 0.05 else \"\"}stationary')"
   ]
  },
  {
   "cell_type": "code",
   "execution_count": null,
   "metadata": {},
   "outputs": [],
   "source": [
    "def adf_test(ts):    \n",
    "    statistic, p_value, n_lags, nobs, critical_values, icbest  = adfuller(ts)\n",
    "    # Format Output\n",
    "    print(f'ADF Statistic: {statistic}')\n",
    "    print(f'p-value: {p_value}')\n",
    "    print('Critial Values:')\n",
    "    for key, value in critical_values.items():\n",
    "        print(f'   {key} : {value}')\n",
    "    print(f'Result: The series is {\"not \" if p_value > 0.05 else \"\"}stationary')"
   ]
  },
  {
   "cell_type": "code",
   "execution_count": null,
   "metadata": {
    "scrolled": true
   },
   "outputs": [],
   "source": [
    "kpss_test(ts)"
   ]
  },
  {
   "cell_type": "code",
   "execution_count": null,
   "metadata": {
    "scrolled": true
   },
   "outputs": [],
   "source": [
    "adf_test(ts)"
   ]
  },
  {
   "cell_type": "code",
   "execution_count": null,
   "metadata": {},
   "outputs": [],
   "source": [
    "outcomes = pd.read_csv(\"./Data/city-of-london/city-of-london_outcomes.csv\") \n",
    "sas = pd.read_csv(\"./Data/city-of-london/city-of-london_stop_and_search.csv\")\n",
    "street = pd.read_csv(\"./Data/city-of-london/city-of-london_street.csv\")"
   ]
  },
  {
   "cell_type": "code",
   "execution_count": null,
   "metadata": {
    "scrolled": true
   },
   "outputs": [],
   "source": [
    "street.groupby(['Month', 'Crime type'])['Crime type'].count().unstack().plot(figsize = (15,8))  "
   ]
  },
  {
   "cell_type": "code",
   "execution_count": null,
   "metadata": {},
   "outputs": [],
   "source": [
    "shop = street[street[\"Crime type\"] == \"Shoplifting\"]\n",
    "shop.groupby(['Month'])['Crime type'].count().plot()"
   ]
  },
  {
   "cell_type": "code",
   "execution_count": null,
   "metadata": {},
   "outputs": [],
   "source": [
    "vio = street[street[\"Crime type\"] == \"Violent crime\"]\n",
    "vio.groupby(['Month'])['Crime type'].count().plot()"
   ]
  },
  {
   "cell_type": "code",
   "execution_count": null,
   "metadata": {},
   "outputs": [],
   "source": [
    "vio = street[street[\"Crime type\"] == \"Violence and sexual offences\"]\n",
    "vio.groupby(['Month'])['Crime type'].count().plot()"
   ]
  },
  {
   "cell_type": "code",
   "execution_count": null,
   "metadata": {},
   "outputs": [],
   "source": [
    "weapon = street[street[\"Crime type\"] == \"Possession of weapons\"]\n",
    "weapon.groupby(['Month'])['Crime type'].count().plot()"
   ]
  },
  {
   "cell_type": "code",
   "execution_count": null,
   "metadata": {},
   "outputs": [],
   "source": [
    "weapon = street[street[\"Crime type\"] == \"Theft from the person\"]\n",
    "weapon.groupby(['Month'])['Crime type'].count().plot()"
   ]
  },
  {
   "cell_type": "code",
   "execution_count": null,
   "metadata": {},
   "outputs": [],
   "source": [
    "drugs = street[street[\"Crime type\"] == \"Drugs\"]\n",
    "drugs.groupby(['Month'])['Crime type'].count().plot()"
   ]
  },
  {
   "cell_type": "code",
   "execution_count": null,
   "metadata": {},
   "outputs": [],
   "source": [
    "street.groupby(['Month', 'LSOA name'])['LSOA code'].count().unstack().plot(figsize = (15,8))  "
   ]
  },
  {
   "cell_type": "code",
   "execution_count": null,
   "metadata": {},
   "outputs": [],
   "source": [
    "arrests = pd.Series(street.groupby(\"Crime type\")[\"Crime type\"].count().sort_values(ascending=False))\n",
    "arrests.plot.bar()"
   ]
  },
  {
   "cell_type": "code",
   "execution_count": null,
   "metadata": {},
   "outputs": [],
   "source": [
    "lsoa = pd.Series(street.groupby(\"LSOA name\")[\"LSOA name\"].count().sort_values(ascending=False))\n",
    "lsoa.plot.bar(figsize = (30, 5))"
   ]
  },
  {
   "cell_type": "code",
   "execution_count": null,
   "metadata": {},
   "outputs": [],
   "source": [
    "verdicts =pd.Series(outcomes.groupby(\"Outcome type\")[\"Outcome type\"].count().sort_values(ascending=False))\n",
    "verdicts.plot.bar()"
   ]
  },
  {
   "cell_type": "code",
   "execution_count": null,
   "metadata": {},
   "outputs": [],
   "source": [
    "outcomessas = pd.Series(sas.groupby(\"Outcome\")[\"Outcome\"].count().sort_values(ascending=False))\n",
    "outcomessas.plot.bar()"
   ]
  },
  {
   "cell_type": "markdown",
   "metadata": {},
   "source": [
    "### Time series"
   ]
  },
  {
   "cell_type": "code",
   "execution_count": null,
   "metadata": {},
   "outputs": [],
   "source": [
    "forces = ['metropolitan', 'city-of-london', 'kent', 'sussex', 'surrey', \n",
    "          'essex', 'hertfordshire', 'thames-valley', 'bedfordshire', 'hampshire']\n",
    "df_streets = load_forces(forces)"
   ]
  },
  {
   "cell_type": "code",
   "execution_count": null,
   "metadata": {},
   "outputs": [],
   "source": [
    "df_streets_all = pd.DataFrame()\n",
    "\n",
    "for key in forces:\n",
    "    df_streets_all = pd.concat([df_streets_all, df_streets[0][key]], ignore_index=True)"
   ]
  },
  {
   "cell_type": "code",
   "execution_count": null,
   "metadata": {
    "scrolled": true
   },
   "outputs": [],
   "source": [
    "df_streets_all.dtypes"
   ]
  },
  {
   "cell_type": "code",
   "execution_count": null,
   "metadata": {},
   "outputs": [],
   "source": [
    "file_path_employment = './Data/2019_employment.csv'\n",
    "df_employment = pd.read_csv(file_path_employment, low_memory=False, sep=';')"
   ]
  },
  {
   "cell_type": "code",
   "execution_count": null,
   "metadata": {
    "scrolled": true
   },
   "outputs": [],
   "source": [
    "df_employment.dtypes"
   ]
  },
  {
   "cell_type": "code",
   "execution_count": null,
   "metadata": {
    "scrolled": false
   },
   "outputs": [],
   "source": [
    "df_employment[df_employment['LSOA Code (2011)'] == 'E01000027']"
   ]
  },
  {
   "cell_type": "code",
   "execution_count": null,
   "metadata": {},
   "outputs": [],
   "source": [
    "df_employment.columns"
   ]
  },
  {
   "cell_type": "code",
   "execution_count": null,
   "metadata": {
    "scrolled": true
   },
   "outputs": [],
   "source": [
    "df_employment[['LSOA Code (2011)', 'Local Authority District code (2019)', 'Local Authority District name (2019)', 'Employment Domain Score']]\n",
    "        "
   ]
  },
  {
   "cell_type": "code",
   "execution_count": null,
   "metadata": {
    "scrolled": false
   },
   "outputs": [],
   "source": [
    "df_streets_all = df_streets_all.merge(df_employment[['LSOA Code (2011)', 'Local Authority District code (2019)', 'Local Authority District name (2019)', 'Employment Domain Score']]\n",
    "        , how = 'left', left_on = 'LSOA code', right_on = 'LSOA Code (2011)')"
   ]
  },
  {
   "cell_type": "code",
   "execution_count": null,
   "metadata": {},
   "outputs": [],
   "source": [
    "df_streets_all = df_streets_all.drop(['LSOA Code (2011)'], axis=1)"
   ]
  },
  {
   "cell_type": "code",
   "execution_count": null,
   "metadata": {},
   "outputs": [],
   "source": [
    "file_path_income = './Data/2019_income.csv'\n",
    "df_income = pd.read_csv(file_path_income, low_memory=False, sep=';')"
   ]
  },
  {
   "cell_type": "code",
   "execution_count": null,
   "metadata": {
    "scrolled": true
   },
   "outputs": [],
   "source": [
    "df_income.dtypes"
   ]
  },
  {
   "cell_type": "code",
   "execution_count": null,
   "metadata": {
    "scrolled": false
   },
   "outputs": [],
   "source": [
    "df_income[df_income['LSOA Code (2011)'] == 'E01000027']"
   ]
  },
  {
   "cell_type": "code",
   "execution_count": null,
   "metadata": {
    "scrolled": true
   },
   "outputs": [],
   "source": [
    "df_income.columns"
   ]
  },
  {
   "cell_type": "code",
   "execution_count": null,
   "metadata": {
    "scrolled": true
   },
   "outputs": [],
   "source": [
    "df_income[['LSOA Code (2011)', 'Income Domain Score', 'IDACI Score', 'IDAOPI Score']]"
   ]
  },
  {
   "cell_type": "code",
   "execution_count": null,
   "metadata": {},
   "outputs": [],
   "source": [
    "df_streets_all = df_streets_all.merge(df_income[['LSOA Code (2011)', 'Income Domain Score', 'IDACI Score', 'IDAOPI Score']], how = 'left', left_on = 'LSOA code', right_on = 'LSOA Code (2011)')"
   ]
  },
  {
   "cell_type": "code",
   "execution_count": null,
   "metadata": {},
   "outputs": [],
   "source": [
    "df_streets_all = df_streets_all.drop(['LSOA Code (2011)'], axis=1)"
   ]
  },
  {
   "cell_type": "code",
   "execution_count": null,
   "metadata": {},
   "outputs": [],
   "source": [
    "df_streets_all.head()"
   ]
  },
  {
   "cell_type": "code",
   "execution_count": null,
   "metadata": {},
   "outputs": [],
   "source": [
    "file_path_police_strength = './Data/police_strength.csv'\n",
    "df_police_strength = pd.read_csv(file_path_police_strength, low_memory=False, sep=';')"
   ]
  },
  {
   "cell_type": "code",
   "execution_count": null,
   "metadata": {
    "scrolled": false
   },
   "outputs": [],
   "source": [
    "df_police_strength.head()"
   ]
  },
  {
   "cell_type": "code",
   "execution_count": null,
   "metadata": {},
   "outputs": [],
   "source": [
    "df_police_strength.dtypes"
   ]
  },
  {
   "cell_type": "code",
   "execution_count": null,
   "metadata": {},
   "outputs": [],
   "source": [
    "df_police_strength.columns"
   ]
  },
  {
   "cell_type": "code",
   "execution_count": null,
   "metadata": {
    "scrolled": true
   },
   "outputs": [],
   "source": [
    "df_police_strength[['force_name', '2019']]"
   ]
  },
  {
   "cell_type": "code",
   "execution_count": null,
   "metadata": {
    "scrolled": true
   },
   "outputs": [],
   "source": [
    "df_streets_all['Reported by'].unique()"
   ]
  },
  {
   "cell_type": "code",
   "execution_count": null,
   "metadata": {},
   "outputs": [],
   "source": [
    "force_conv = {'Metropolitan Police':'Metropolitan Police Service', \n",
    "              'London, City of':'City of London Police',\n",
    "              'Kent':'Kent Police', \n",
    "              'Hampshire':'Hampshire Constabulary',\n",
    "              'Avon & Somerset':'Avon and Somerset Constabulary', \n",
    "              'Sussex':'Sussex Police', \n",
    "              'Surrey':'Surrey Police',\n",
    "              'Essex':'Essex Police',\n",
    "              'Hertfordshire':'Hertfordshire Constabulary',\n",
    "              'Thames Valley':'Thames Valley Police',\n",
    "              'Bedfordshire':'Bedfordshire Police'}"
   ]
  },
  {
   "cell_type": "code",
   "execution_count": null,
   "metadata": {},
   "outputs": [],
   "source": [
    "df_police_strength['force_name'] = df_police_strength['force_name'].map(force_conv, na_action='ignore')"
   ]
  },
  {
   "cell_type": "code",
   "execution_count": null,
   "metadata": {},
   "outputs": [],
   "source": [
    "df_police_strength[df_police_strength['force_name'] == 'Bedfordshire Police']['2003']"
   ]
  },
  {
   "cell_type": "code",
   "execution_count": null,
   "metadata": {},
   "outputs": [],
   "source": [
    "df_streets_all.head()"
   ]
  },
  {
   "cell_type": "code",
   "execution_count": null,
   "metadata": {},
   "outputs": [],
   "source": [
    "for col in df_police_strength.columns[2:]:\n",
    "    df_streets_all = df_streets_all.merge(df_police_strength[['force_name', col]], how = 'left', left_on = 'Reported by', right_on = 'force_name')\n",
    "    df_streets_all = df_streets_all.drop(['force_name'], axis=1)\n",
    "\n",
    "    "
   ]
  },
  {
   "cell_type": "code",
   "execution_count": null,
   "metadata": {},
   "outputs": [],
   "source": [
    "df_streets_all = df_streets_all.merge(df_police_strength[['force_name', '2019']], how = 'left', left_on = 'Reported by', right_on = 'force_name')\n"
   ]
  },
  {
   "cell_type": "code",
   "execution_count": null,
   "metadata": {},
   "outputs": [],
   "source": [
    "df_streets_all = df_streets_all.drop(['force_name'], axis=1)\n"
   ]
  },
  {
   "cell_type": "code",
   "execution_count": null,
   "metadata": {},
   "outputs": [],
   "source": [
    "file_path_police_funding = './Data/police_funding.csv'\n",
    "df_police_funding = pd.read_csv(file_path_police_funding, low_memory=False, sep=';')"
   ]
  },
  {
   "cell_type": "code",
   "execution_count": null,
   "metadata": {
    "scrolled": true
   },
   "outputs": [],
   "source": [
    "df_police_funding"
   ]
  },
  {
   "cell_type": "code",
   "execution_count": null,
   "metadata": {},
   "outputs": [],
   "source": [
    "df_police_funding['Police force'] = df_police_funding['Police force'].map(force_conv, na_action='ignore')"
   ]
  },
  {
   "cell_type": "code",
   "execution_count": null,
   "metadata": {},
   "outputs": [],
   "source": [
    "df_streets_all = df_streets_all.merge(df_police_funding[['Police force', '2018-19']], how = 'left', left_on = 'Reported by', right_on = 'Police force')\n"
   ]
  },
  {
   "cell_type": "code",
   "execution_count": null,
   "metadata": {
    "scrolled": true
   },
   "outputs": [],
   "source": [
    "df_streets_all.head(5)"
   ]
  },
  {
   "cell_type": "code",
   "execution_count": null,
   "metadata": {},
   "outputs": [],
   "source": [
    "df_streets_all = df_streets_all.drop(['Police force'], axis=1)\n"
   ]
  },
  {
   "cell_type": "code",
   "execution_count": null,
   "metadata": {},
   "outputs": [],
   "source": [
    "file_path_population = './Data/2018_population_data.csv'\n",
    "df_population = pd.read_csv(file_path_population, low_memory=False, sep=';')"
   ]
  },
  {
   "cell_type": "code",
   "execution_count": null,
   "metadata": {
    "scrolled": true
   },
   "outputs": [],
   "source": [
    "df_population"
   ]
  },
  {
   "cell_type": "code",
   "execution_count": null,
   "metadata": {},
   "outputs": [],
   "source": [
    "df_streets_all = df_streets_all.merge(df_population[['CODE', 'POPULATION (2018)']], how = 'left', left_on = 'Local Authority District code (2019)', right_on = 'CODE')\n"
   ]
  },
  {
   "cell_type": "code",
   "execution_count": null,
   "metadata": {},
   "outputs": [],
   "source": [
    "df_streets_all.head()"
   ]
  },
  {
   "cell_type": "code",
   "execution_count": null,
   "metadata": {},
   "outputs": [],
   "source": [
    "df_streets_all = df_streets_all.drop(['CODE'], axis=1)\n"
   ]
  },
  {
   "cell_type": "code",
   "execution_count": null,
   "metadata": {},
   "outputs": [],
   "source": [
    "df_streets_all.rename(columns = {'2019':'Police Strength', '2018-19':'Police Funding', 'POPULATION (2018)':'Population'}, inplace = True)\n"
   ]
  },
  {
   "cell_type": "code",
   "execution_count": null,
   "metadata": {},
   "outputs": [],
   "source": [
    "df_2019 = df_streets_all[df_streets_all['Month'].str.contains('2019')]"
   ]
  },
  {
   "cell_type": "code",
   "execution_count": null,
   "metadata": {
    "scrolled": false
   },
   "outputs": [],
   "source": [
    "df_2019.to_csv('./Data/2019_data.csv', index=False)"
   ]
  },
  {
   "cell_type": "markdown",
   "metadata": {},
   "source": [
    "### Choropleth map"
   ]
  },
  {
   "cell_type": "code",
   "execution_count": null,
   "metadata": {},
   "outputs": [],
   "source": [
    "mapbox_access_token = 'pk.eyJ1Ijoia2Npbm5heSIsImEiOiJja3lkMDJhcmUwODJmMm9zMjhob2V1N296In0.ymuiGnyaAIJSFC71UwlZYQ'\n",
    "px.set_mapbox_access_token(mapbox_access_token)"
   ]
  },
  {
   "cell_type": "code",
   "execution_count": null,
   "metadata": {},
   "outputs": [],
   "source": [
    "# Load different datasets\n",
    "df_postcodes = pd.read_csv('./Data/2019_postcodes.csv', low_memory=False)\n",
    "df_postcodes = df_postcodes[df_postcodes['rgn'] == 'E12000007']\n",
    "\n",
    "LSOAS_all_of_london = list(df_postcodes['lsoa11'].unique())\n",
    "\n",
    "df_income = pd.read_csv('./Data/2019_income.csv', low_memory=False)\n",
    "df_income = df_income[df_income[\"LSOA Code (2011)\"].isin(LSOAS_all_of_london)]\n",
    "\n",
    "df_employment = pd.read_csv('./Data/2019_employment.csv', low_memory=False)\n",
    "df_employment = df_employment[df_employment[\"LSOA Code (2011)\"].isin(LSOAS_all_of_london)]\n",
    "\n",
    "df_stop_and_search = pd.read_csv('./Data/2019_city_of_london_stop_and_search.csv').append(pd.read_csv('./Data/2019_metropolitan_stop_and_search.csv'))\n",
    "df_arrests = df_stop_and_search[df_stop_and_search['Outcome linked to object of search'] == True]\n",
    "\n",
    "df_searches = df_stop_and_search[df_stop_and_search['Latitude'].notnull()]\n",
    "df_searches = df_searches[df_searches['Longitude'].notnull()]\n",
    "\n",
    "df_arrests = df_arrests[df_arrests['Latitude'].notnull()]\n",
    "df_arrests = df_arrests[df_arrests['Longitude'].notnull()]"
   ]
  },
  {
   "cell_type": "code",
   "execution_count": null,
   "metadata": {},
   "outputs": [],
   "source": [
    "df_metropolitan_street = combine_csvs_in_dir_to_df('multidata/metropolitan/street')\n",
    "df_metropolitan_street = df_metropolitan_street[df_metropolitan_street[\"LSOA code\"].isin(LSOAS_all_of_london)]\n",
    "\n",
    "df_cityoflondon_street = combine_csvs_in_dir_to_df('multidata/city-of-london/street')\n",
    "df_cityoflondon_street = df_cityoflondon_street[df_cityoflondon_street[\"LSOA code\"].isin(LSOAS_all_of_london)]\n",
    "\n",
    "df_alloflondon_street = df_metropolitan_street.append(df_cityoflondon_street)\n",
    "df_alloflondon_street = df_alloflondon_street.dropna(axis=0, subset=['Crime type'])"
   ]
  },
  {
   "cell_type": "code",
   "execution_count": null,
   "metadata": {},
   "outputs": [],
   "source": [
    "# Group the data\n",
    "df_alloflondon_street_counts = df_alloflondon_street.groupby('LSOA code').size().to_frame('size')\n",
    "df_alloflondon_street_counts.reset_index(level=0, inplace=True)\n",
    "df_alloflondon_street_counts['log(size)'] = df_alloflondon_street_counts['size'].apply(lambda x: math.log(x))\n",
    "df_alloflondon_street_counts = df_alloflondon_street_counts.rename(columns={\"size\": \"Crime rate\", \"log(size)\": \"Crime rate log\"})\n",
    "df_alloflondon_street_counts.head(5)"
   ]
  },
  {
   "cell_type": "code",
   "execution_count": null,
   "metadata": {},
   "outputs": [],
   "source": [
    "# Load GeoJSON file\n",
    "GEOJSON_FULL = json.load(open('Data\\LSOAS_all_of_london.geojson'))"
   ]
  },
  {
   "cell_type": "code",
   "execution_count": null,
   "metadata": {},
   "outputs": [],
   "source": [
    "# Create Mapbox choropleth map"
   ]
  },
  {
   "cell_type": "code",
   "execution_count": null,
   "metadata": {},
   "outputs": [],
   "source": [
    "fig = px.choropleth_mapbox(\n",
    "    df_income,\n",
    "    geojson = GEOJSON_FULL,\n",
    "    locations = 'LSOA Code (2011)',\n",
    "    color = 'Income Domain Rank (where 1 is most deprived)',\n",
    "    color_continuous_scale = \"Viridis\",\n",
    "    mapbox_style = \"carto-positron\",\n",
    "    zoom = 8.6,\n",
    "    center = {\"lat\": 51.49, \"lon\": -0.12},\n",
    "    opacity = 0.9\n",
    ")\n",
    "\n",
    "fig.update_traces(marker_line_width=0)\n",
    "\n",
    "fig.show()"
   ]
  },
  {
   "cell_type": "code",
   "execution_count": null,
   "metadata": {},
   "outputs": [],
   "source": [
    "fig = px.choropleth_mapbox(\n",
    "    df_employment,\n",
    "    geojson = GEOJSON_FULL,\n",
    "    locations = 'LSOA Code (2011)',\n",
    "    color = 'Employment Domain Rank (where 1 is most deprived)',\n",
    "    color_continuous_scale = \"Viridis\",\n",
    "    mapbox_style = \"carto-positron\",\n",
    "    zoom = 8.6,\n",
    "    center = {\"lat\": 51.49, \"lon\": -0.12},\n",
    "    opacity = 0.9\n",
    ")\n",
    "\n",
    "fig.update_traces(marker_line_width=0)\n",
    "\n",
    "fig.show()"
   ]
  },
  {
   "cell_type": "code",
   "execution_count": null,
   "metadata": {},
   "outputs": [],
   "source": [
    "fig = go.Figure(go.Scattermapbox(\n",
    "        lat=list(df_searches['Latitude']),\n",
    "        lon=list(df_searches['Longitude']),\n",
    "        mode='markers',\n",
    "        marker=go.scattermapbox.Marker(\n",
    "            size=2,\n",
    "            opacity=1,\n",
    "            color=\"orange\"\n",
    "        ),\n",
    "        text=list(df_searches['Type']),\n",
    "        name=\"Searches\"\n",
    "    ))\n",
    "\n",
    "fig.add_trace(\n",
    "    go.Scattermapbox(\n",
    "        lat=list(df_arrests['Latitude']),\n",
    "        lon=list(df_arrests['Longitude']),\n",
    "        mode='markers',\n",
    "        marker=go.scattermapbox.Marker(\n",
    "            size=5,\n",
    "            opacity=1,\n",
    "            color=\"blue\"\n",
    "        ),\n",
    "        text=list(df_arrests['Type']),\n",
    "        name=\"Arrests\"\n",
    "    )\n",
    ")\n",
    "\n",
    "fig.update_layout(\n",
    "    hovermode='closest',\n",
    "    mapbox=dict(\n",
    "        accesstoken=mapbox_access_token,\n",
    "        bearing=0,\n",
    "        center=go.layout.mapbox.Center(\n",
    "            lat=51.49,\n",
    "            lon=-0.12\n",
    "        ),\n",
    "        pitch=0,\n",
    "        zoom=8.6\n",
    "    )\n",
    ")\n",
    "\n",
    "fig.show()"
   ]
  },
  {
   "cell_type": "code",
   "execution_count": null,
   "metadata": {},
   "outputs": [],
   "source": [
    "fig = px.choropleth_mapbox(\n",
    "    df_alloflondon_street_counts,\n",
    "    geojson = GEOJSON_FULL,\n",
    "    locations = 'LSOA code',\n",
    "    color = 'Crime rate',\n",
    "    color_continuous_scale = \"Viridis\",\n",
    "    mapbox_style = \"carto-positron\",\n",
    "    zoom = 8.6,\n",
    "    center = {\"lat\": 51.49, \"lon\": -0.12},\n",
    "    opacity = 0.9\n",
    ")\n",
    "\n",
    "fig.update_traces(marker_line_width=0)\n",
    "\n",
    "fig.show()"
   ]
  },
  {
   "cell_type": "code",
   "execution_count": null,
   "metadata": {},
   "outputs": [],
   "source": [
    "fig = px.choropleth_mapbox(\n",
    "    df_alloflondon_street_counts,\n",
    "    geojson = GEOJSON_FULL,\n",
    "    locations = 'LSOA code',\n",
    "    color = 'Crime rate log',\n",
    "    color_continuous_scale = \"Viridis\",\n",
    "    mapbox_style = \"carto-positron\",\n",
    "    zoom = 8.6,\n",
    "    center = {\"lat\": 51.49, \"lon\": -0.12},\n",
    "    opacity = 0.9\n",
    ")\n",
    "\n",
    "fig.update_traces(marker_line_width=0)\n",
    "\n",
    "fig.show()"
   ]
  },
  {
   "cell_type": "markdown",
   "metadata": {},
   "source": [
    "## Models"
   ]
  },
  {
   "cell_type": "markdown",
   "metadata": {},
   "source": [
    "### K-Nearest Neighbors"
   ]
  },
  {
   "cell_type": "code",
   "execution_count": null,
   "metadata": {
    "scrolled": true
   },
   "outputs": [],
   "source": [
    "data =  pd.read_csv('.Data/2019_data.csv', encoding='utf-8', decimal=',')\n",
    "data.shape\n",
    "prob = data"
   ]
  },
  {
   "cell_type": "code",
   "execution_count": null,
   "metadata": {},
   "outputs": [],
   "source": [
    "#to give insight in the crimes per LSOA in 2019\n",
    "crimerate = prob.groupby('LSOA code')['Month'].count()\n",
    "#sum(crimerate.values)\n",
    "crimerate"
   ]
  },
  {
   "cell_type": "code",
   "execution_count": null,
   "metadata": {},
   "outputs": [],
   "source": [
    "#to get the cluster data for each lsoa once\n",
    "prob = prob.drop_duplicates(subset=\"LSOA code\", keep='first')"
   ]
  },
  {
   "cell_type": "code",
   "execution_count": null,
   "metadata": {},
   "outputs": [],
   "source": [
    "#remove the nan values\n",
    "a = prob[prob['Employment Domain Score'].notna()]"
   ]
  },
  {
   "cell_type": "code",
   "execution_count": null,
   "metadata": {},
   "outputs": [],
   "source": [
    "### Get all the features columns except the class\n",
    "features_lst = ['LSOA code','Employment Domain Score','Income Domain Score','IDACI Score','IDAOPI Score','Police Strength',\n",
    "                'Police Funding','Population']\n",
    "\n",
    "\n",
    "### Get the features data\n",
    "data = a[features_lst].reset_index()"
   ]
  },
  {
   "cell_type": "code",
   "execution_count": null,
   "metadata": {},
   "outputs": [],
   "source": [
    "fit_data = data[['Employment Domain Score', 'Income Domain Score',\n",
    "       'IDACI Score', 'IDAOPI Score', 'Police Strength', 'Police Funding',\n",
    "       'Population']]"
   ]
  },
  {
   "cell_type": "code",
   "execution_count": null,
   "metadata": {},
   "outputs": [],
   "source": [
    "#remove the 1.101.360 -> this is not computable to float\n",
    "fit_data['Population'] = fit_data['Population'].replace(['1.101.360'],'1101.360')"
   ]
  },
  {
   "cell_type": "code",
   "execution_count": null,
   "metadata": {},
   "outputs": [],
   "source": [
    "#replace the nan values with the mode of the column\n",
    "for column in fit_data.columns:\n",
    "    fit_data[column].fillna(fit_data[column].mode()[0], inplace=True)"
   ]
  },
  {
   "cell_type": "code",
   "execution_count": null,
   "metadata": {},
   "outputs": [],
   "source": [
    "fit_data"
   ]
  },
  {
   "cell_type": "code",
   "execution_count": null,
   "metadata": {},
   "outputs": [],
   "source": [
    "clf = KMeansConstrained(n_clusters = 50, size_min=250, size_max=800,random_state=0)"
   ]
  },
  {
   "cell_type": "code",
   "execution_count": null,
   "metadata": {},
   "outputs": [],
   "source": [
    "clf.fit(fit_data)"
   ]
  },
  {
   "cell_type": "code",
   "execution_count": null,
   "metadata": {},
   "outputs": [],
   "source": [
    "#make a new dataframe\n",
    "label_data = pd.DataFrame({'LSOA code': data['LSOA code'], 'Cluster': clf.labels_})\n",
    "#label_data"
   ]
  },
  {
   "cell_type": "code",
   "execution_count": null,
   "metadata": {},
   "outputs": [],
   "source": [
    "label_data.sort_values(by=['LSOA code'], inplace = True)\n",
    "label_data['crime numb'] = crimerate.values\n",
    "label_data.groupby('Cluster')['crime numb'].sum().plot(kind ='bar', ylabel='Number of crimes', \n",
    "                                                       title=' Distribution of crimes over the clusters');"
   ]
  },
  {
   "cell_type": "code",
   "execution_count": null,
   "metadata": {},
   "outputs": [],
   "source": [
    "label_data.groupby('Cluster')"
   ]
  },
  {
   "cell_type": "code",
   "execution_count": null,
   "metadata": {},
   "outputs": [],
   "source": [
    "#makes a dataframe for each cluster\n",
    "df = [x for _, x in label_data.groupby('Cluster')]\n",
    "numbcrimes = []\n",
    "for i in df:\n",
    "    numbcrimes.append(i['crime numb'].sum())"
   ]
  },
  {
   "cell_type": "code",
   "execution_count": null,
   "metadata": {},
   "outputs": [],
   "source": [
    "plt.hist(numbcrimes, bins=23)"
   ]
  },
  {
   "cell_type": "code",
   "execution_count": null,
   "metadata": {},
   "outputs": [],
   "source": [
    "cluster1 = df[2]['LSOA code'].values.tolist()\n",
    "#cluster1"
   ]
  },
  {
   "cell_type": "code",
   "execution_count": null,
   "metadata": {},
   "outputs": [],
   "source": [
    "df_street = pd.read_csv('./Data/city-of-london/city-of-london_street.csv')\n",
    "df_street.index = pd.to_datetime(df_street['Month'])\n",
    "df_notna = df_street[df_street['LSOA code'].notna()]"
   ]
  },
  {
   "cell_type": "code",
   "execution_count": null,
   "metadata": {},
   "outputs": [],
   "source": [
    "df_notna = df_notna[df_notna['LSOA code'].isin(cluster1)]"
   ]
  },
  {
   "cell_type": "code",
   "execution_count": null,
   "metadata": {},
   "outputs": [],
   "source": [
    "data = df_notna.groupby(by=[df_notna.index.date])['Month'].count()\n",
    "data"
   ]
  },
  {
   "cell_type": "markdown",
   "metadata": {},
   "source": [
    "### SARIMA"
   ]
  },
  {
   "cell_type": "code",
   "execution_count": null,
   "metadata": {},
   "outputs": [],
   "source": [
    "# split the data into train and testdata and remove the covid data\n",
    "for t in range(0,len(data.index)):\n",
    "    if data.index[t] >= datetime.date(2019, 1, 1):\n",
    "        break\n",
    "for m in range(t+1, len(data.index)):\n",
    "    if data.index[m] >= datetime.date(2020,1,1):\n",
    "        break\n",
    "\n",
    "data_train = data[:t]\n",
    "data_test = data[t:m]"
   ]
  },
  {
   "cell_type": "code",
   "execution_count": null,
   "metadata": {},
   "outputs": [],
   "source": [
    "#plot the train test split\n",
    "sns.lineplot(data=data_train)\n",
    "sns.lineplot(data=data_test);"
   ]
  },
  {
   "cell_type": "code",
   "execution_count": null,
   "metadata": {},
   "outputs": [],
   "source": [
    "# Seasonal - fit stepwise auto-ARIMA\n",
    "Sarima = pm.auto_arima(data_train, start_p=1, start_q=1,\n",
    "                         test='adf',\n",
    "                         max_p=3, max_q=3, m=12,\n",
    "                         start_P=0, seasonal=True,\n",
    "                         d=None, D=1, trace=True,\n",
    "                         error_action='ignore',  \n",
    "                         suppress_warnings=True, \n",
    "                         stepwise=True)\n",
    "\n",
    "Sarima.summary() "
   ]
  },
  {
   "cell_type": "code",
   "execution_count": null,
   "metadata": {},
   "outputs": [],
   "source": [
    "n_periods = 12\n",
    "fitted, confint = Sarima.predict(n_periods=n_periods, return_conf_int=True)\n",
    "index_of_fc = pd.date_range(data_train.index[-1], periods = n_periods, freq='MS')\n",
    "\n",
    "# make series for plotting purpose\n",
    "fitted_series = pd.Series(fitted, index=index_of_fc)\n",
    "lower_series = pd.Series(confint[:, 0], index=index_of_fc)\n",
    "upper_series = pd.Series(confint[:, 1], index=index_of_fc)\n",
    "\n",
    "# Plot\n",
    "plt.plot(data_train)\n",
    "plt.plot(fitted_series, color='darkgreen')\n",
    "plt.fill_between(lower_series.index, \n",
    "                 lower_series, \n",
    "                 upper_series, \n",
    "                 color='k', alpha=.15)\n",
    "\n",
    "plt.title(\"SARIMA model for LSOA E01000001\")\n",
    "plt.plot(data_test)\n",
    "plt.legend()\n",
    "plt.show()"
   ]
  },
  {
   "cell_type": "markdown",
   "metadata": {},
   "source": [
    "### Decision Tree Model"
   ]
  },
  {
   "cell_type": "code",
   "execution_count": null,
   "metadata": {},
   "outputs": [],
   "source": [
    "# Input the 2019 Dataset\n",
    "df = pd.read_csv('./Data/2019_data.csv')"
   ]
  },
  {
   "cell_type": "code",
   "execution_count": null,
   "metadata": {},
   "outputs": [],
   "source": [
    "# Display import\n",
    "df.head(-5)"
   ]
  },
  {
   "cell_type": "code",
   "execution_count": null,
   "metadata": {},
   "outputs": [],
   "source": [
    "# Drop required values that contain NAN\n",
    "df.dropna(subset=['LSOA code', 'Month', 'Location', 'Crime type', 'Longitude', 'Latitude', 'Employment Domain Score',\n",
    "       'Income Domain Score', 'IDACI Score', 'IDAOPI Score', 'Police Strength',\n",
    "       'Police Funding', 'Population'], inplace=True)"
   ]
  },
  {
   "cell_type": "code",
   "execution_count": null,
   "metadata": {},
   "outputs": [],
   "source": [
    "df[df['Month'] == '2019-05']['Crime type'].mode()"
   ]
  },
  {
   "cell_type": "code",
   "execution_count": null,
   "metadata": {},
   "outputs": [],
   "source": [
    "for month in df['Month'].unique():\n",
    "    print(month)\n",
    "    print(df[df['Month'] == month]['Crime type'].mode())"
   ]
  },
  {
   "cell_type": "code",
   "execution_count": null,
   "metadata": {},
   "outputs": [],
   "source": [
    "df.columns"
   ]
  },
  {
   "cell_type": "code",
   "execution_count": null,
   "metadata": {},
   "outputs": [],
   "source": [
    "df.replace(to_replace=\",\", value=\".\", regex=True, inplace=True)"
   ]
  },
  {
   "cell_type": "code",
   "execution_count": null,
   "metadata": {},
   "outputs": [],
   "source": [
    "df['Population'].isnull().sum()"
   ]
  },
  {
   "cell_type": "code",
   "execution_count": null,
   "metadata": {},
   "outputs": [],
   "source": [
    "df['Police Strength'].isnull().sum()"
   ]
  },
  {
   "cell_type": "code",
   "execution_count": null,
   "metadata": {},
   "outputs": [],
   "source": [
    "df['Population'] = df['Population'].str.replace('.', '').fillna(df['Population']*1000)"
   ]
  },
  {
   "cell_type": "code",
   "execution_count": null,
   "metadata": {},
   "outputs": [],
   "source": [
    "df['Police Strength'] = df['Police Strength'].str.replace('.','')"
   ]
  },
  {
   "cell_type": "markdown",
   "metadata": {},
   "source": [
    "#### Crime Type Prediction"
   ]
  },
  {
   "cell_type": "code",
   "execution_count": null,
   "metadata": {},
   "outputs": [],
   "source": [
    "# Encode Desired Values to integers to use in models\n",
    "ohe = LabelEncoder()\n",
    "df['E LSOA code'] = ohe.fit_transform(df['LSOA code'].dropna().values)\n",
    "df['E Month'] = ohe.fit_transform(df['Month'].dropna().values)\n",
    "df['E Location'] = ohe.fit_transform(df['Location'].dropna().values)"
   ]
  },
  {
   "cell_type": "code",
   "execution_count": null,
   "metadata": {},
   "outputs": [],
   "source": [
    "# Create an X and Y\n",
    "X = df[['E LSOA code', 'E Month', 'E Location', 'Longitude', 'Latitude', 'Employment Domain Score',\n",
    "       'Income Domain Score', 'IDACI Score', 'IDAOPI Score', 'Police Strength',\n",
    "       'Police Funding', 'Population']].values\n",
    "Y = df['Crime type'].values"
   ]
  },
  {
   "cell_type": "code",
   "execution_count": null,
   "metadata": {},
   "outputs": [],
   "source": [
    "# Fit Decision Tree on Crime Types and split the dataset in training and data.\n",
    "clf = tree.DecisionTreeClassifier(max_depth=10)\n",
    "X_train, X_test, y_train, y_test = train_test_split(X, Y, test_size=0.1, random_state=42)\n",
    "clf.fit(X_train, y_train)"
   ]
  },
  {
   "cell_type": "code",
   "execution_count": null,
   "metadata": {},
   "outputs": [],
   "source": [
    "# Predictions on Test Set\n",
    "preds = clf.predict(X_test)"
   ]
  },
  {
   "cell_type": "code",
   "execution_count": null,
   "metadata": {},
   "outputs": [],
   "source": [
    "accuracy_score(y_test, preds)"
   ]
  },
  {
   "cell_type": "code",
   "execution_count": null,
   "metadata": {},
   "outputs": [],
   "source": [
    "# Predictions in a Dataframe\n",
    "df_preds = pd.DataFrame()\n",
    "df_preds['y'] = y_test\n",
    "df_preds['pred'] = preds"
   ]
  },
  {
   "cell_type": "code",
   "execution_count": null,
   "metadata": {},
   "outputs": [],
   "source": [
    "df_preds"
   ]
  },
  {
   "cell_type": "code",
   "execution_count": null,
   "metadata": {},
   "outputs": [],
   "source": [
    "# Accuracy\n",
    "len(df_preds.loc[df_preds['y'] == df_preds['pred']]) / len(y_test)"
   ]
  },
  {
   "cell_type": "code",
   "execution_count": null,
   "metadata": {},
   "outputs": [],
   "source": [
    "df_preds['y'].value_counts()"
   ]
  },
  {
   "cell_type": "code",
   "execution_count": null,
   "metadata": {},
   "outputs": [],
   "source": [
    "df_preds['pred'].value_counts()"
   ]
  },
  {
   "cell_type": "code",
   "execution_count": null,
   "metadata": {},
   "outputs": [],
   "source": [
    "balanced_accuracy_score(df_preds['y'].values, df_preds['pred'].values)"
   ]
  },
  {
   "cell_type": "code",
   "execution_count": null,
   "metadata": {},
   "outputs": [],
   "source": [
    "accuracies = {}\n",
    "for crime in df_preds['y'].unique():\n",
    "    crime_y = df_preds.loc[df_preds['y'] == crime, 'y'].values\n",
    "    crime_pred = df_preds.loc[df_preds['y'] == crime, 'pred'].values\n",
    "    acc = round(accuracy_score(crime_y,crime_pred) * 100,2)\n",
    "    accuracies[crime] = acc\n",
    "#     print('Accuracy for {} is {}%'.format(crime,acc))\n",
    "df_crimes = pd.DataFrame.from_dict(accuracies, orient='index').sort_values(0, ascending=False)\n",
    "df_crimes"
   ]
  },
  {
   "cell_type": "code",
   "execution_count": null,
   "metadata": {},
   "outputs": [],
   "source": [
    "counts = {}\n",
    "for crime in df_preds['y'].unique():\n",
    "    c = round((len(df_preds[df_preds['y'] == crime]) / len(df_preds)) *100,2)\n",
    "    counts[crime] = c\n",
    "df_crimes['Relativity'] = df_crimes.index.map(counts)\n",
    "df_crimes"
   ]
  },
  {
   "cell_type": "code",
   "execution_count": null,
   "metadata": {},
   "outputs": [],
   "source": [
    "#df_preds['y'].value_counts().plot(kind='barh')\n",
    "x = [str(x) for x in df_preds['y'].value_counts().sort_index().index.values]\n",
    "y = df_preds['y'].value_counts().sort_index().values\n",
    "y2 = [len(df_preds[df_preds['pred'] == crime]) for crime in x]\n",
    "len(x), len(y), len(y2)"
   ]
  },
  {
   "cell_type": "code",
   "execution_count": null,
   "metadata": {},
   "outputs": [],
   "source": [
    "labels = x\n",
    "men_means = y\n",
    "women_means = y2\n",
    "\n",
    "x = np.arange(len(labels))  # the label locations\n",
    "width = 0.35  # the width of the bars\n",
    "\n",
    "fig, ax = plt.subplots()\n",
    "rects1 = ax.bar(x - width/2, men_means, width, label='Men')\n",
    "rects2 = ax.bar(x + width/2, women_means, width, label='Women')\n",
    "\n",
    "# Add some text for labels, title and custom x-axis tick labels, etc.\n",
    "ax.set_ylabel('Scores')\n",
    "ax.set_title('Scores by group and gender')\n",
    "ax.set_xticklabels(x)\n",
    "ax.legend()\n",
    "\n",
    "# ax.bar_label(rects1, padding=3)\n",
    "# ax.bar_label(rects2, padding=3)\n",
    "\n",
    "fig.tight_layout()\n",
    "\n",
    "plt.show()"
   ]
  },
  {
   "cell_type": "code",
   "execution_count": null,
   "metadata": {},
   "outputs": [],
   "source": [
    "# Plot the Decision Tree\n",
    "tree.plot_tree(clf);"
   ]
  },
  {
   "cell_type": "markdown",
   "metadata": {},
   "source": [
    "### Experimental"
   ]
  },
  {
   "cell_type": "markdown",
   "metadata": {},
   "source": [
    "#### Random Forest"
   ]
  },
  {
   "cell_type": "markdown",
   "metadata": {},
   "source": [
    "#### XG Boost"
   ]
  }
 ],
 "metadata": {
  "kernelspec": {
   "display_name": "Python 3",
   "language": "python",
   "name": "python3"
  },
  "language_info": {
   "codemirror_mode": {
    "name": "ipython",
    "version": 3
   },
   "file_extension": ".py",
   "mimetype": "text/x-python",
   "name": "python",
   "nbconvert_exporter": "python",
   "pygments_lexer": "ipython3",
   "version": "3.6.8"
  }
 },
 "nbformat": 4,
 "nbformat_minor": 4
}
