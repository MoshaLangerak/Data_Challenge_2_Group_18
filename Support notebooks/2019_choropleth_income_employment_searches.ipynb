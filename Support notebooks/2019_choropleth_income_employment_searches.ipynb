{
 "cells": [
  {
   "cell_type": "markdown",
   "id": "35e3c73c",
   "metadata": {},
   "source": [
    "### Import required libraries"
   ]
  },
  {
   "cell_type": "code",
   "execution_count": null,
   "id": "15c6eb21",
   "metadata": {},
   "outputs": [],
   "source": [
    "import httpx\n",
    "import json\n",
    "import math\n",
    "import os"
   ]
  },
  {
   "cell_type": "code",
   "execution_count": null,
   "id": "143eafb6",
   "metadata": {},
   "outputs": [],
   "source": [
    "import pandas as pd\n",
    "import plotly.express as px\n",
    "import plotly.graph_objects as go"
   ]
  },
  {
   "cell_type": "code",
   "execution_count": null,
   "id": "746eafca",
   "metadata": {},
   "outputs": [],
   "source": [
    "from tqdm import tqdm"
   ]
  },
  {
   "cell_type": "markdown",
   "id": "30132fad",
   "metadata": {},
   "source": [
    "### Setting mapbox access token\n",
    "\n",
    "You can easily get your own mapbox access token via the following link: https://account.mapbox.com/access-tokens/"
   ]
  },
  {
   "cell_type": "code",
   "execution_count": null,
   "id": "dc6b67e5",
   "metadata": {},
   "outputs": [],
   "source": [
    "mapbox_access_token = 'pk.eyJ1Ijoia2Npbm5heSIsImEiOiJja3lkMDJhcmUwODJmMm9zMjhob2V1N296In0.ymuiGnyaAIJSFC71UwlZYQ'\n",
    "px.set_mapbox_access_token(mapbox_access_token)"
   ]
  },
  {
   "cell_type": "markdown",
   "id": "d639b45e",
   "metadata": {},
   "source": [
    "### Configuration \n",
    "**load_from_file**  \n",
    "set to True after having run the notebook once to prevent re-scraping the data when already available"
   ]
  },
  {
   "cell_type": "code",
   "execution_count": null,
   "id": "be5ec9b1",
   "metadata": {},
   "outputs": [],
   "source": [
    "load_from_file = True"
   ]
  },
  {
   "cell_type": "markdown",
   "id": "c396e958",
   "metadata": {},
   "source": [
    "### Helper functions"
   ]
  },
  {
   "cell_type": "code",
   "execution_count": null,
   "id": "599415d8",
   "metadata": {},
   "outputs": [],
   "source": [
    "def combine_csvs_in_dir_to_df(dir_name):\n",
    "    df = pd.DataFrame()\n",
    "    for root, directories, files in os.walk(dir_name):\n",
    "        for file in tqdm(files):\n",
    "            df = df.append(pd.read_csv(f'{dir_name}/{file}'))\n",
    "    return df"
   ]
  },
  {
   "cell_type": "markdown",
   "id": "0f65a618",
   "metadata": {},
   "source": [
    "### Load in datasets"
   ]
  },
  {
   "cell_type": "code",
   "execution_count": null,
   "id": "df5a20a3",
   "metadata": {},
   "outputs": [],
   "source": [
    "df_postcodes = pd.read_csv('data/2019_postcodes.csv', low_memory=False)\n",
    "df_postcodes = df_postcodes[df_postcodes['rgn'] == 'E12000007']\n",
    "\n",
    "LSOAS_all_of_london = list(df_postcodes['lsoa11'].unique())\n",
    "\n",
    "df_income = pd.read_csv('data/2019_income.csv', low_memory=False)\n",
    "df_income = df_income[df_income[\"LSOA Code (2011)\"].isin(LSOAS_all_of_london)]\n",
    "\n",
    "df_employment = pd.read_csv('data/2019_employment.csv', low_memory=False)\n",
    "df_employment = df_employment[df_employment[\"LSOA Code (2011)\"].isin(LSOAS_all_of_london)]\n",
    "\n",
    "df_stop_and_search = pd.read_csv('data/2019_city_of_london/2019_city_of_london_stop_and_search.csv').append(pd.read_csv('data/2019_metropolitan/2019_metropolitan_stop_and_search.csv'))\n",
    "df_arrests = df_stop_and_search[df_stop_and_search['Outcome linked to object of search'] == True]\n",
    "\n",
    "df_searches = df_stop_and_search[df_stop_and_search['Latitude'].notnull()]\n",
    "df_searches = df_searches[df_searches['Longitude'].notnull()]\n",
    "\n",
    "df_arrests = df_arrests[df_arrests['Latitude'].notnull()]\n",
    "df_arrests = df_arrests[df_arrests['Longitude'].notnull()]"
   ]
  },
  {
   "cell_type": "code",
   "execution_count": null,
   "id": "7f8f241b",
   "metadata": {},
   "outputs": [],
   "source": [
    "df_metropolitan_street = combine_csvs_in_dir_to_df('multidata/metropolitan/street')\n",
    "df_metropolitan_street = df_metropolitan_street[df_metropolitan_street[\"LSOA code\"].isin(LSOAS_all_of_london)]\n",
    "\n",
    "df_cityoflondon_street = combine_csvs_in_dir_to_df('multidata/city-of-london/street')\n",
    "df_cityoflondon_street = df_cityoflondon_street[df_cityoflondon_street[\"LSOA code\"].isin(LSOAS_all_of_london)]\n",
    "\n",
    "df_alloflondon_street = df_metropolitan_street.append(df_cityoflondon_street)\n",
    "df_alloflondon_street = df_alloflondon_street.dropna(axis=0, subset=['Crime type'])"
   ]
  },
  {
   "cell_type": "markdown",
   "id": "9516846b",
   "metadata": {},
   "source": [
    "### Group data"
   ]
  },
  {
   "cell_type": "code",
   "execution_count": null,
   "id": "c38c14ab",
   "metadata": {},
   "outputs": [],
   "source": [
    "df_alloflondon_street_counts = df_alloflondon_street.groupby('LSOA code').size().to_frame('size')\n",
    "df_alloflondon_street_counts.reset_index(level=0, inplace=True)\n",
    "df_alloflondon_street_counts['log(size)'] = df_alloflondon_street_counts['size'].apply(lambda x: math.log(x))\n",
    "df_alloflondon_street_counts = df_alloflondon_street_counts.rename(columns={\"size\": \"Crime rate\", \"log(size)\": \"Crime rate log\"})\n",
    "df_alloflondon_street_counts.head(5)"
   ]
  },
  {
   "cell_type": "markdown",
   "id": "b0cfc13c",
   "metadata": {},
   "source": [
    "### Scrape boundary GeoJSON from findthatpostcode.uk "
   ]
  },
  {
   "cell_type": "code",
   "execution_count": null,
   "id": "390fb5a6",
   "metadata": {
    "scrolled": true
   },
   "outputs": [],
   "source": [
    "if not load_from_file:\n",
    "    GEOJSON = {}\n",
    "    LSOA_length = len(LSOAS_all_of_london)\n",
    "    for idx, LSOA in enumerate(LSOAS_all_of_london):\n",
    "        res = httpx.get(f'https://findthatpostcode.uk/areas/{LSOA}.geojson')\n",
    "        body = json.loads(res.content.decode())\n",
    "        if \"message\" in body:\n",
    "            if \"boundary not found\" in body[\"message\"]:\n",
    "                print('Boundary not found for LSOA: '+str(LSOA))\n",
    "                continue\n",
    "        else:\n",
    "            print(f\"Successfully scraped {LSOA} ({idx}/{LSOA_length})\")\n",
    "        GEOJSON[LSOA] = body\n",
    "else:\n",
    "    GEOJSON_FULL = json.load(open('LSOAS_all_of_london.geojson'))"
   ]
  },
  {
   "cell_type": "markdown",
   "id": "2abd691c",
   "metadata": {},
   "source": [
    "### Merge the different GeoJSON boundaries that were scraped to one object"
   ]
  },
  {
   "cell_type": "code",
   "execution_count": null,
   "id": "00a25ccb",
   "metadata": {},
   "outputs": [],
   "source": [
    "if not load_from_file:\n",
    "    GEOJSON_FULL = {\n",
    "        \"type\": \"FeatureCollection\",\n",
    "        \"features\": []\n",
    "    }\n",
    "\n",
    "    for GEO in GEOJSON:\n",
    "        TEMP = GEOJSON[GEO]\n",
    "        TEMP[\"features\"][0][\"id\"] = GEO\n",
    "        GEOJSON_FULL[\"features\"].append(TEMP[\"features\"][0])\n",
    "\n",
    "    with open('LSOAS_all_of_london.geojson', 'w+') as outfile:\n",
    "        json.dump(GEOJSON_FULL, outfile)"
   ]
  },
  {
   "cell_type": "markdown",
   "id": "e22f5d33",
   "metadata": {},
   "source": [
    "### Create the Mapbox choropleth map using Plotly"
   ]
  },
  {
   "cell_type": "code",
   "execution_count": null,
   "id": "8d1126a8",
   "metadata": {},
   "outputs": [],
   "source": [
    "fig = px.choropleth_mapbox(\n",
    "    df_income,\n",
    "    geojson = GEOJSON_FULL,\n",
    "    locations = 'LSOA Code (2011)',\n",
    "    color = 'Income Domain Rank (where 1 is most deprived)',\n",
    "    color_continuous_scale = \"Viridis\",\n",
    "    mapbox_style = \"carto-positron\",\n",
    "    zoom = 8.6,\n",
    "    center = {\"lat\": 51.49, \"lon\": -0.12},\n",
    "    opacity = 0.9\n",
    ")\n",
    "\n",
    "fig.update_traces(marker_line_width=0)\n",
    "\n",
    "fig.show()"
   ]
  },
  {
   "cell_type": "code",
   "execution_count": null,
   "id": "a1760f7b",
   "metadata": {},
   "outputs": [],
   "source": [
    "fig = px.choropleth_mapbox(\n",
    "    df_employment,\n",
    "    geojson = GEOJSON_FULL,\n",
    "    locations = 'LSOA Code (2011)',\n",
    "    color = 'Employment Domain Rank (where 1 is most deprived)',\n",
    "    color_continuous_scale = \"Viridis\",\n",
    "    mapbox_style = \"carto-positron\",\n",
    "    zoom = 8.6,\n",
    "    center = {\"lat\": 51.49, \"lon\": -0.12},\n",
    "    opacity = 0.9\n",
    ")\n",
    "\n",
    "fig.update_traces(marker_line_width=0)\n",
    "\n",
    "fig.show()"
   ]
  },
  {
   "cell_type": "code",
   "execution_count": null,
   "id": "d2a6384a",
   "metadata": {},
   "outputs": [],
   "source": [
    "fig = go.Figure(go.Scattermapbox(\n",
    "        lat=list(df_searches['Latitude']),\n",
    "        lon=list(df_searches['Longitude']),\n",
    "        mode='markers',\n",
    "        marker=go.scattermapbox.Marker(\n",
    "            size=2,\n",
    "            opacity=1,\n",
    "            color=\"orange\"\n",
    "        ),\n",
    "        text=list(df_searches['Type']),\n",
    "        name=\"Searches\"\n",
    "    ))\n",
    "\n",
    "fig.add_trace(\n",
    "    go.Scattermapbox(\n",
    "        lat=list(df_arrests['Latitude']),\n",
    "        lon=list(df_arrests['Longitude']),\n",
    "        mode='markers',\n",
    "        marker=go.scattermapbox.Marker(\n",
    "            size=5,\n",
    "            opacity=1,\n",
    "            color=\"blue\"\n",
    "        ),\n",
    "        text=list(df_arrests['Type']),\n",
    "        name=\"Arrests\"\n",
    "    )\n",
    ")\n",
    "\n",
    "fig.update_layout(\n",
    "    hovermode='closest',\n",
    "    mapbox=dict(\n",
    "        accesstoken=mapbox_access_token,\n",
    "        bearing=0,\n",
    "        center=go.layout.mapbox.Center(\n",
    "            lat=51.49,\n",
    "            lon=-0.12\n",
    "        ),\n",
    "        pitch=0,\n",
    "        zoom=8.6\n",
    "    )\n",
    ")\n",
    "\n",
    "fig.show()"
   ]
  },
  {
   "cell_type": "code",
   "execution_count": null,
   "id": "87b86b3f",
   "metadata": {},
   "outputs": [],
   "source": [
    "fig = px.choropleth_mapbox(\n",
    "    df_alloflondon_street_counts,\n",
    "    geojson = GEOJSON_FULL,\n",
    "    locations = 'LSOA code',\n",
    "    color = 'Crime rate',\n",
    "    color_continuous_scale = \"Viridis\",\n",
    "    mapbox_style = \"carto-positron\",\n",
    "    zoom = 8.6,\n",
    "    center = {\"lat\": 51.49, \"lon\": -0.12},\n",
    "    opacity = 0.9\n",
    ")\n",
    "\n",
    "fig.update_traces(marker_line_width=0)\n",
    "\n",
    "fig.show()"
   ]
  },
  {
   "cell_type": "code",
   "execution_count": null,
   "id": "08391af7",
   "metadata": {},
   "outputs": [],
   "source": [
    "fig = px.choropleth_mapbox(\n",
    "    df_alloflondon_street_counts,\n",
    "    geojson = GEOJSON_FULL,\n",
    "    locations = 'LSOA code',\n",
    "    color = 'Crime rate log',\n",
    "    color_continuous_scale = \"Viridis\",\n",
    "    mapbox_style = \"carto-positron\",\n",
    "    zoom = 8.6,\n",
    "    center = {\"lat\": 51.49, \"lon\": -0.12},\n",
    "    opacity = 0.9\n",
    ")\n",
    "\n",
    "fig.update_traces(marker_line_width=0)\n",
    "\n",
    "fig.show()"
   ]
  },
  {
   "cell_type": "code",
   "execution_count": null,
   "id": "eb3fbcc6",
   "metadata": {},
   "outputs": [],
   "source": []
  }
 ],
 "metadata": {
  "kernelspec": {
   "display_name": "Python 3 (ipykernel)",
   "language": "python",
   "name": "python3"
  },
  "language_info": {
   "codemirror_mode": {
    "name": "ipython",
    "version": 3
   },
   "file_extension": ".py",
   "mimetype": "text/x-python",
   "name": "python",
   "nbconvert_exporter": "python",
   "pygments_lexer": "ipython3",
   "version": "3.9.7"
  }
 },
 "nbformat": 4,
 "nbformat_minor": 5
}
