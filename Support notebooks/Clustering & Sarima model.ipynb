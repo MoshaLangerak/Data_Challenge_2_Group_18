{
 "cells": [
  {
   "cell_type": "code",
   "execution_count": 1,
   "metadata": {
    "id": "xERd__4yEBbU"
   },
   "outputs": [],
   "source": [
    "import pandas as pd\n",
    "import seaborn as sns\n",
    "from sklearn.neighbors import NearestNeighbors\n",
    "import numpy as np\n",
    "from sklearn.neighbors import KNeighborsClassifier\n",
    "from sklearn.model_selection import train_test_split\n",
    "from sklearn.preprocessing import StandardScaler\n",
    "import matplotlib.pyplot as plt\n",
    "from sklearn.decomposition import PCA\n",
    "from sklearn.cluster import KMeans"
   ]
  },
  {
   "cell_type": "markdown",
   "metadata": {},
   "source": [
    "# Clustering"
   ]
  },
  {
   "cell_type": "code",
   "execution_count": 2,
   "metadata": {
    "scrolled": true
   },
   "outputs": [],
   "source": [
    "data =  pd.read_csv('2019_data.csv', encoding='utf-8', decimal=',')\n",
    "data.shape\n",
    "prob = data"
   ]
  },
  {
   "cell_type": "code",
   "execution_count": 3,
   "metadata": {},
   "outputs": [
    {
     "data": {
      "text/plain": [
       "LSOA code\n",
       "E01000001    359\n",
       "E01000002    336\n",
       "E01000003     68\n",
       "E01000005    748\n",
       "E01000006    110\n",
       "            ... \n",
       "W01001897      1\n",
       "W01001913      1\n",
       "W01001938      1\n",
       "W01001939      1\n",
       "W01001941      1\n",
       "Name: Month, Length: 13299, dtype: int64"
      ]
     },
     "execution_count": 3,
     "metadata": {},
     "output_type": "execute_result"
    }
   ],
   "source": [
    "#to give insight in the crimes per LSOA in 2019\n",
    "crimerate = prob.groupby('LSOA code')['Month'].count()\n",
    "#sum(crimerate.values)\n",
    "crimerate"
   ]
  },
  {
   "cell_type": "code",
   "execution_count": 4,
   "metadata": {},
   "outputs": [],
   "source": [
    "#to get the cluster data for each lsoa once\n",
    "prob = prob.drop_duplicates(subset=\"LSOA code\", keep='first')"
   ]
  },
  {
   "cell_type": "code",
   "execution_count": 5,
   "metadata": {},
   "outputs": [],
   "source": [
    "#remove the nan values\n",
    "a = prob[prob['Employment Domain Score'].notna()]"
   ]
  },
  {
   "cell_type": "code",
   "execution_count": 6,
   "metadata": {},
   "outputs": [],
   "source": [
    "### Get all the features columns except the class\n",
    "features_lst = ['LSOA code','Employment Domain Score','Income Domain Score','IDACI Score','IDAOPI Score','Police Strength',\n",
    "                'Police Funding','Population']\n",
    "\n",
    "\n",
    "### Get the features data\n",
    "data = a[features_lst].reset_index()"
   ]
  },
  {
   "cell_type": "code",
   "execution_count": 8,
   "metadata": {},
   "outputs": [],
   "source": [
    "fit_data = data[['Employment Domain Score', 'Income Domain Score',\n",
    "       'IDACI Score', 'IDAOPI Score', 'Police Strength', 'Police Funding',\n",
    "       'Population']]"
   ]
  },
  {
   "cell_type": "code",
   "execution_count": 9,
   "metadata": {},
   "outputs": [
    {
     "name": "stderr",
     "output_type": "stream",
     "text": [
      "C:\\ProgramData\\Anaconda3\\lib\\site-packages\\ipykernel_launcher.py:2: SettingWithCopyWarning: \n",
      "A value is trying to be set on a copy of a slice from a DataFrame.\n",
      "Try using .loc[row_indexer,col_indexer] = value instead\n",
      "\n",
      "See the caveats in the documentation: https://pandas.pydata.org/pandas-docs/stable/user_guide/indexing.html#returning-a-view-versus-a-copy\n",
      "  \n"
     ]
    }
   ],
   "source": [
    "#remove the 1.101.360 -> this is not computable to float\n",
    "fit_data['Population'] = fit_data['Population'].replace(['1.101.360'],'1101.360')"
   ]
  },
  {
   "cell_type": "code",
   "execution_count": 10,
   "metadata": {},
   "outputs": [
    {
     "name": "stderr",
     "output_type": "stream",
     "text": [
      "C:\\Users\\20202201\\AppData\\Roaming\\Python\\Python37\\site-packages\\pandas\\core\\generic.py:6392: SettingWithCopyWarning: \n",
      "A value is trying to be set on a copy of a slice from a DataFrame\n",
      "\n",
      "See the caveats in the documentation: https://pandas.pydata.org/pandas-docs/stable/user_guide/indexing.html#returning-a-view-versus-a-copy\n",
      "  return self._update_inplace(result)\n"
     ]
    }
   ],
   "source": [
    "#replace the nan values with the mode of the column\n",
    "for column in fit_data.columns:\n",
    "    fit_data[column].fillna(fit_data[column].mode()[0], inplace=True)"
   ]
  },
  {
   "cell_type": "code",
   "execution_count": 43,
   "metadata": {},
   "outputs": [
    {
     "data": {
      "text/html": [
       "<div>\n",
       "<style scoped>\n",
       "    .dataframe tbody tr th:only-of-type {\n",
       "        vertical-align: middle;\n",
       "    }\n",
       "\n",
       "    .dataframe tbody tr th {\n",
       "        vertical-align: top;\n",
       "    }\n",
       "\n",
       "    .dataframe thead th {\n",
       "        text-align: right;\n",
       "    }\n",
       "</style>\n",
       "<table border=\"1\" class=\"dataframe\">\n",
       "  <thead>\n",
       "    <tr style=\"text-align: right;\">\n",
       "      <th></th>\n",
       "      <th>Employment Domain Score</th>\n",
       "      <th>Income Domain Score</th>\n",
       "      <th>IDACI Score</th>\n",
       "      <th>IDAOPI Score</th>\n",
       "      <th>Police Strength</th>\n",
       "      <th>Police Funding</th>\n",
       "      <th>Population</th>\n",
       "    </tr>\n",
       "  </thead>\n",
       "  <tbody>\n",
       "    <tr>\n",
       "      <th>0</th>\n",
       "      <td>0.054</td>\n",
       "      <td>0.058</td>\n",
       "      <td>0.055</td>\n",
       "      <td>0.069</td>\n",
       "      <td>30.435</td>\n",
       "      <td>2572</td>\n",
       "      <td>154.414</td>\n",
       "    </tr>\n",
       "    <tr>\n",
       "      <th>1</th>\n",
       "      <td>0.146</td>\n",
       "      <td>0.216</td>\n",
       "      <td>0.276</td>\n",
       "      <td>0.231</td>\n",
       "      <td>30.435</td>\n",
       "      <td>2572</td>\n",
       "      <td>198.294</td>\n",
       "    </tr>\n",
       "    <tr>\n",
       "      <th>2</th>\n",
       "      <td>0.155</td>\n",
       "      <td>0.260</td>\n",
       "      <td>0.269</td>\n",
       "      <td>0.431</td>\n",
       "      <td>30.435</td>\n",
       "      <td>2572</td>\n",
       "      <td>198.294</td>\n",
       "    </tr>\n",
       "    <tr>\n",
       "      <th>3</th>\n",
       "      <td>0.075</td>\n",
       "      <td>0.113</td>\n",
       "      <td>0.126</td>\n",
       "      <td>0.145</td>\n",
       "      <td>30.435</td>\n",
       "      <td>2572</td>\n",
       "      <td>198.294</td>\n",
       "    </tr>\n",
       "    <tr>\n",
       "      <th>4</th>\n",
       "      <td>0.162</td>\n",
       "      <td>0.264</td>\n",
       "      <td>0.344</td>\n",
       "      <td>0.253</td>\n",
       "      <td>30.435</td>\n",
       "      <td>2572</td>\n",
       "      <td>198.294</td>\n",
       "    </tr>\n",
       "    <tr>\n",
       "      <th>...</th>\n",
       "      <td>...</td>\n",
       "      <td>...</td>\n",
       "      <td>...</td>\n",
       "      <td>...</td>\n",
       "      <td>...</td>\n",
       "      <td>...</td>\n",
       "      <td>...</td>\n",
       "    </tr>\n",
       "    <tr>\n",
       "      <th>13294</th>\n",
       "      <td>0.181</td>\n",
       "      <td>0.220</td>\n",
       "      <td>0.227</td>\n",
       "      <td>0.353</td>\n",
       "      <td>2.697</td>\n",
       "      <td>315</td>\n",
       "      <td>376.040</td>\n",
       "    </tr>\n",
       "    <tr>\n",
       "      <th>13295</th>\n",
       "      <td>0.148</td>\n",
       "      <td>0.230</td>\n",
       "      <td>0.395</td>\n",
       "      <td>0.402</td>\n",
       "      <td>2.697</td>\n",
       "      <td>315</td>\n",
       "      <td>376.040</td>\n",
       "    </tr>\n",
       "    <tr>\n",
       "      <th>13296</th>\n",
       "      <td>0.055</td>\n",
       "      <td>0.061</td>\n",
       "      <td>0.088</td>\n",
       "      <td>0.065</td>\n",
       "      <td>2.697</td>\n",
       "      <td>315</td>\n",
       "      <td>376.040</td>\n",
       "    </tr>\n",
       "    <tr>\n",
       "      <th>13297</th>\n",
       "      <td>0.086</td>\n",
       "      <td>0.096</td>\n",
       "      <td>0.125</td>\n",
       "      <td>0.115</td>\n",
       "      <td>2.697</td>\n",
       "      <td>315</td>\n",
       "      <td>376.040</td>\n",
       "    </tr>\n",
       "    <tr>\n",
       "      <th>13298</th>\n",
       "      <td>0.035</td>\n",
       "      <td>0.036</td>\n",
       "      <td>0.045</td>\n",
       "      <td>0.060</td>\n",
       "      <td>2.697</td>\n",
       "      <td>315</td>\n",
       "      <td>483.143</td>\n",
       "    </tr>\n",
       "  </tbody>\n",
       "</table>\n",
       "<p>13299 rows × 7 columns</p>\n",
       "</div>"
      ],
      "text/plain": [
       "       Employment Domain Score  Income Domain Score  IDACI Score  \\\n",
       "0                        0.054                0.058        0.055   \n",
       "1                        0.146                0.216        0.276   \n",
       "2                        0.155                0.260        0.269   \n",
       "3                        0.075                0.113        0.126   \n",
       "4                        0.162                0.264        0.344   \n",
       "...                        ...                  ...          ...   \n",
       "13294                    0.181                0.220        0.227   \n",
       "13295                    0.148                0.230        0.395   \n",
       "13296                    0.055                0.061        0.088   \n",
       "13297                    0.086                0.096        0.125   \n",
       "13298                    0.035                0.036        0.045   \n",
       "\n",
       "       IDAOPI Score  Police Strength  Police Funding Population  \n",
       "0             0.069           30.435            2572    154.414  \n",
       "1             0.231           30.435            2572    198.294  \n",
       "2             0.431           30.435            2572    198.294  \n",
       "3             0.145           30.435            2572    198.294  \n",
       "4             0.253           30.435            2572    198.294  \n",
       "...             ...              ...             ...        ...  \n",
       "13294         0.353            2.697             315    376.040  \n",
       "13295         0.402            2.697             315    376.040  \n",
       "13296         0.065            2.697             315    376.040  \n",
       "13297         0.115            2.697             315    376.040  \n",
       "13298         0.060            2.697             315    483.143  \n",
       "\n",
       "[13299 rows x 7 columns]"
      ]
     },
     "execution_count": 43,
     "metadata": {},
     "output_type": "execute_result"
    }
   ],
   "source": [
    "fit_data"
   ]
  },
  {
   "cell_type": "markdown",
   "metadata": {},
   "source": [
    "# constrained clustering"
   ]
  },
  {
   "cell_type": "code",
   "execution_count": 17,
   "metadata": {},
   "outputs": [],
   "source": [
    "from k_means_constrained import KMeansConstrained"
   ]
  },
  {
   "cell_type": "code",
   "execution_count": 18,
   "metadata": {},
   "outputs": [],
   "source": [
    "clf = KMeansConstrained(n_clusters = 50, size_min=250, size_max=800,random_state=0)"
   ]
  },
  {
   "cell_type": "code",
   "execution_count": 19,
   "metadata": {},
   "outputs": [
    {
     "data": {
      "text/plain": [
       "KMeansConstrained(copy_x=True, init='k-means++', max_iter=300, n_clusters=50,\n",
       "         n_init=10, n_jobs=1, random_state=0, size_max=800, size_min=250,\n",
       "         tol=0.0001, verbose=False)"
      ]
     },
     "execution_count": 19,
     "metadata": {},
     "output_type": "execute_result"
    }
   ],
   "source": [
    "clf.fit(fit_data)"
   ]
  },
  {
   "cell_type": "code",
   "execution_count": 20,
   "metadata": {},
   "outputs": [],
   "source": [
    "#make a new dataframe\n",
    "label_data = pd.DataFrame({'LSOA code': data['LSOA code'], 'Cluster': clf.labels_})\n",
    "#label_data"
   ]
  },
  {
   "cell_type": "code",
   "execution_count": 44,
   "metadata": {},
   "outputs": [
    {
     "data": {
      "image/png": "[encoded data removed]",
      "text/plain": [
       "<Figure size 432x288 with 1 Axes>"
      ]
     },
     "metadata": {
      "needs_background": "light"
     },
     "output_type": "display_data"
    }
   ],
   "source": [
    "label_data.sort_values(by=['LSOA code'], inplace = True)\n",
    "label_data['crime numb'] = crimerate.values\n",
    "label_data.groupby('Cluster')['crime numb'].sum().plot(kind ='bar', ylabel='Number of crimes', \n",
    "                                                       title=' Distribution of crimes over the clusters');"
   ]
  },
  {
   "cell_type": "markdown",
   "metadata": {},
   "source": [
    "## code for merging dataclusters"
   ]
  },
  {
   "cell_type": "code",
   "execution_count": 22,
   "metadata": {},
   "outputs": [
    {
     "data": {
      "text/plain": [
       "<pandas.core.groupby.generic.DataFrameGroupBy object at 0x0000024350E50C88>"
      ]
     },
     "execution_count": 22,
     "metadata": {},
     "output_type": "execute_result"
    }
   ],
   "source": [
    "label_data.groupby('Cluster')"
   ]
  },
  {
   "cell_type": "code",
   "execution_count": 23,
   "metadata": {},
   "outputs": [],
   "source": [
    "#makes a dataframe for each cluster\n",
    "df = [x for _, x in label_data.groupby('Cluster')]\n",
    "numbcrimes = []\n",
    "for i in df:\n",
    "    numbcrimes.append(i['crime numb'].sum())"
   ]
  },
  {
   "cell_type": "code",
   "execution_count": 24,
   "metadata": {},
   "outputs": [
    {
     "data": {
      "text/plain": [
       "(array([ 7., 11.,  7.,  5.,  9.,  3.,  5.,  1.,  1.,  0.,  0.,  0.,  0.,\n",
       "         0.,  0.,  0.,  0.,  0.,  0.,  0.,  0.,  0.,  1.]),\n",
       " array([ 21449.        ,  28118.60869565,  34788.2173913 ,  41457.82608696,\n",
       "         48127.43478261,  54797.04347826,  61466.65217391,  68136.26086957,\n",
       "         74805.86956522,  81475.47826087,  88145.08695652,  94814.69565217,\n",
       "        101484.30434783, 108153.91304348, 114823.52173913, 121493.13043478,\n",
       "        128162.73913043, 134832.34782609, 141501.95652174, 148171.56521739,\n",
       "        154841.17391304, 161510.7826087 , 168180.39130435, 174850.        ]),\n",
       " <BarContainer object of 23 artists>)"
      ]
     },
     "execution_count": 24,
     "metadata": {},
     "output_type": "execute_result"
    },
    {
     "data": {
      "image/png": "[encoded data removed]",
      "text/plain": [
       "<Figure size 432x288 with 1 Axes>"
      ]
     },
     "metadata": {
      "needs_background": "light"
     },
     "output_type": "display_data"
    }
   ],
   "source": [
    "plt.hist(numbcrimes, bins=23)"
   ]
  },
  {
   "cell_type": "code",
   "execution_count": 25,
   "metadata": {},
   "outputs": [],
   "source": [
    "cluster1 = df[2]['LSOA code'].values.tolist()\n",
    "#cluster1"
   ]
  },
  {
   "cell_type": "code",
   "execution_count": 26,
   "metadata": {},
   "outputs": [],
   "source": [
    "df_street = pd.read_csv('city-of-london_street.csv')\n",
    "df_street.index = pd.to_datetime(df_street['Month'])\n",
    "df_notna = df_street[df_street['LSOA code'].notna()]"
   ]
  },
  {
   "cell_type": "code",
   "execution_count": 37,
   "metadata": {},
   "outputs": [],
   "source": [
    "df_notna = df_notna[df_notna['LSOA code'].isin(cluster1)]"
   ]
  },
  {
   "cell_type": "code",
   "execution_count": 39,
   "metadata": {},
   "outputs": [
    {
     "data": {
      "text/plain": [
       "2013-03-01    1\n",
       "2017-12-01    1\n",
       "2018-08-01    1\n",
       "2018-12-01    1\n",
       "2019-08-01    1\n",
       "2019-12-01    1\n",
       "Name: Month, dtype: int64"
      ]
     },
     "execution_count": 39,
     "metadata": {},
     "output_type": "execute_result"
    }
   ],
   "source": [
    "data = df_notna.groupby(by=[df_notna.index.date])['Month'].count()\n",
    "data"
   ]
  },
  {
   "cell_type": "markdown",
   "metadata": {},
   "source": [
    "# The sarima model"
   ]
  },
  {
   "cell_type": "code",
   "execution_count": 30,
   "metadata": {},
   "outputs": [],
   "source": [
    "import datetime\n",
    "import pmdarima as pm"
   ]
  },
  {
   "cell_type": "code",
   "execution_count": 40,
   "metadata": {},
   "outputs": [],
   "source": [
    "# split the data into train and testdata and remove the covid data\n",
    "for t in range(0,len(data.index)):\n",
    "    if data.index[t] >= datetime.date(2019, 1, 1):\n",
    "        break\n",
    "for m in range(t+1, len(data.index)):\n",
    "    if data.index[m] >= datetime.date(2020,1,1):\n",
    "        break\n",
    "\n",
    "data_train = data[:t]\n",
    "data_test = data[t:m]"
   ]
  },
  {
   "cell_type": "code",
   "execution_count": 41,
   "metadata": {},
   "outputs": [
    {
     "data": {
      "image/png": "[encoded data removed]",
      "text/plain": [
       "<Figure size 432x288 with 1 Axes>"
      ]
     },
     "metadata": {
      "needs_background": "light"
     },
     "output_type": "display_data"
    }
   ],
   "source": [
    "#plot the train test split\n",
    "sns.lineplot(data=data_train)\n",
    "sns.lineplot(data=data_test);"
   ]
  },
  {
   "cell_type": "code",
   "execution_count": null,
   "metadata": {},
   "outputs": [],
   "source": [
    "# Seasonal - fit stepwise auto-ARIMA\n",
    "Sarima = pm.auto_arima(data_train, start_p=1, start_q=1,\n",
    "                         test='adf',\n",
    "                         max_p=3, max_q=3, m=12,\n",
    "                         start_P=0, seasonal=True,\n",
    "                         d=None, D=1, trace=True,\n",
    "                         error_action='ignore',  \n",
    "                         suppress_warnings=True, \n",
    "                         stepwise=True)\n",
    "\n",
    "Sarima.summary() "
   ]
  },
  {
   "cell_type": "code",
   "execution_count": null,
   "metadata": {},
   "outputs": [],
   "source": [
    "n_periods = 12\n",
    "fitted, confint = Sarima.predict(n_periods=n_periods, return_conf_int=True)\n",
    "index_of_fc = pd.date_range(data_train.index[-1], periods = n_periods, freq='MS')\n",
    "\n",
    "# make series for plotting purpose\n",
    "fitted_series = pd.Series(fitted, index=index_of_fc)\n",
    "lower_series = pd.Series(confint[:, 0], index=index_of_fc)\n",
    "upper_series = pd.Series(confint[:, 1], index=index_of_fc)\n",
    "\n",
    "# Plot\n",
    "plt.plot(data_train)\n",
    "plt.plot(fitted_series, color='darkgreen')\n",
    "plt.fill_between(lower_series.index, \n",
    "                 lower_series, \n",
    "                 upper_series, \n",
    "                 color='k', alpha=.15)\n",
    "\n",
    "plt.title(\"SARIMA model for LSOA E01000001\")\n",
    "plt.plot(data_test)\n",
    "plt.legend()\n",
    "plt.show()"
   ]
  }
 ],
 "metadata": {
  "colab": {
   "name": "Kopie van Time Series Testing.ipynb",
   "provenance": []
  },
  "kernelspec": {
   "display_name": "Python 3",
   "language": "python",
   "name": "python3"
  },
  "language_info": {
   "codemirror_mode": {
    "name": "ipython",
    "version": 3
   },
   "file_extension": ".py",
   "mimetype": "text/x-python",
   "name": "python",
   "nbconvert_exporter": "python",
   "pygments_lexer": "ipython3",
   "version": "3.7.6"
  }
 },
 "nbformat": 4,
 "nbformat_minor": 1
}
