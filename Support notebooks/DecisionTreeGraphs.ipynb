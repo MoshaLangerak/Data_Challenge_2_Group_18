{
 "cells": [
  {
   "cell_type": "markdown",
   "metadata": {},
   "source": [
    "# Imports"
   ]
  },
  {
   "cell_type": "code",
   "execution_count": 77,
   "metadata": {},
   "outputs": [],
   "source": [
    "import numpy as np\n",
    "import pandas as pd\n",
    "from sklearn import tree\n",
    "import sklearn.preprocessing\n",
    "from sklearn.preprocessing import OneHotEncoder\n",
    "from sklearn.preprocessing import LabelEncoder\n",
    "from sklearn.model_selection import train_test_split\n",
    "from sklearn.metrics import accuracy_score\n",
    "from sklearn.metrics import balanced_accuracy_score\n",
    "import matplotlib.pyplot as plt"
   ]
  },
  {
   "cell_type": "code",
   "execution_count": 17,
   "metadata": {},
   "outputs": [
    {
     "name": "stderr",
     "output_type": "stream",
     "text": [
      "/Users/nathanielyzer/opt/anaconda3/lib/python3.7/site-packages/IPython/core/interactiveshell.py:3072: DtypeWarning: Columns (20) have mixed types.Specify dtype option on import or set low_memory=False.\n",
      "  interactivity=interactivity, compiler=compiler, result=result)\n"
     ]
    }
   ],
   "source": [
    "# Input the 2019 Dataset\n",
    "df = pd.read_csv('Data/2019_data.csv')"
   ]
  },
  {
   "cell_type": "code",
   "execution_count": 18,
   "metadata": {},
   "outputs": [
    {
     "data": {
      "text/html": [
       "<div>\n",
       "<style scoped>\n",
       "    .dataframe tbody tr th:only-of-type {\n",
       "        vertical-align: middle;\n",
       "    }\n",
       "\n",
       "    .dataframe tbody tr th {\n",
       "        vertical-align: top;\n",
       "    }\n",
       "\n",
       "    .dataframe thead th {\n",
       "        text-align: right;\n",
       "    }\n",
       "</style>\n",
       "<table border=\"1\" class=\"dataframe\">\n",
       "  <thead>\n",
       "    <tr style=\"text-align: right;\">\n",
       "      <th></th>\n",
       "      <th>Crime ID</th>\n",
       "      <th>Month</th>\n",
       "      <th>Reported by</th>\n",
       "      <th>Falls within</th>\n",
       "      <th>Longitude</th>\n",
       "      <th>Latitude</th>\n",
       "      <th>Location</th>\n",
       "      <th>LSOA code</th>\n",
       "      <th>LSOA name</th>\n",
       "      <th>Crime type</th>\n",
       "      <th>...</th>\n",
       "      <th>Context</th>\n",
       "      <th>Local Authority District code (2019)</th>\n",
       "      <th>Local Authority District name (2019)</th>\n",
       "      <th>Employment Domain Score</th>\n",
       "      <th>Income Domain Score</th>\n",
       "      <th>IDACI Score</th>\n",
       "      <th>IDAOPI Score</th>\n",
       "      <th>Police Strength</th>\n",
       "      <th>Police Funding</th>\n",
       "      <th>Population</th>\n",
       "    </tr>\n",
       "  </thead>\n",
       "  <tbody>\n",
       "    <tr>\n",
       "      <th>0</th>\n",
       "      <td>a8977a2a4e14252420371eb993d52e4d0b8288a7c833e6...</td>\n",
       "      <td>2019-01</td>\n",
       "      <td>Metropolitan Police Service</td>\n",
       "      <td>Metropolitan Police Service</td>\n",
       "      <td>-0.709911</td>\n",
       "      <td>50.784615</td>\n",
       "      <td>On or near Rochester Way</td>\n",
       "      <td>E01031384</td>\n",
       "      <td>Arun 018E</td>\n",
       "      <td>Violence and sexual offences</td>\n",
       "      <td>...</td>\n",
       "      <td>NaN</td>\n",
       "      <td>E07000224</td>\n",
       "      <td>Arun</td>\n",
       "      <td>0,054</td>\n",
       "      <td>0,058</td>\n",
       "      <td>0,055</td>\n",
       "      <td>0,069</td>\n",
       "      <td>30,435</td>\n",
       "      <td>2572</td>\n",
       "      <td>154.414</td>\n",
       "    </tr>\n",
       "    <tr>\n",
       "      <th>1</th>\n",
       "      <td>NaN</td>\n",
       "      <td>2019-01</td>\n",
       "      <td>Metropolitan Police Service</td>\n",
       "      <td>Metropolitan Police Service</td>\n",
       "      <td>0.140192</td>\n",
       "      <td>51.582311</td>\n",
       "      <td>On or near Hatch Grove</td>\n",
       "      <td>E01000027</td>\n",
       "      <td>Barking and Dagenham 001A</td>\n",
       "      <td>Anti-social behaviour</td>\n",
       "      <td>...</td>\n",
       "      <td>NaN</td>\n",
       "      <td>E09000002</td>\n",
       "      <td>Barking and Dagenham</td>\n",
       "      <td>0,146</td>\n",
       "      <td>0,216</td>\n",
       "      <td>0,276</td>\n",
       "      <td>0,231</td>\n",
       "      <td>30,435</td>\n",
       "      <td>2572</td>\n",
       "      <td>198.294</td>\n",
       "    </tr>\n",
       "    <tr>\n",
       "      <th>2</th>\n",
       "      <td>934e173f2bc2e1dd3a257b37939d8f97575d3eeb89ff0c...</td>\n",
       "      <td>2019-01</td>\n",
       "      <td>Metropolitan Police Service</td>\n",
       "      <td>Metropolitan Police Service</td>\n",
       "      <td>0.140192</td>\n",
       "      <td>51.582311</td>\n",
       "      <td>On or near Hatch Grove</td>\n",
       "      <td>E01000027</td>\n",
       "      <td>Barking and Dagenham 001A</td>\n",
       "      <td>Burglary</td>\n",
       "      <td>...</td>\n",
       "      <td>NaN</td>\n",
       "      <td>E09000002</td>\n",
       "      <td>Barking and Dagenham</td>\n",
       "      <td>0,146</td>\n",
       "      <td>0,216</td>\n",
       "      <td>0,276</td>\n",
       "      <td>0,231</td>\n",
       "      <td>30,435</td>\n",
       "      <td>2572</td>\n",
       "      <td>198.294</td>\n",
       "    </tr>\n",
       "    <tr>\n",
       "      <th>3</th>\n",
       "      <td>4f5b7e424bc78b1fb8c32e07da61176d2cbc5a3849d8e1...</td>\n",
       "      <td>2019-01</td>\n",
       "      <td>Metropolitan Police Service</td>\n",
       "      <td>Metropolitan Police Service</td>\n",
       "      <td>0.140634</td>\n",
       "      <td>51.583427</td>\n",
       "      <td>On or near Rams Grove</td>\n",
       "      <td>E01000027</td>\n",
       "      <td>Barking and Dagenham 001A</td>\n",
       "      <td>Burglary</td>\n",
       "      <td>...</td>\n",
       "      <td>NaN</td>\n",
       "      <td>E09000002</td>\n",
       "      <td>Barking and Dagenham</td>\n",
       "      <td>0,146</td>\n",
       "      <td>0,216</td>\n",
       "      <td>0,276</td>\n",
       "      <td>0,231</td>\n",
       "      <td>30,435</td>\n",
       "      <td>2572</td>\n",
       "      <td>198.294</td>\n",
       "    </tr>\n",
       "    <tr>\n",
       "      <th>4</th>\n",
       "      <td>53d960600a4a9f54b785f598af4c75bdef2f79bce1a41b...</td>\n",
       "      <td>2019-01</td>\n",
       "      <td>Metropolitan Police Service</td>\n",
       "      <td>Metropolitan Police Service</td>\n",
       "      <td>0.141143</td>\n",
       "      <td>51.590873</td>\n",
       "      <td>On or near Furze Farm Close</td>\n",
       "      <td>E01000027</td>\n",
       "      <td>Barking and Dagenham 001A</td>\n",
       "      <td>Drugs</td>\n",
       "      <td>...</td>\n",
       "      <td>NaN</td>\n",
       "      <td>E09000002</td>\n",
       "      <td>Barking and Dagenham</td>\n",
       "      <td>0,146</td>\n",
       "      <td>0,216</td>\n",
       "      <td>0,276</td>\n",
       "      <td>0,231</td>\n",
       "      <td>30,435</td>\n",
       "      <td>2572</td>\n",
       "      <td>198.294</td>\n",
       "    </tr>\n",
       "    <tr>\n",
       "      <th>...</th>\n",
       "      <td>...</td>\n",
       "      <td>...</td>\n",
       "      <td>...</td>\n",
       "      <td>...</td>\n",
       "      <td>...</td>\n",
       "      <td>...</td>\n",
       "      <td>...</td>\n",
       "      <td>...</td>\n",
       "      <td>...</td>\n",
       "      <td>...</td>\n",
       "      <td>...</td>\n",
       "      <td>...</td>\n",
       "      <td>...</td>\n",
       "      <td>...</td>\n",
       "      <td>...</td>\n",
       "      <td>...</td>\n",
       "      <td>...</td>\n",
       "      <td>...</td>\n",
       "      <td>...</td>\n",
       "      <td>...</td>\n",
       "      <td>...</td>\n",
       "    </tr>\n",
       "    <tr>\n",
       "      <th>2348331</th>\n",
       "      <td>ca9365d6f6df6f218a06f1f32fb907061018f461bedad2...</td>\n",
       "      <td>2019-12</td>\n",
       "      <td>Hampshire Constabulary</td>\n",
       "      <td>Hampshire Constabulary</td>\n",
       "      <td>-1.068596</td>\n",
       "      <td>50.904531</td>\n",
       "      <td>On or near Carendon Close</td>\n",
       "      <td>E01023233</td>\n",
       "      <td>Winchester 014D</td>\n",
       "      <td>Violence and sexual offences</td>\n",
       "      <td>...</td>\n",
       "      <td>NaN</td>\n",
       "      <td>E07000094</td>\n",
       "      <td>Winchester</td>\n",
       "      <td>0,047</td>\n",
       "      <td>0,055</td>\n",
       "      <td>0,068</td>\n",
       "      <td>0,082</td>\n",
       "      <td>2,697</td>\n",
       "      <td>315</td>\n",
       "      <td>119.218</td>\n",
       "    </tr>\n",
       "    <tr>\n",
       "      <th>2348332</th>\n",
       "      <td>091eb729242fa5503d83ae27e679b1986e48ed6da90fb0...</td>\n",
       "      <td>2019-12</td>\n",
       "      <td>Hampshire Constabulary</td>\n",
       "      <td>Hampshire Constabulary</td>\n",
       "      <td>-1.072551</td>\n",
       "      <td>50.903762</td>\n",
       "      <td>On or near Green Lane</td>\n",
       "      <td>E01023233</td>\n",
       "      <td>Winchester 014D</td>\n",
       "      <td>Violence and sexual offences</td>\n",
       "      <td>...</td>\n",
       "      <td>NaN</td>\n",
       "      <td>E07000094</td>\n",
       "      <td>Winchester</td>\n",
       "      <td>0,047</td>\n",
       "      <td>0,055</td>\n",
       "      <td>0,068</td>\n",
       "      <td>0,082</td>\n",
       "      <td>2,697</td>\n",
       "      <td>315</td>\n",
       "      <td>119.218</td>\n",
       "    </tr>\n",
       "    <tr>\n",
       "      <th>2348333</th>\n",
       "      <td>0af34965867602d016c3e98b34f59c1e3c6828260ca90f...</td>\n",
       "      <td>2019-12</td>\n",
       "      <td>Hampshire Constabulary</td>\n",
       "      <td>Hampshire Constabulary</td>\n",
       "      <td>-1.074427</td>\n",
       "      <td>50.905233</td>\n",
       "      <td>On or near Glasspool</td>\n",
       "      <td>E01023233</td>\n",
       "      <td>Winchester 014D</td>\n",
       "      <td>Violence and sexual offences</td>\n",
       "      <td>...</td>\n",
       "      <td>NaN</td>\n",
       "      <td>E07000094</td>\n",
       "      <td>Winchester</td>\n",
       "      <td>0,047</td>\n",
       "      <td>0,055</td>\n",
       "      <td>0,068</td>\n",
       "      <td>0,082</td>\n",
       "      <td>2,697</td>\n",
       "      <td>315</td>\n",
       "      <td>119.218</td>\n",
       "    </tr>\n",
       "    <tr>\n",
       "      <th>2348334</th>\n",
       "      <td>8e008c4280a3ef3cdfb7046444b988dbdb1f612d989fd2...</td>\n",
       "      <td>2019-12</td>\n",
       "      <td>Hampshire Constabulary</td>\n",
       "      <td>Hampshire Constabulary</td>\n",
       "      <td>-1.063798</td>\n",
       "      <td>50.902649</td>\n",
       "      <td>On or near Ashling Gardens</td>\n",
       "      <td>E01023234</td>\n",
       "      <td>Winchester 014E</td>\n",
       "      <td>Burglary</td>\n",
       "      <td>...</td>\n",
       "      <td>NaN</td>\n",
       "      <td>E07000094</td>\n",
       "      <td>Winchester</td>\n",
       "      <td>0,064</td>\n",
       "      <td>0,091</td>\n",
       "      <td>0,093</td>\n",
       "      <td>0,142</td>\n",
       "      <td>2,697</td>\n",
       "      <td>315</td>\n",
       "      <td>119.218</td>\n",
       "    </tr>\n",
       "    <tr>\n",
       "      <th>2348335</th>\n",
       "      <td>a6eccf76a1dd390f29c0febb879f46671fae60721bf8b2...</td>\n",
       "      <td>2019-12</td>\n",
       "      <td>Hampshire Constabulary</td>\n",
       "      <td>Hampshire Constabulary</td>\n",
       "      <td>-1.065010</td>\n",
       "      <td>50.899646</td>\n",
       "      <td>On or near Brookside Close</td>\n",
       "      <td>E01023234</td>\n",
       "      <td>Winchester 014E</td>\n",
       "      <td>Public order</td>\n",
       "      <td>...</td>\n",
       "      <td>NaN</td>\n",
       "      <td>E07000094</td>\n",
       "      <td>Winchester</td>\n",
       "      <td>0,064</td>\n",
       "      <td>0,091</td>\n",
       "      <td>0,093</td>\n",
       "      <td>0,142</td>\n",
       "      <td>2,697</td>\n",
       "      <td>315</td>\n",
       "      <td>119.218</td>\n",
       "    </tr>\n",
       "  </tbody>\n",
       "</table>\n",
       "<p>2348336 rows × 21 columns</p>\n",
       "</div>"
      ],
      "text/plain": [
       "                                                  Crime ID    Month  \\\n",
       "0        a8977a2a4e14252420371eb993d52e4d0b8288a7c833e6...  2019-01   \n",
       "1                                                      NaN  2019-01   \n",
       "2        934e173f2bc2e1dd3a257b37939d8f97575d3eeb89ff0c...  2019-01   \n",
       "3        4f5b7e424bc78b1fb8c32e07da61176d2cbc5a3849d8e1...  2019-01   \n",
       "4        53d960600a4a9f54b785f598af4c75bdef2f79bce1a41b...  2019-01   \n",
       "...                                                    ...      ...   \n",
       "2348331  ca9365d6f6df6f218a06f1f32fb907061018f461bedad2...  2019-12   \n",
       "2348332  091eb729242fa5503d83ae27e679b1986e48ed6da90fb0...  2019-12   \n",
       "2348333  0af34965867602d016c3e98b34f59c1e3c6828260ca90f...  2019-12   \n",
       "2348334  8e008c4280a3ef3cdfb7046444b988dbdb1f612d989fd2...  2019-12   \n",
       "2348335  a6eccf76a1dd390f29c0febb879f46671fae60721bf8b2...  2019-12   \n",
       "\n",
       "                         Reported by                 Falls within  Longitude  \\\n",
       "0        Metropolitan Police Service  Metropolitan Police Service  -0.709911   \n",
       "1        Metropolitan Police Service  Metropolitan Police Service   0.140192   \n",
       "2        Metropolitan Police Service  Metropolitan Police Service   0.140192   \n",
       "3        Metropolitan Police Service  Metropolitan Police Service   0.140634   \n",
       "4        Metropolitan Police Service  Metropolitan Police Service   0.141143   \n",
       "...                              ...                          ...        ...   \n",
       "2348331       Hampshire Constabulary       Hampshire Constabulary  -1.068596   \n",
       "2348332       Hampshire Constabulary       Hampshire Constabulary  -1.072551   \n",
       "2348333       Hampshire Constabulary       Hampshire Constabulary  -1.074427   \n",
       "2348334       Hampshire Constabulary       Hampshire Constabulary  -1.063798   \n",
       "2348335       Hampshire Constabulary       Hampshire Constabulary  -1.065010   \n",
       "\n",
       "          Latitude                     Location  LSOA code  \\\n",
       "0        50.784615     On or near Rochester Way  E01031384   \n",
       "1        51.582311       On or near Hatch Grove  E01000027   \n",
       "2        51.582311       On or near Hatch Grove  E01000027   \n",
       "3        51.583427        On or near Rams Grove  E01000027   \n",
       "4        51.590873  On or near Furze Farm Close  E01000027   \n",
       "...            ...                          ...        ...   \n",
       "2348331  50.904531    On or near Carendon Close  E01023233   \n",
       "2348332  50.903762        On or near Green Lane  E01023233   \n",
       "2348333  50.905233         On or near Glasspool  E01023233   \n",
       "2348334  50.902649   On or near Ashling Gardens  E01023234   \n",
       "2348335  50.899646   On or near Brookside Close  E01023234   \n",
       "\n",
       "                         LSOA name                    Crime type  ... Context  \\\n",
       "0                        Arun 018E  Violence and sexual offences  ...     NaN   \n",
       "1        Barking and Dagenham 001A         Anti-social behaviour  ...     NaN   \n",
       "2        Barking and Dagenham 001A                      Burglary  ...     NaN   \n",
       "3        Barking and Dagenham 001A                      Burglary  ...     NaN   \n",
       "4        Barking and Dagenham 001A                         Drugs  ...     NaN   \n",
       "...                            ...                           ...  ...     ...   \n",
       "2348331            Winchester 014D  Violence and sexual offences  ...     NaN   \n",
       "2348332            Winchester 014D  Violence and sexual offences  ...     NaN   \n",
       "2348333            Winchester 014D  Violence and sexual offences  ...     NaN   \n",
       "2348334            Winchester 014E                      Burglary  ...     NaN   \n",
       "2348335            Winchester 014E                  Public order  ...     NaN   \n",
       "\n",
       "         Local Authority District code (2019)  \\\n",
       "0                                   E07000224   \n",
       "1                                   E09000002   \n",
       "2                                   E09000002   \n",
       "3                                   E09000002   \n",
       "4                                   E09000002   \n",
       "...                                       ...   \n",
       "2348331                             E07000094   \n",
       "2348332                             E07000094   \n",
       "2348333                             E07000094   \n",
       "2348334                             E07000094   \n",
       "2348335                             E07000094   \n",
       "\n",
       "        Local Authority District name (2019) Employment Domain Score  \\\n",
       "0                                       Arun                   0,054   \n",
       "1                       Barking and Dagenham                   0,146   \n",
       "2                       Barking and Dagenham                   0,146   \n",
       "3                       Barking and Dagenham                   0,146   \n",
       "4                       Barking and Dagenham                   0,146   \n",
       "...                                      ...                     ...   \n",
       "2348331                           Winchester                   0,047   \n",
       "2348332                           Winchester                   0,047   \n",
       "2348333                           Winchester                   0,047   \n",
       "2348334                           Winchester                   0,064   \n",
       "2348335                           Winchester                   0,064   \n",
       "\n",
       "        Income Domain Score IDACI Score IDAOPI Score Police Strength  \\\n",
       "0                     0,058       0,055        0,069          30,435   \n",
       "1                     0,216       0,276        0,231          30,435   \n",
       "2                     0,216       0,276        0,231          30,435   \n",
       "3                     0,216       0,276        0,231          30,435   \n",
       "4                     0,216       0,276        0,231          30,435   \n",
       "...                     ...         ...          ...             ...   \n",
       "2348331               0,055       0,068        0,082           2,697   \n",
       "2348332               0,055       0,068        0,082           2,697   \n",
       "2348333               0,055       0,068        0,082           2,697   \n",
       "2348334               0,091       0,093        0,142           2,697   \n",
       "2348335               0,091       0,093        0,142           2,697   \n",
       "\n",
       "        Police Funding  Population  \n",
       "0                 2572     154.414  \n",
       "1                 2572     198.294  \n",
       "2                 2572     198.294  \n",
       "3                 2572     198.294  \n",
       "4                 2572     198.294  \n",
       "...                ...         ...  \n",
       "2348331            315     119.218  \n",
       "2348332            315     119.218  \n",
       "2348333            315     119.218  \n",
       "2348334            315     119.218  \n",
       "2348335            315     119.218  \n",
       "\n",
       "[2348336 rows x 21 columns]"
      ]
     },
     "execution_count": 18,
     "metadata": {},
     "output_type": "execute_result"
    }
   ],
   "source": [
    "# Display import\n",
    "df.head(-5)"
   ]
  },
  {
   "cell_type": "code",
   "execution_count": 19,
   "metadata": {},
   "outputs": [],
   "source": [
    "# Drop required values that contain NAN\n",
    "df.dropna(subset=['LSOA code', 'Month', 'Location', 'Crime type', 'Longitude', 'Latitude', 'Employment Domain Score',\n",
    "       'Income Domain Score', 'IDACI Score', 'IDAOPI Score', 'Police Strength',\n",
    "       'Police Funding', 'Population'], inplace=True)"
   ]
  },
  {
   "cell_type": "code",
   "execution_count": 20,
   "metadata": {},
   "outputs": [
    {
     "data": {
      "text/plain": [
       "0    Violence and sexual offences\n",
       "dtype: object"
      ]
     },
     "execution_count": 20,
     "metadata": {},
     "output_type": "execute_result"
    }
   ],
   "source": [
    "df[df['Month'] == '2019-05']['Crime type'].mode()"
   ]
  },
  {
   "cell_type": "code",
   "execution_count": 21,
   "metadata": {},
   "outputs": [
    {
     "name": "stdout",
     "output_type": "stream",
     "text": [
      "2019-01\n",
      "0    Violence and sexual offences\n",
      "dtype: object\n",
      "2019-02\n",
      "0    Violence and sexual offences\n",
      "dtype: object\n",
      "2019-03\n",
      "0    Violence and sexual offences\n",
      "dtype: object\n",
      "2019-04\n",
      "0    Violence and sexual offences\n",
      "dtype: object\n",
      "2019-05\n",
      "0    Violence and sexual offences\n",
      "dtype: object\n",
      "2019-06\n",
      "0    Violence and sexual offences\n",
      "dtype: object\n",
      "2019-07\n",
      "0    Violence and sexual offences\n",
      "dtype: object\n",
      "2019-08\n",
      "0    Violence and sexual offences\n",
      "dtype: object\n",
      "2019-09\n",
      "0    Violence and sexual offences\n",
      "dtype: object\n",
      "2019-10\n",
      "0    Violence and sexual offences\n",
      "dtype: object\n",
      "2019-11\n",
      "0    Violence and sexual offences\n",
      "dtype: object\n",
      "2019-12\n",
      "0    Violence and sexual offences\n",
      "dtype: object\n"
     ]
    }
   ],
   "source": [
    "for month in df['Month'].unique():\n",
    "    print(month)\n",
    "    print(df[df['Month'] == month]['Crime type'].mode())"
   ]
  },
  {
   "cell_type": "code",
   "execution_count": 22,
   "metadata": {},
   "outputs": [
    {
     "data": {
      "text/plain": [
       "Index(['Crime ID', 'Month', 'Reported by', 'Falls within', 'Longitude',\n",
       "       'Latitude', 'Location', 'LSOA code', 'LSOA name', 'Crime type',\n",
       "       'Last outcome category', 'Context',\n",
       "       'Local Authority District code (2019)',\n",
       "       'Local Authority District name (2019)', 'Employment Domain Score',\n",
       "       'Income Domain Score', 'IDACI Score', 'IDAOPI Score', 'Police Strength',\n",
       "       'Police Funding', 'Population'],\n",
       "      dtype='object')"
      ]
     },
     "execution_count": 22,
     "metadata": {},
     "output_type": "execute_result"
    }
   ],
   "source": [
    "df.columns"
   ]
  },
  {
   "cell_type": "code",
   "execution_count": 23,
   "metadata": {},
   "outputs": [],
   "source": [
    "df.replace(to_replace=\",\", value=\".\", regex=True, inplace=True)"
   ]
  },
  {
   "cell_type": "code",
   "execution_count": 24,
   "metadata": {},
   "outputs": [
    {
     "data": {
      "text/plain": [
       "0"
      ]
     },
     "execution_count": 24,
     "metadata": {},
     "output_type": "execute_result"
    }
   ],
   "source": [
    "df['Population'].isnull().sum()"
   ]
  },
  {
   "cell_type": "code",
   "execution_count": 25,
   "metadata": {},
   "outputs": [
    {
     "data": {
      "text/plain": [
       "0"
      ]
     },
     "execution_count": 25,
     "metadata": {},
     "output_type": "execute_result"
    }
   ],
   "source": [
    "df['Police Strength'].isnull().sum()"
   ]
  },
  {
   "cell_type": "code",
   "execution_count": 26,
   "metadata": {},
   "outputs": [
    {
     "name": "stderr",
     "output_type": "stream",
     "text": [
      "/Users/nathanielyzer/opt/anaconda3/lib/python3.7/site-packages/ipykernel_launcher.py:1: FutureWarning: The default value of regex will change from True to False in a future version. In addition, single character regular expressions will*not* be treated as literal strings when regex=True.\n",
      "  \"\"\"Entry point for launching an IPython kernel.\n"
     ]
    }
   ],
   "source": [
    "df['Population'] = df['Population'].str.replace('.', '').fillna(df['Population']*1000)"
   ]
  },
  {
   "cell_type": "code",
   "execution_count": 27,
   "metadata": {},
   "outputs": [
    {
     "name": "stderr",
     "output_type": "stream",
     "text": [
      "/Users/nathanielyzer/opt/anaconda3/lib/python3.7/site-packages/ipykernel_launcher.py:1: FutureWarning: The default value of regex will change from True to False in a future version. In addition, single character regular expressions will*not* be treated as literal strings when regex=True.\n",
      "  \"\"\"Entry point for launching an IPython kernel.\n"
     ]
    }
   ],
   "source": [
    "df['Police Strength'] = df['Police Strength'].str.replace('.','')"
   ]
  },
  {
   "cell_type": "markdown",
   "metadata": {},
   "source": [
    "# Crime Type Prediction"
   ]
  },
  {
   "cell_type": "code",
   "execution_count": 28,
   "metadata": {},
   "outputs": [],
   "source": [
    "# Encode Desired Values to integers to use in models\n",
    "ohe = LabelEncoder()\n",
    "df['E LSOA code'] = ohe.fit_transform(df['LSOA code'].dropna().values)\n",
    "df['E Month'] = ohe.fit_transform(df['Month'].dropna().values)\n",
    "df['E Location'] = ohe.fit_transform(df['Location'].dropna().values)"
   ]
  },
  {
   "cell_type": "code",
   "execution_count": 29,
   "metadata": {},
   "outputs": [],
   "source": [
    "# Create an X and Y\n",
    "X = df[['E LSOA code', 'E Month', 'E Location', 'Longitude', 'Latitude', 'Employment Domain Score',\n",
    "       'Income Domain Score', 'IDACI Score', 'IDAOPI Score', 'Police Strength',\n",
    "       'Police Funding', 'Population']].values\n",
    "Y = df['Crime type'].values"
   ]
  },
  {
   "cell_type": "code",
   "execution_count": 30,
   "metadata": {},
   "outputs": [
    {
     "data": {
      "text/plain": [
       "DecisionTreeClassifier(max_depth=10)"
      ]
     },
     "execution_count": 30,
     "metadata": {},
     "output_type": "execute_result"
    }
   ],
   "source": [
    "# Fit Decision Tree on Crime Types and split the dataset in training and data.\n",
    "clf = tree.DecisionTreeClassifier(max_depth=10)\n",
    "X_train, X_test, y_train, y_test = train_test_split(X, Y, test_size=0.1, random_state=42)\n",
    "clf.fit(X_train, y_train)"
   ]
  },
  {
   "cell_type": "code",
   "execution_count": 31,
   "metadata": {},
   "outputs": [],
   "source": [
    "# Predictions on Test Set\n",
    "preds = clf.predict(X_test)"
   ]
  },
  {
   "cell_type": "code",
   "execution_count": 32,
   "metadata": {},
   "outputs": [
    {
     "data": {
      "text/plain": [
       "0.3023001475566357"
      ]
     },
     "execution_count": 32,
     "metadata": {},
     "output_type": "execute_result"
    }
   ],
   "source": [
    "accuracy_score(y_test, preds)"
   ]
  },
  {
   "cell_type": "code",
   "execution_count": 33,
   "metadata": {},
   "outputs": [],
   "source": [
    "# Predictions in a Dataframe\n",
    "df_preds = pd.DataFrame()\n",
    "df_preds['y'] = y_test\n",
    "df_preds['pred'] = preds"
   ]
  },
  {
   "cell_type": "code",
   "execution_count": 34,
   "metadata": {},
   "outputs": [
    {
     "data": {
      "text/html": [
       "<div>\n",
       "<style scoped>\n",
       "    .dataframe tbody tr th:only-of-type {\n",
       "        vertical-align: middle;\n",
       "    }\n",
       "\n",
       "    .dataframe tbody tr th {\n",
       "        vertical-align: top;\n",
       "    }\n",
       "\n",
       "    .dataframe thead th {\n",
       "        text-align: right;\n",
       "    }\n",
       "</style>\n",
       "<table border=\"1\" class=\"dataframe\">\n",
       "  <thead>\n",
       "    <tr style=\"text-align: right;\">\n",
       "      <th></th>\n",
       "      <th>y</th>\n",
       "      <th>pred</th>\n",
       "    </tr>\n",
       "  </thead>\n",
       "  <tbody>\n",
       "    <tr>\n",
       "      <th>0</th>\n",
       "      <td>Shoplifting</td>\n",
       "      <td>Violence and sexual offences</td>\n",
       "    </tr>\n",
       "    <tr>\n",
       "      <th>1</th>\n",
       "      <td>Robbery</td>\n",
       "      <td>Violence and sexual offences</td>\n",
       "    </tr>\n",
       "    <tr>\n",
       "      <th>2</th>\n",
       "      <td>Violence and sexual offences</td>\n",
       "      <td>Anti-social behaviour</td>\n",
       "    </tr>\n",
       "    <tr>\n",
       "      <th>3</th>\n",
       "      <td>Anti-social behaviour</td>\n",
       "      <td>Violence and sexual offences</td>\n",
       "    </tr>\n",
       "    <tr>\n",
       "      <th>4</th>\n",
       "      <td>Criminal damage and arson</td>\n",
       "      <td>Violence and sexual offences</td>\n",
       "    </tr>\n",
       "    <tr>\n",
       "      <th>...</th>\n",
       "      <td>...</td>\n",
       "      <td>...</td>\n",
       "    </tr>\n",
       "    <tr>\n",
       "      <th>230415</th>\n",
       "      <td>Bicycle theft</td>\n",
       "      <td>Other theft</td>\n",
       "    </tr>\n",
       "    <tr>\n",
       "      <th>230416</th>\n",
       "      <td>Violence and sexual offences</td>\n",
       "      <td>Anti-social behaviour</td>\n",
       "    </tr>\n",
       "    <tr>\n",
       "      <th>230417</th>\n",
       "      <td>Violence and sexual offences</td>\n",
       "      <td>Violence and sexual offences</td>\n",
       "    </tr>\n",
       "    <tr>\n",
       "      <th>230418</th>\n",
       "      <td>Shoplifting</td>\n",
       "      <td>Shoplifting</td>\n",
       "    </tr>\n",
       "    <tr>\n",
       "      <th>230419</th>\n",
       "      <td>Vehicle crime</td>\n",
       "      <td>Violence and sexual offences</td>\n",
       "    </tr>\n",
       "  </tbody>\n",
       "</table>\n",
       "<p>230420 rows × 2 columns</p>\n",
       "</div>"
      ],
      "text/plain": [
       "                                   y                          pred\n",
       "0                        Shoplifting  Violence and sexual offences\n",
       "1                            Robbery  Violence and sexual offences\n",
       "2       Violence and sexual offences         Anti-social behaviour\n",
       "3              Anti-social behaviour  Violence and sexual offences\n",
       "4          Criminal damage and arson  Violence and sexual offences\n",
       "...                              ...                           ...\n",
       "230415                 Bicycle theft                   Other theft\n",
       "230416  Violence and sexual offences         Anti-social behaviour\n",
       "230417  Violence and sexual offences  Violence and sexual offences\n",
       "230418                   Shoplifting                   Shoplifting\n",
       "230419                 Vehicle crime  Violence and sexual offences\n",
       "\n",
       "[230420 rows x 2 columns]"
      ]
     },
     "execution_count": 34,
     "metadata": {},
     "output_type": "execute_result"
    }
   ],
   "source": [
    "df_preds"
   ]
  },
  {
   "cell_type": "code",
   "execution_count": 35,
   "metadata": {},
   "outputs": [
    {
     "data": {
      "text/plain": [
       "0.3023001475566357"
      ]
     },
     "execution_count": 35,
     "metadata": {},
     "output_type": "execute_result"
    }
   ],
   "source": [
    "# Accuracy\n",
    "len(df_preds.loc[df_preds['y'] == df_preds['pred']]) / len(y_test)"
   ]
  },
  {
   "cell_type": "code",
   "execution_count": 36,
   "metadata": {},
   "outputs": [
    {
     "data": {
      "text/plain": [
       "Violence and sexual offences    60988\n",
       "Anti-social behaviour           44148\n",
       "Other theft                     21663\n",
       "Vehicle crime                   20596\n",
       "Criminal damage and arson       16644\n",
       "Burglary                        14666\n",
       "Public order                    13233\n",
       "Shoplifting                     11483\n",
       "Drugs                            7277\n",
       "Theft from the person            6284\n",
       "Robbery                          4845\n",
       "Bicycle theft                    3736\n",
       "Other crime                      3243\n",
       "Possession of weapons            1614\n",
       "Name: y, dtype: int64"
      ]
     },
     "execution_count": 36,
     "metadata": {},
     "output_type": "execute_result"
    }
   ],
   "source": [
    "df_preds['y'].value_counts()"
   ]
  },
  {
   "cell_type": "code",
   "execution_count": 37,
   "metadata": {},
   "outputs": [
    {
     "data": {
      "text/plain": [
       "Violence and sexual offences    132062\n",
       "Anti-social behaviour            66189\n",
       "Other theft                      15056\n",
       "Shoplifting                      11688\n",
       "Theft from the person             2678\n",
       "Vehicle crime                     2279\n",
       "Drugs                              148\n",
       "Burglary                           147\n",
       "Other crime                         77\n",
       "Bicycle theft                       65\n",
       "Criminal damage and arson           15\n",
       "Possession of weapons               15\n",
       "Public order                         1\n",
       "Name: pred, dtype: int64"
      ]
     },
     "execution_count": 37,
     "metadata": {},
     "output_type": "execute_result"
    }
   ],
   "source": [
    "df_preds['pred'].value_counts()"
   ]
  },
  {
   "cell_type": "code",
   "execution_count": 41,
   "metadata": {},
   "outputs": [
    {
     "data": {
      "text/plain": [
       "0.13067339856724494"
      ]
     },
     "execution_count": 41,
     "metadata": {},
     "output_type": "execute_result"
    }
   ],
   "source": [
    "balanced_accuracy_score(df_preds['y'].values, df_preds['pred'].values)"
   ]
  },
  {
   "cell_type": "code",
   "execution_count": 53,
   "metadata": {},
   "outputs": [
    {
     "data": {
      "text/html": [
       "<div>\n",
       "<style scoped>\n",
       "    .dataframe tbody tr th:only-of-type {\n",
       "        vertical-align: middle;\n",
       "    }\n",
       "\n",
       "    .dataframe tbody tr th {\n",
       "        vertical-align: top;\n",
       "    }\n",
       "\n",
       "    .dataframe thead th {\n",
       "        text-align: right;\n",
       "    }\n",
       "</style>\n",
       "<table border=\"1\" class=\"dataframe\">\n",
       "  <thead>\n",
       "    <tr style=\"text-align: right;\">\n",
       "      <th></th>\n",
       "      <th>0</th>\n",
       "    </tr>\n",
       "  </thead>\n",
       "  <tbody>\n",
       "    <tr>\n",
       "      <th>Violence and sexual offences</th>\n",
       "      <td>69.96</td>\n",
       "    </tr>\n",
       "    <tr>\n",
       "      <th>Anti-social behaviour</th>\n",
       "      <td>38.33</td>\n",
       "    </tr>\n",
       "    <tr>\n",
       "      <th>Shoplifting</th>\n",
       "      <td>33.17</td>\n",
       "    </tr>\n",
       "    <tr>\n",
       "      <th>Other theft</th>\n",
       "      <td>21.49</td>\n",
       "    </tr>\n",
       "    <tr>\n",
       "      <th>Theft from the person</th>\n",
       "      <td>13.91</td>\n",
       "    </tr>\n",
       "    <tr>\n",
       "      <th>Vehicle crime</th>\n",
       "      <td>2.73</td>\n",
       "    </tr>\n",
       "    <tr>\n",
       "      <th>Other crime</th>\n",
       "      <td>1.33</td>\n",
       "    </tr>\n",
       "    <tr>\n",
       "      <th>Drugs</th>\n",
       "      <td>0.69</td>\n",
       "    </tr>\n",
       "    <tr>\n",
       "      <th>Bicycle theft</th>\n",
       "      <td>0.56</td>\n",
       "    </tr>\n",
       "    <tr>\n",
       "      <th>Possession of weapons</th>\n",
       "      <td>0.50</td>\n",
       "    </tr>\n",
       "    <tr>\n",
       "      <th>Burglary</th>\n",
       "      <td>0.25</td>\n",
       "    </tr>\n",
       "    <tr>\n",
       "      <th>Criminal damage and arson</th>\n",
       "      <td>0.02</td>\n",
       "    </tr>\n",
       "    <tr>\n",
       "      <th>Robbery</th>\n",
       "      <td>0.00</td>\n",
       "    </tr>\n",
       "    <tr>\n",
       "      <th>Public order</th>\n",
       "      <td>0.00</td>\n",
       "    </tr>\n",
       "  </tbody>\n",
       "</table>\n",
       "</div>"
      ],
      "text/plain": [
       "                                  0\n",
       "Violence and sexual offences  69.96\n",
       "Anti-social behaviour         38.33\n",
       "Shoplifting                   33.17\n",
       "Other theft                   21.49\n",
       "Theft from the person         13.91\n",
       "Vehicle crime                  2.73\n",
       "Other crime                    1.33\n",
       "Drugs                          0.69\n",
       "Bicycle theft                  0.56\n",
       "Possession of weapons          0.50\n",
       "Burglary                       0.25\n",
       "Criminal damage and arson      0.02\n",
       "Robbery                        0.00\n",
       "Public order                   0.00"
      ]
     },
     "execution_count": 53,
     "metadata": {},
     "output_type": "execute_result"
    }
   ],
   "source": [
    "accuracies = {}\n",
    "for crime in df_preds['y'].unique():\n",
    "    crime_y = df_preds.loc[df_preds['y'] == crime, 'y'].values\n",
    "    crime_pred = df_preds.loc[df_preds['y'] == crime, 'pred'].values\n",
    "    acc = round(accuracy_score(crime_y,crime_pred) * 100,2)\n",
    "    accuracies[crime] = acc\n",
    "#     print('Accuracy for {} is {}%'.format(crime,acc))\n",
    "df_crimes = pd.DataFrame.from_dict(accuracies, orient='index').sort_values(0, ascending=False)\n",
    "df_crimes"
   ]
  },
  {
   "cell_type": "code",
   "execution_count": 58,
   "metadata": {},
   "outputs": [
    {
     "data": {
      "text/html": [
       "<div>\n",
       "<style scoped>\n",
       "    .dataframe tbody tr th:only-of-type {\n",
       "        vertical-align: middle;\n",
       "    }\n",
       "\n",
       "    .dataframe tbody tr th {\n",
       "        vertical-align: top;\n",
       "    }\n",
       "\n",
       "    .dataframe thead th {\n",
       "        text-align: right;\n",
       "    }\n",
       "</style>\n",
       "<table border=\"1\" class=\"dataframe\">\n",
       "  <thead>\n",
       "    <tr style=\"text-align: right;\">\n",
       "      <th></th>\n",
       "      <th>0</th>\n",
       "      <th>Relativity</th>\n",
       "    </tr>\n",
       "  </thead>\n",
       "  <tbody>\n",
       "    <tr>\n",
       "      <th>Violence and sexual offences</th>\n",
       "      <td>69.96</td>\n",
       "      <td>26.47</td>\n",
       "    </tr>\n",
       "    <tr>\n",
       "      <th>Anti-social behaviour</th>\n",
       "      <td>38.33</td>\n",
       "      <td>19.16</td>\n",
       "    </tr>\n",
       "    <tr>\n",
       "      <th>Shoplifting</th>\n",
       "      <td>33.17</td>\n",
       "      <td>4.98</td>\n",
       "    </tr>\n",
       "    <tr>\n",
       "      <th>Other theft</th>\n",
       "      <td>21.49</td>\n",
       "      <td>9.40</td>\n",
       "    </tr>\n",
       "    <tr>\n",
       "      <th>Theft from the person</th>\n",
       "      <td>13.91</td>\n",
       "      <td>2.73</td>\n",
       "    </tr>\n",
       "    <tr>\n",
       "      <th>Vehicle crime</th>\n",
       "      <td>2.73</td>\n",
       "      <td>8.94</td>\n",
       "    </tr>\n",
       "    <tr>\n",
       "      <th>Other crime</th>\n",
       "      <td>1.33</td>\n",
       "      <td>1.41</td>\n",
       "    </tr>\n",
       "    <tr>\n",
       "      <th>Drugs</th>\n",
       "      <td>0.69</td>\n",
       "      <td>3.16</td>\n",
       "    </tr>\n",
       "    <tr>\n",
       "      <th>Bicycle theft</th>\n",
       "      <td>0.56</td>\n",
       "      <td>1.62</td>\n",
       "    </tr>\n",
       "    <tr>\n",
       "      <th>Possession of weapons</th>\n",
       "      <td>0.50</td>\n",
       "      <td>0.70</td>\n",
       "    </tr>\n",
       "    <tr>\n",
       "      <th>Burglary</th>\n",
       "      <td>0.25</td>\n",
       "      <td>6.36</td>\n",
       "    </tr>\n",
       "    <tr>\n",
       "      <th>Criminal damage and arson</th>\n",
       "      <td>0.02</td>\n",
       "      <td>7.22</td>\n",
       "    </tr>\n",
       "    <tr>\n",
       "      <th>Robbery</th>\n",
       "      <td>0.00</td>\n",
       "      <td>2.10</td>\n",
       "    </tr>\n",
       "    <tr>\n",
       "      <th>Public order</th>\n",
       "      <td>0.00</td>\n",
       "      <td>5.74</td>\n",
       "    </tr>\n",
       "  </tbody>\n",
       "</table>\n",
       "</div>"
      ],
      "text/plain": [
       "                                  0  Relativity\n",
       "Violence and sexual offences  69.96       26.47\n",
       "Anti-social behaviour         38.33       19.16\n",
       "Shoplifting                   33.17        4.98\n",
       "Other theft                   21.49        9.40\n",
       "Theft from the person         13.91        2.73\n",
       "Vehicle crime                  2.73        8.94\n",
       "Other crime                    1.33        1.41\n",
       "Drugs                          0.69        3.16\n",
       "Bicycle theft                  0.56        1.62\n",
       "Possession of weapons          0.50        0.70\n",
       "Burglary                       0.25        6.36\n",
       "Criminal damage and arson      0.02        7.22\n",
       "Robbery                        0.00        2.10\n",
       "Public order                   0.00        5.74"
      ]
     },
     "execution_count": 58,
     "metadata": {},
     "output_type": "execute_result"
    }
   ],
   "source": [
    "counts = {}\n",
    "for crime in df_preds['y'].unique():\n",
    "    c = round((len(df_preds[df_preds['y'] == crime]) / len(df_preds)) *100,2)\n",
    "    counts[crime] = c\n",
    "df_crimes['Relativity'] = df_crimes.index.map(counts)\n",
    "df_crimes"
   ]
  },
  {
   "cell_type": "code",
   "execution_count": 118,
   "metadata": {},
   "outputs": [
    {
     "data": {
      "text/plain": [
       "(14, 14, 14)"
      ]
     },
     "execution_count": 118,
     "metadata": {},
     "output_type": "execute_result"
    }
   ],
   "source": [
    "#df_preds['y'].value_counts().plot(kind='barh')\n",
    "x = [str(x) for x in df_preds['y'].value_counts().sort_index().index.values]\n",
    "y = df_preds['y'].value_counts().sort_index().values\n",
    "y2 = [len(df_preds[df_preds['pred'] == crime]) for crime in x]\n",
    "len(x), len(y), len(y2)"
   ]
  },
  {
   "cell_type": "code",
   "execution_count": 117,
   "metadata": {},
   "outputs": [
    {
     "data": {
      "image/png": "[encoded data removed]",
      "text/plain": [
       "<Figure size 432x288 with 1 Axes>"
      ]
     },
     "metadata": {
      "needs_background": "light"
     },
     "output_type": "display_data"
    }
   ],
   "source": [
    "labels = x\n",
    "men_means = y\n",
    "women_means = y2\n",
    "\n",
    "x = np.arange(len(labels))  # the label locations\n",
    "width = 0.35  # the width of the bars\n",
    "\n",
    "fig, ax = plt.subplots()\n",
    "rects1 = ax.bar(x - width/2, men_means, width, label='Men')\n",
    "rects2 = ax.bar(x + width/2, women_means, width, label='Women')\n",
    "\n",
    "# Add some text for labels, title and custom x-axis tick labels, etc.\n",
    "ax.set_ylabel('Scores')\n",
    "ax.set_title('Scores by group and gender')\n",
    "ax.set_xticklabels(x)\n",
    "ax.legend()\n",
    "\n",
    "# ax.bar_label(rects1, padding=3)\n",
    "# ax.bar_label(rects2, padding=3)\n",
    "\n",
    "fig.tight_layout()\n",
    "\n",
    "plt.show()"
   ]
  },
  {
   "cell_type": "code",
   "execution_count": null,
   "metadata": {},
   "outputs": [],
   "source": []
  }
 ],
 "metadata": {
  "kernelspec": {
   "display_name": "Python 3",
   "language": "python",
   "name": "python3"
  },
  "language_info": {
   "codemirror_mode": {
    "name": "ipython",
    "version": 3
   },
   "file_extension": ".py",
   "mimetype": "text/x-python",
   "name": "python",
   "nbconvert_exporter": "python",
   "pygments_lexer": "ipython3",
   "version": "3.7.7"
  }
 },
 "nbformat": 4,
 "nbformat_minor": 4
}
