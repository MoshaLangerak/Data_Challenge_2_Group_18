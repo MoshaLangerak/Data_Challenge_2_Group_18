{
 "cells": [
  {
   "cell_type": "code",
   "execution_count": 4,
   "metadata": {},
   "outputs": [],
   "source": [
    "import pandas as pd\n",
    "import numpy as np\n",
    "import os"
   ]
  },
  {
   "cell_type": "code",
   "execution_count": 2,
   "metadata": {},
   "outputs": [],
   "source": [
    "streets = 0\n",
    "outcomes = 0\n",
    "stop_and_search = 0"
   ]
  },
  {
   "cell_type": "code",
   "execution_count": 13,
   "metadata": {},
   "outputs": [],
   "source": [
    "path = './Data/force_data'\n",
    "dir_list = os.listdir(path)"
   ]
  },
  {
   "cell_type": "code",
   "execution_count": 26,
   "metadata": {
    "scrolled": true
   },
   "outputs": [
    {
     "name": "stdout",
     "output_type": "stream",
     "text": [
      "Done with 1 out of 136\n",
      "Done with 2 out of 136\n",
      "Done with 3 out of 136\n",
      "Done with 4 out of 136\n",
      "Done with 5 out of 136\n",
      "Done with 6 out of 136\n",
      "Done with 7 out of 136\n",
      "Done with 8 out of 136\n",
      "Done with 9 out of 136\n",
      "Done with 10 out of 136\n",
      "Done with 11 out of 136\n",
      "Done with 12 out of 136\n",
      "Done with 13 out of 136\n",
      "Done with 14 out of 136\n",
      "Done with 15 out of 136\n",
      "Done with 16 out of 136\n",
      "Done with 17 out of 136\n",
      "Done with 18 out of 136\n",
      "Done with 19 out of 136\n",
      "Done with 20 out of 136\n",
      "Done with 21 out of 136\n",
      "Done with 22 out of 136\n",
      "error\n",
      "Done with 23 out of 136\n",
      "Done with 24 out of 136\n",
      "Done with 25 out of 136\n",
      "Done with 26 out of 136\n",
      "Done with 27 out of 136\n",
      "Done with 28 out of 136\n",
      "Done with 29 out of 136\n",
      "Done with 30 out of 136\n",
      "Done with 31 out of 136\n",
      "Done with 32 out of 136\n",
      "Done with 33 out of 136\n",
      "Done with 34 out of 136\n",
      "Done with 35 out of 136\n",
      "Done with 36 out of 136\n",
      "Done with 37 out of 136\n",
      "Done with 38 out of 136\n",
      "Done with 39 out of 136\n",
      "Done with 40 out of 136\n",
      "Done with 41 out of 136\n",
      "Done with 42 out of 136\n",
      "Done with 43 out of 136\n",
      "Done with 44 out of 136\n",
      "Done with 45 out of 136\n",
      "Done with 46 out of 136\n",
      "Done with 47 out of 136\n",
      "Done with 48 out of 136\n",
      "Done with 49 out of 136\n",
      "Done with 50 out of 136\n",
      "Done with 51 out of 136\n",
      "Done with 52 out of 136\n",
      "Done with 53 out of 136\n",
      "Done with 54 out of 136\n",
      "Done with 55 out of 136\n",
      "Done with 56 out of 136\n",
      "Done with 57 out of 136\n",
      "Done with 58 out of 136\n",
      "Done with 59 out of 136\n",
      "Done with 60 out of 136\n",
      "Done with 61 out of 136\n",
      "Done with 62 out of 136\n",
      "Done with 63 out of 136\n",
      "Done with 64 out of 136\n",
      "Done with 65 out of 136\n",
      "Done with 66 out of 136\n",
      "Done with 67 out of 136\n",
      "Done with 68 out of 136\n",
      "Done with 69 out of 136\n",
      "Done with 70 out of 136\n",
      "Done with 71 out of 136\n",
      "Done with 72 out of 136\n",
      "Done with 73 out of 136\n",
      "Done with 74 out of 136\n",
      "Done with 75 out of 136\n",
      "Done with 76 out of 136\n",
      "Done with 77 out of 136\n",
      "Done with 78 out of 136\n",
      "Done with 79 out of 136\n",
      "Done with 80 out of 136\n",
      "Done with 81 out of 136\n",
      "Done with 82 out of 136\n",
      "Done with 83 out of 136\n",
      "Done with 84 out of 136\n",
      "Done with 85 out of 136\n",
      "Done with 86 out of 136\n",
      "Done with 87 out of 136\n",
      "Done with 88 out of 136\n",
      "Done with 89 out of 136\n",
      "Done with 90 out of 136\n",
      "Done with 91 out of 136\n",
      "Done with 92 out of 136\n",
      "Done with 93 out of 136\n",
      "Done with 94 out of 136\n",
      "Done with 95 out of 136\n",
      "Done with 96 out of 136\n",
      "Done with 97 out of 136\n",
      "Done with 98 out of 136\n",
      "Done with 99 out of 136\n",
      "Done with 100 out of 136\n",
      "Done with 101 out of 136\n",
      "Done with 102 out of 136\n",
      "Done with 103 out of 136\n",
      "Done with 104 out of 136\n",
      "Done with 105 out of 136\n",
      "Done with 106 out of 136\n",
      "Done with 107 out of 136\n",
      "Done with 108 out of 136\n",
      "Done with 109 out of 136\n",
      "Done with 110 out of 136\n",
      "Done with 111 out of 136\n",
      "Done with 112 out of 136\n",
      "Done with 113 out of 136\n",
      "Done with 114 out of 136\n",
      "Done with 115 out of 136\n",
      "Done with 116 out of 136\n",
      "Done with 117 out of 136\n",
      "Done with 118 out of 136\n",
      "Done with 119 out of 136\n",
      "Done with 120 out of 136\n",
      "Done with 121 out of 136\n",
      "Done with 122 out of 136\n",
      "Done with 123 out of 136\n",
      "Done with 124 out of 136\n",
      "Done with 125 out of 136\n",
      "Done with 126 out of 136\n",
      "Done with 127 out of 136\n",
      "Done with 128 out of 136\n",
      "Done with 129 out of 136\n",
      "Done with 130 out of 136\n",
      "Done with 131 out of 136\n",
      "Done with 132 out of 136\n",
      "Done with 133 out of 136\n",
      "Done with 134 out of 136\n",
      "Done with 135 out of 136\n",
      "Done with 136 out of 136\n"
     ]
    }
   ],
   "source": [
    "i = 0\n",
    "for direc in dir_list:\n",
    "    try:\n",
    "        file_path_streets = './Data/force_data/' + direc\n",
    "        file_path_outcomes = './Data/force_data/' + direc\n",
    "        file_path_stop_and_search = './Data/force_data/' + direc\n",
    "\n",
    "        df_streets = pd.read_csv(file_path_streets, low_memory=False)\n",
    "        df_outcomes = pd.read_csv(file_path_outcomes, low_memory=False)\n",
    "        df_stop_and_search = pd.read_csv(file_path_stop_and_search, low_memory=False)\n",
    "\n",
    "        streets += df_streets.shape[0]\n",
    "        outcomes += df_outcomes.shape[0]\n",
    "        stop_and_search += df_stop_and_search.shape[0]\n",
    "    except:\n",
    "        print('error')\n",
    "    i+=1\n",
    "    print('Done with ' + str(i) + ' out of ' + str(len(dir_list)))"
   ]
  },
  {
   "cell_type": "code",
   "execution_count": 27,
   "metadata": {
    "scrolled": true
   },
   "outputs": [
    {
     "data": {
      "text/plain": [
       "(132833699, 132833699, 132833699)"
      ]
     },
     "execution_count": 27,
     "metadata": {},
     "output_type": "execute_result"
    }
   ],
   "source": [
    "streets, outcomes, stop_and_search"
   ]
  }
 ],
 "metadata": {
  "kernelspec": {
   "display_name": "Python 3",
   "language": "python",
   "name": "python3"
  },
  "language_info": {
   "codemirror_mode": {
    "name": "ipython",
    "version": 3
   },
   "file_extension": ".py",
   "mimetype": "text/x-python",
   "name": "python",
   "nbconvert_exporter": "python",
   "pygments_lexer": "ipython3",
   "version": "3.8.5"
  }
 },
 "nbformat": 4,
 "nbformat_minor": 4
}
